{
  "nbformat": 4,
  "nbformat_minor": 0,
  "metadata": {
    "colab": {
      "name": "PbsKids.ipynb",
      "provenance": [],
      "machine_shape": "hm",
      "authorship_tag": "ABX9TyMsDKAQ3qFFiNc10yNrKmUA",
      "include_colab_link": true
    },
    "kernelspec": {
      "name": "python3",
      "display_name": "Python 3"
    },
    "accelerator": "GPU"
  },
  "cells": [
    {
      "cell_type": "markdown",
      "metadata": {
        "id": "view-in-github",
        "colab_type": "text"
      },
      "source": [
        "<a href=\"https://colab.research.google.com/github/pahwa1902/LearMachineLearning/blob/master/PbsKids.ipynb\" target=\"_parent\"><img src=\"https://colab.research.google.com/assets/colab-badge.svg\" alt=\"Open In Colab\"/></a>"
      ]
    },
    {
      "cell_type": "code",
      "metadata": {
        "id": "tEB8sW4y4ZCC",
        "colab_type": "code",
        "colab": {}
      },
      "source": [
        "import pandas as pd\n",
        "import datetime\n",
        "from sklearn.preprocessing import MinMaxScaler\n",
        "import numpy as np\n",
        "import ast\n",
        "import json"
      ],
      "execution_count": 0,
      "outputs": []
    },
    {
      "cell_type": "code",
      "metadata": {
        "id": "_Iu86whY4obC",
        "colab_type": "code",
        "colab": {
          "base_uri": "https://localhost:8080/",
          "height": 122
        },
        "outputId": "275996f2-1e0d-4222-80c2-c231d604fdfa"
      },
      "source": [
        "from google.colab import drive\n",
        "drive.mount('/content/drive')"
      ],
      "execution_count": 3,
      "outputs": [
        {
          "output_type": "stream",
          "text": [
            "Go to this URL in a browser: https://accounts.google.com/o/oauth2/auth?client_id=947318989803-6bn6qk8qdgf4n4g3pfee6491hc0brc4i.apps.googleusercontent.com&redirect_uri=urn%3aietf%3awg%3aoauth%3a2.0%3aoob&response_type=code&scope=email%20https%3a%2f%2fwww.googleapis.com%2fauth%2fdocs.test%20https%3a%2f%2fwww.googleapis.com%2fauth%2fdrive%20https%3a%2f%2fwww.googleapis.com%2fauth%2fdrive.photos.readonly%20https%3a%2f%2fwww.googleapis.com%2fauth%2fpeopleapi.readonly\n",
            "\n",
            "Enter your authorization code:\n",
            "··········\n",
            "Mounted at /content/drive\n"
          ],
          "name": "stdout"
        }
      ]
    },
    {
      "cell_type": "code",
      "metadata": {
        "id": "KnJTGYHJ5Cpn",
        "colab_type": "code",
        "colab": {
          "base_uri": "https://localhost:8080/",
          "height": 238
        },
        "outputId": "443dc516-8edc-4d00-b983-f459eb38a3c8"
      },
      "source": [
        "! ls '/content/drive/My Drive/'"
      ],
      "execution_count": 6,
      "outputs": [
        {
          "output_type": "stream",
          "text": [
            "'Colab Notebooks'\n",
            "'Intro to Probability and Stochastic Processes by Dharmaraja.pdf'\n",
            " jkt.gslides\n",
            " ml-25m\n",
            " ppt5.ppt\n",
            " shobhitandchandrakant.pptx\n",
            " specs.csv\n",
            " Stocks\n",
            " test.csv\n",
            " train.csv\n",
            " train_labels.csv\n",
            "'Untitled presentation.gslides'\n",
            " Week4-KNN.gslides\n"
          ],
          "name": "stdout"
        }
      ]
    },
    {
      "cell_type": "code",
      "metadata": {
        "id": "p4PejFr1A3HY",
        "colab_type": "code",
        "colab": {}
      },
      "source": [
        "train = pd.read_csv('/content/drive/My Drive/train.csv')"
      ],
      "execution_count": 0,
      "outputs": []
    },
    {
      "cell_type": "code",
      "metadata": {
        "id": "ng2MtNGcpUtu",
        "colab_type": "code",
        "colab": {
          "base_uri": "https://localhost:8080/",
          "height": 394
        },
        "outputId": "0f90f039-4da6-40ab-9651-922946170b44"
      },
      "source": [
        "train.head()"
      ],
      "execution_count": 4,
      "outputs": [
        {
          "output_type": "execute_result",
          "data": {
            "text/html": [
              "<div>\n",
              "<style scoped>\n",
              "    .dataframe tbody tr th:only-of-type {\n",
              "        vertical-align: middle;\n",
              "    }\n",
              "\n",
              "    .dataframe tbody tr th {\n",
              "        vertical-align: top;\n",
              "    }\n",
              "\n",
              "    .dataframe thead th {\n",
              "        text-align: right;\n",
              "    }\n",
              "</style>\n",
              "<table border=\"1\" class=\"dataframe\">\n",
              "  <thead>\n",
              "    <tr style=\"text-align: right;\">\n",
              "      <th></th>\n",
              "      <th>event_id</th>\n",
              "      <th>game_session</th>\n",
              "      <th>timestamp</th>\n",
              "      <th>event_data</th>\n",
              "      <th>installation_id</th>\n",
              "      <th>event_count</th>\n",
              "      <th>event_code</th>\n",
              "      <th>game_time</th>\n",
              "      <th>title</th>\n",
              "      <th>type</th>\n",
              "      <th>world</th>\n",
              "    </tr>\n",
              "  </thead>\n",
              "  <tbody>\n",
              "    <tr>\n",
              "      <th>0</th>\n",
              "      <td>27253bdc</td>\n",
              "      <td>45bb1e1b6b50c07b</td>\n",
              "      <td>2019-09-06T17:53:46.937Z</td>\n",
              "      <td>{\"event_code\": 2000, \"event_count\": 1}</td>\n",
              "      <td>0001e90f</td>\n",
              "      <td>1</td>\n",
              "      <td>2000</td>\n",
              "      <td>0</td>\n",
              "      <td>Welcome to Lost Lagoon!</td>\n",
              "      <td>Clip</td>\n",
              "      <td>NONE</td>\n",
              "    </tr>\n",
              "    <tr>\n",
              "      <th>1</th>\n",
              "      <td>27253bdc</td>\n",
              "      <td>17eeb7f223665f53</td>\n",
              "      <td>2019-09-06T17:54:17.519Z</td>\n",
              "      <td>{\"event_code\": 2000, \"event_count\": 1}</td>\n",
              "      <td>0001e90f</td>\n",
              "      <td>1</td>\n",
              "      <td>2000</td>\n",
              "      <td>0</td>\n",
              "      <td>Magma Peak - Level 1</td>\n",
              "      <td>Clip</td>\n",
              "      <td>MAGMAPEAK</td>\n",
              "    </tr>\n",
              "    <tr>\n",
              "      <th>2</th>\n",
              "      <td>77261ab5</td>\n",
              "      <td>0848ef14a8dc6892</td>\n",
              "      <td>2019-09-06T17:54:56.302Z</td>\n",
              "      <td>{\"version\":\"1.0\",\"event_count\":1,\"game_time\":0...</td>\n",
              "      <td>0001e90f</td>\n",
              "      <td>1</td>\n",
              "      <td>2000</td>\n",
              "      <td>0</td>\n",
              "      <td>Sandcastle Builder (Activity)</td>\n",
              "      <td>Activity</td>\n",
              "      <td>MAGMAPEAK</td>\n",
              "    </tr>\n",
              "    <tr>\n",
              "      <th>3</th>\n",
              "      <td>b2dba42b</td>\n",
              "      <td>0848ef14a8dc6892</td>\n",
              "      <td>2019-09-06T17:54:56.387Z</td>\n",
              "      <td>{\"description\":\"Let's build a sandcastle! Firs...</td>\n",
              "      <td>0001e90f</td>\n",
              "      <td>2</td>\n",
              "      <td>3010</td>\n",
              "      <td>53</td>\n",
              "      <td>Sandcastle Builder (Activity)</td>\n",
              "      <td>Activity</td>\n",
              "      <td>MAGMAPEAK</td>\n",
              "    </tr>\n",
              "    <tr>\n",
              "      <th>4</th>\n",
              "      <td>1bb5fbdb</td>\n",
              "      <td>0848ef14a8dc6892</td>\n",
              "      <td>2019-09-06T17:55:03.253Z</td>\n",
              "      <td>{\"description\":\"Let's build a sandcastle! Firs...</td>\n",
              "      <td>0001e90f</td>\n",
              "      <td>3</td>\n",
              "      <td>3110</td>\n",
              "      <td>6972</td>\n",
              "      <td>Sandcastle Builder (Activity)</td>\n",
              "      <td>Activity</td>\n",
              "      <td>MAGMAPEAK</td>\n",
              "    </tr>\n",
              "  </tbody>\n",
              "</table>\n",
              "</div>"
            ],
            "text/plain": [
              "   event_id      game_session  ...      type      world\n",
              "0  27253bdc  45bb1e1b6b50c07b  ...      Clip       NONE\n",
              "1  27253bdc  17eeb7f223665f53  ...      Clip  MAGMAPEAK\n",
              "2  77261ab5  0848ef14a8dc6892  ...  Activity  MAGMAPEAK\n",
              "3  b2dba42b  0848ef14a8dc6892  ...  Activity  MAGMAPEAK\n",
              "4  1bb5fbdb  0848ef14a8dc6892  ...  Activity  MAGMAPEAK\n",
              "\n",
              "[5 rows x 11 columns]"
            ]
          },
          "metadata": {
            "tags": []
          },
          "execution_count": 4
        }
      ]
    },
    {
      "cell_type": "code",
      "metadata": {
        "id": "umdIDWGbBn-a",
        "colab_type": "code",
        "colab": {}
      },
      "source": [
        "train_data = pd.DataFrame(train)"
      ],
      "execution_count": 0,
      "outputs": []
    },
    {
      "cell_type": "code",
      "metadata": {
        "id": "7l_nOTJ4z-I-",
        "colab_type": "code",
        "colab": {}
      },
      "source": [
        ""
      ],
      "execution_count": 0,
      "outputs": []
    },
    {
      "cell_type": "code",
      "metadata": {
        "id": "VvAog2OmilWW",
        "colab_type": "code",
        "colab": {
          "base_uri": "https://localhost:8080/",
          "height": 765
        },
        "outputId": "20982dc0-8400-4dff-ac9c-e86cd4f91bef"
      },
      "source": [
        "(set(train_data['title']))"
      ],
      "execution_count": 6,
      "outputs": [
        {
          "output_type": "execute_result",
          "data": {
            "text/plain": [
              "{'12 Monkeys',\n",
              " 'Air Show',\n",
              " 'All Star Sorting',\n",
              " 'Balancing Act',\n",
              " 'Bird Measurer (Assessment)',\n",
              " 'Bottle Filler (Activity)',\n",
              " 'Bubble Bath',\n",
              " 'Bug Measurer (Activity)',\n",
              " 'Cart Balancer (Assessment)',\n",
              " 'Cauldron Filler (Assessment)',\n",
              " 'Chest Sorter (Assessment)',\n",
              " 'Chicken Balancer (Activity)',\n",
              " 'Chow Time',\n",
              " 'Costume Box',\n",
              " 'Crystal Caves - Level 1',\n",
              " 'Crystal Caves - Level 2',\n",
              " 'Crystal Caves - Level 3',\n",
              " 'Crystals Rule',\n",
              " 'Dino Dive',\n",
              " 'Dino Drink',\n",
              " 'Egg Dropper (Activity)',\n",
              " 'Fireworks (Activity)',\n",
              " 'Flower Waterer (Activity)',\n",
              " 'Happy Camel',\n",
              " 'Heavy, Heavier, Heaviest',\n",
              " 'Honey Cake',\n",
              " 'Leaf Leader',\n",
              " 'Lifting Heavy Things',\n",
              " 'Magma Peak - Level 1',\n",
              " 'Magma Peak - Level 2',\n",
              " 'Mushroom Sorter (Assessment)',\n",
              " 'Ordering Spheres',\n",
              " 'Pan Balance',\n",
              " \"Pirate's Tale\",\n",
              " 'Rulers',\n",
              " 'Sandcastle Builder (Activity)',\n",
              " 'Scrub-A-Dub',\n",
              " 'Slop Problem',\n",
              " 'Treasure Map',\n",
              " 'Tree Top City - Level 1',\n",
              " 'Tree Top City - Level 2',\n",
              " 'Tree Top City - Level 3',\n",
              " 'Watering Hole (Activity)',\n",
              " 'Welcome to Lost Lagoon!'}"
            ]
          },
          "metadata": {
            "tags": []
          },
          "execution_count": 6
        }
      ]
    },
    {
      "cell_type": "code",
      "metadata": {
        "id": "lbKUDDOzGTyX",
        "colab_type": "code",
        "colab": {
          "base_uri": "https://localhost:8080/",
          "height": 34
        },
        "outputId": "78ebf65d-dbe3-4709-cde7-0f9755b666e1"
      },
      "source": [
        "train_data[train_data['installation_id']=='0001e90f']['world'].unique()"
      ],
      "execution_count": 7,
      "outputs": [
        {
          "output_type": "execute_result",
          "data": {
            "text/plain": [
              "array(['NONE', 'MAGMAPEAK', 'TREETOPCITY'], dtype=object)"
            ]
          },
          "metadata": {
            "tags": []
          },
          "execution_count": 7
        }
      ]
    },
    {
      "cell_type": "code",
      "metadata": {
        "id": "B1DbQyZjETuu",
        "colab_type": "code",
        "colab": {}
      },
      "source": [
        "label = pd.read_csv('/content/drive/My Drive/train_labels.csv')"
      ],
      "execution_count": 0,
      "outputs": []
    },
    {
      "cell_type": "code",
      "metadata": {
        "id": "xMaVIOL4Edpq",
        "colab_type": "code",
        "colab": {}
      },
      "source": [
        "labels = pd.DataFrame(label)"
      ],
      "execution_count": 0,
      "outputs": []
    },
    {
      "cell_type": "code",
      "metadata": {
        "id": "SO_SFDYeEiE4",
        "colab_type": "code",
        "colab": {
          "base_uri": "https://localhost:8080/",
          "height": 204
        },
        "outputId": "fd211007-0379-4443-e37a-476ab7fb3f68"
      },
      "source": [
        "labels[labels['installation_id']=='0006a69f']"
      ],
      "execution_count": 7,
      "outputs": [
        {
          "output_type": "execute_result",
          "data": {
            "text/html": [
              "<div>\n",
              "<style scoped>\n",
              "    .dataframe tbody tr th:only-of-type {\n",
              "        vertical-align: middle;\n",
              "    }\n",
              "\n",
              "    .dataframe tbody tr th {\n",
              "        vertical-align: top;\n",
              "    }\n",
              "\n",
              "    .dataframe thead th {\n",
              "        text-align: right;\n",
              "    }\n",
              "</style>\n",
              "<table border=\"1\" class=\"dataframe\">\n",
              "  <thead>\n",
              "    <tr style=\"text-align: right;\">\n",
              "      <th></th>\n",
              "      <th>game_session</th>\n",
              "      <th>installation_id</th>\n",
              "      <th>title</th>\n",
              "      <th>num_correct</th>\n",
              "      <th>num_incorrect</th>\n",
              "      <th>accuracy</th>\n",
              "      <th>accuracy_group</th>\n",
              "    </tr>\n",
              "  </thead>\n",
              "  <tbody>\n",
              "    <tr>\n",
              "      <th>0</th>\n",
              "      <td>6bdf9623adc94d89</td>\n",
              "      <td>0006a69f</td>\n",
              "      <td>Mushroom Sorter (Assessment)</td>\n",
              "      <td>1</td>\n",
              "      <td>0</td>\n",
              "      <td>1.0</td>\n",
              "      <td>3</td>\n",
              "    </tr>\n",
              "    <tr>\n",
              "      <th>1</th>\n",
              "      <td>77b8ee947eb84b4e</td>\n",
              "      <td>0006a69f</td>\n",
              "      <td>Bird Measurer (Assessment)</td>\n",
              "      <td>0</td>\n",
              "      <td>11</td>\n",
              "      <td>0.0</td>\n",
              "      <td>0</td>\n",
              "    </tr>\n",
              "    <tr>\n",
              "      <th>2</th>\n",
              "      <td>901acc108f55a5a1</td>\n",
              "      <td>0006a69f</td>\n",
              "      <td>Mushroom Sorter (Assessment)</td>\n",
              "      <td>1</td>\n",
              "      <td>0</td>\n",
              "      <td>1.0</td>\n",
              "      <td>3</td>\n",
              "    </tr>\n",
              "    <tr>\n",
              "      <th>3</th>\n",
              "      <td>9501794defd84e4d</td>\n",
              "      <td>0006a69f</td>\n",
              "      <td>Mushroom Sorter (Assessment)</td>\n",
              "      <td>1</td>\n",
              "      <td>1</td>\n",
              "      <td>0.5</td>\n",
              "      <td>2</td>\n",
              "    </tr>\n",
              "    <tr>\n",
              "      <th>4</th>\n",
              "      <td>a9ef3ecb3d1acc6a</td>\n",
              "      <td>0006a69f</td>\n",
              "      <td>Bird Measurer (Assessment)</td>\n",
              "      <td>1</td>\n",
              "      <td>0</td>\n",
              "      <td>1.0</td>\n",
              "      <td>3</td>\n",
              "    </tr>\n",
              "  </tbody>\n",
              "</table>\n",
              "</div>"
            ],
            "text/plain": [
              "       game_session installation_id  ... accuracy  accuracy_group\n",
              "0  6bdf9623adc94d89        0006a69f  ...      1.0               3\n",
              "1  77b8ee947eb84b4e        0006a69f  ...      0.0               0\n",
              "2  901acc108f55a5a1        0006a69f  ...      1.0               3\n",
              "3  9501794defd84e4d        0006a69f  ...      0.5               2\n",
              "4  a9ef3ecb3d1acc6a        0006a69f  ...      1.0               3\n",
              "\n",
              "[5 rows x 7 columns]"
            ]
          },
          "metadata": {
            "tags": []
          },
          "execution_count": 7
        }
      ]
    },
    {
      "cell_type": "code",
      "metadata": {
        "id": "rqv6Dj6-JuO8",
        "colab_type": "code",
        "colab": {
          "base_uri": "https://localhost:8080/",
          "height": 173
        },
        "outputId": "6348c085-2dd1-4d23-bf66-52c0daf771d0"
      },
      "source": [
        "#data = train_data[train_data['installation_id']=='00abaee7']\n",
        "train_data[train_data['event_id']=='cfbd47c8']['event_data'].unique()"
      ],
      "execution_count": 28,
      "outputs": [
        {
          "output_type": "execute_result",
          "data": {
            "text/plain": [
              "array(['{\"weight\":1,\"source\":\"resources\",\"resources\":[3,3,1],\"coordinates\":{\"x\":298,\"y\":695,\"stage_width\":1015,\"stage_height\":762},\"round\":1,\"event_count\":13,\"game_time\":14435,\"event_code\":4030}',\n",
              "       '{\"weight\":3,\"source\":\"resources\",\"resources\":[1,3,1],\"coordinates\":{\"x\":448,\"y\":695,\"stage_width\":1015,\"stage_height\":762},\"round\":1,\"event_count\":16,\"game_time\":15952,\"event_code\":4030}',\n",
              "       '{\"weight\":3,\"source\":\"resources\",\"resources\":[1,1],\"coordinates\":{\"x\":606,\"y\":695,\"stage_width\":1015,\"stage_height\":762},\"round\":1,\"event_count\":21,\"game_time\":18002,\"event_code\":4030}',\n",
              "       ...,\n",
              "       '{\"weight\":3,\"source\":\"scale\",\"resources\":[3,1,1],\"coordinates\":{\"x\":369,\"y\":410,\"stage_width\":1015,\"stage_height\":762},\"round\":1,\"event_count\":39,\"game_time\":37637,\"event_code\":4030}',\n",
              "       '{\"weight\":1,\"source\":\"resources\",\"resources\":[3,3,1],\"coordinates\":{\"x\":602,\"y\":695,\"stage_width\":1015,\"stage_height\":762},\"round\":1,\"event_count\":47,\"game_time\":43704,\"event_code\":4030}',\n",
              "       '{\"weight\":1,\"source\":\"resources\",\"resources\":[3,3,1],\"coordinates\":{\"x\":602,\"y\":695,\"stage_width\":1015,\"stage_height\":762},\"round\":1,\"event_count\":50,\"game_time\":46487,\"event_code\":4030}'],\n",
              "      dtype=object)"
            ]
          },
          "metadata": {
            "tags": []
          },
          "execution_count": 28
        }
      ]
    },
    {
      "cell_type": "code",
      "metadata": {
        "id": "MfyoSIJ1FRlo",
        "colab_type": "code",
        "colab": {
          "base_uri": "https://localhost:8080/",
          "height": 49
        },
        "outputId": "7ffd8759-fc01-400d-af9f-4d8f05eb0d87"
      },
      "source": [
        "#data = train_data[train_data['installation_id']=='00abaee7']\n",
        "#data_asset = data[data['game_session']=='6bdf9623adc94d89']\n",
        "train_data[data['event_id']=='ab3136ba']\n",
        "#data_asset.groupby(['title']).event_id.count()\n"
      ],
      "execution_count": 24,
      "outputs": [
        {
          "output_type": "execute_result",
          "data": {
            "text/html": [
              "<div>\n",
              "<style scoped>\n",
              "    .dataframe tbody tr th:only-of-type {\n",
              "        vertical-align: middle;\n",
              "    }\n",
              "\n",
              "    .dataframe tbody tr th {\n",
              "        vertical-align: top;\n",
              "    }\n",
              "\n",
              "    .dataframe thead th {\n",
              "        text-align: right;\n",
              "    }\n",
              "</style>\n",
              "<table border=\"1\" class=\"dataframe\">\n",
              "  <thead>\n",
              "    <tr style=\"text-align: right;\">\n",
              "      <th></th>\n",
              "      <th>event_id</th>\n",
              "      <th>game_session</th>\n",
              "      <th>timestamp</th>\n",
              "      <th>event_data</th>\n",
              "      <th>installation_id</th>\n",
              "      <th>event_count</th>\n",
              "      <th>event_code</th>\n",
              "      <th>game_time</th>\n",
              "      <th>title</th>\n",
              "      <th>type</th>\n",
              "      <th>world</th>\n",
              "    </tr>\n",
              "  </thead>\n",
              "  <tbody>\n",
              "  </tbody>\n",
              "</table>\n",
              "</div>"
            ],
            "text/plain": [
              "Empty DataFrame\n",
              "Columns: [event_id, game_session, timestamp, event_data, installation_id, event_count, event_code, game_time, title, type, world]\n",
              "Index: []"
            ]
          },
          "metadata": {
            "tags": []
          },
          "execution_count": 24
        }
      ]
    },
    {
      "cell_type": "code",
      "metadata": {
        "id": "Aai2ISszukAv",
        "colab_type": "code",
        "colab": {
          "base_uri": "https://localhost:8080/",
          "height": 34
        },
        "outputId": "eb60296d-241c-474e-fee1-1448849c48da"
      },
      "source": [
        "len(train_data['title'].unique())"
      ],
      "execution_count": 28,
      "outputs": [
        {
          "output_type": "execute_result",
          "data": {
            "text/plain": [
              "44"
            ]
          },
          "metadata": {
            "tags": []
          },
          "execution_count": 28
        }
      ]
    },
    {
      "cell_type": "code",
      "metadata": {
        "id": "QUY8XGY1IjDr",
        "colab_type": "code",
        "colab": {}
      },
      "source": [
        "event = pd.read_csv('/content/drive/My Drive/specs.csv')"
      ],
      "execution_count": 0,
      "outputs": []
    },
    {
      "cell_type": "code",
      "metadata": {
        "id": "VuT_Nyy0JlJ7",
        "colab_type": "code",
        "colab": {}
      },
      "source": [
        "event_data = pd.DataFrame(event)"
      ],
      "execution_count": 0,
      "outputs": []
    },
    {
      "cell_type": "code",
      "metadata": {
        "id": "XarrLzlquy0u",
        "colab_type": "code",
        "colab": {
          "base_uri": "https://localhost:8080/",
          "height": 51
        },
        "outputId": "f045a75d-58f4-4ef1-f044-1413ccbf697f"
      },
      "source": [
        "event_data[event_data['event_id']=='cfbd47c8']['info']"
      ],
      "execution_count": 21,
      "outputs": [
        {
          "output_type": "execute_result",
          "data": {
            "text/plain": [
              "331    This event occurs when the player clicks to pi...\n",
              "Name: info, dtype: object"
            ]
          },
          "metadata": {
            "tags": []
          },
          "execution_count": 21
        }
      ]
    },
    {
      "cell_type": "code",
      "metadata": {
        "id": "jZs4AE5hI1su",
        "colab_type": "code",
        "colab": {
          "base_uri": "https://localhost:8080/",
          "height": 34
        },
        "outputId": "434499e5-00ae-4a8e-ea74-be9c75caa484"
      },
      "source": [
        "len(event)"
      ],
      "execution_count": 22,
      "outputs": [
        {
          "output_type": "execute_result",
          "data": {
            "text/plain": [
              "386"
            ]
          },
          "metadata": {
            "tags": []
          },
          "execution_count": 22
        }
      ]
    },
    {
      "cell_type": "code",
      "metadata": {
        "id": "-_LqqB2cQ7at",
        "colab_type": "code",
        "colab": {}
      },
      "source": [
        "columns = ['installation_id','Total game time','Total Activity time','Total Assessment time','game events','clip events','activity events','assessment type','game sessions','world_TreeTopCity','world_None','world_MagmaPeak','world_CrystalCaves']"
      ],
      "execution_count": 0,
      "outputs": []
    },
    {
      "cell_type": "code",
      "metadata": {
        "id": "Casy6QG7R8Ix",
        "colab_type": "code",
        "colab": {}
      },
      "source": [
        "pbstrain = pd.DataFrame(columns=columns)"
      ],
      "execution_count": 0,
      "outputs": []
    },
    {
      "cell_type": "code",
      "metadata": {
        "id": "8bvtcfZ6TVMD",
        "colab_type": "code",
        "colab": {
          "base_uri": "https://localhost:8080/",
          "height": 119
        },
        "outputId": "77873d08-9815-4e52-f52b-c7c375e2148d"
      },
      "source": [
        "data_user = train_data[train_data['installation_id']=='0006a69f']\n",
        "data_time = data_user.groupby(['type']).game_time.sum()\n",
        "print(data_time)"
      ],
      "execution_count": 13,
      "outputs": [
        {
          "output_type": "stream",
          "text": [
            "type\n",
            "Activity      185450004\n",
            "Assessment      6495310\n",
            "Clip                  0\n",
            "Game          121603005\n",
            "Name: game_time, dtype: int64\n"
          ],
          "name": "stdout"
        }
      ]
    },
    {
      "cell_type": "code",
      "metadata": {
        "id": "O8nZMjU2IwNs",
        "colab_type": "code",
        "colab": {
          "base_uri": "https://localhost:8080/",
          "height": 34
        },
        "outputId": "86b9fa20-789d-4408-92bf-6db70c2fc8fe"
      },
      "source": [
        "user = train_data[train_data['installation_id']=='0006a69f']\n",
        "total_time= user.groupby(['type']).game_time.sum()\n",
        "assessment = user[user['type']=='Assessment']\n",
        "assess_type = assessment['title'].unique()\n",
        "print(assess_type)"
      ],
      "execution_count": 14,
      "outputs": [
        {
          "output_type": "stream",
          "text": [
            "['Mushroom Sorter (Assessment)' 'Bird Measurer (Assessment)']\n"
          ],
          "name": "stdout"
        }
      ]
    },
    {
      "cell_type": "code",
      "metadata": {
        "id": "zWqeRjLWs97d",
        "colab_type": "code",
        "colab": {}
      },
      "source": [
        "def max_count(i,type):\n",
        "  user = train_data[train_data['installation_id']==i]\n",
        "  user[user['type']==type]['event_count'].max()"
      ],
      "execution_count": 0,
      "outputs": []
    },
    {
      "cell_type": "code",
      "metadata": {
        "id": "C_Hb_qTyeV0n",
        "colab_type": "code",
        "colab": {}
      },
      "source": [
        "gamesession=[]\n",
        "eventcount=[]\n",
        "for i in train_data['installation_id'].unique():\n",
        "  user = train_data[train_data['installation_id']==i]\n",
        " \n",
        "  for j in user['title'].unique():\n",
        "    user_title = user[user['title']==j]\n",
        "    data_game = len(user_title['game_session'].unique())\n",
        "    data_count = user[user['title']==j]['event_count'].max()\n",
        "    gamesession.append(data_game)\n",
        "    eventcount.append(data_count)\n",
        "    "
      ],
      "execution_count": 0,
      "outputs": []
    },
    {
      "cell_type": "code",
      "metadata": {
        "id": "FkUhbZ4YzJp0",
        "colab_type": "code",
        "colab": {
          "base_uri": "https://localhost:8080/",
          "height": 34
        },
        "outputId": "6d7ec93c-416d-4cb8-f0aa-6f6a307afe50"
      },
      "source": [
        "len(train_data)"
      ],
      "execution_count": 16,
      "outputs": [
        {
          "output_type": "execute_result",
          "data": {
            "text/plain": [
              "11341042"
            ]
          },
          "metadata": {
            "tags": []
          },
          "execution_count": 16
        }
      ]
    },
    {
      "cell_type": "code",
      "metadata": {
        "id": "Rv8CaEizw2Kh",
        "colab_type": "code",
        "colab": {}
      },
      "source": [
        "data_session = (train_data.groupby(['installation_id','title']).game_session.unique())"
      ],
      "execution_count": 0,
      "outputs": []
    },
    {
      "cell_type": "code",
      "metadata": {
        "id": "6UIojd3J1jLE",
        "colab_type": "code",
        "colab": {}
      },
      "source": [
        "data_event = (train_data.groupby(['installation_id','title']).event_id.unique())"
      ],
      "execution_count": 0,
      "outputs": []
    },
    {
      "cell_type": "code",
      "metadata": {
        "id": "JesAHIAyE-yA",
        "colab_type": "code",
        "colab": {
          "base_uri": "https://localhost:8080/",
          "height": 238
        },
        "outputId": "53d195fc-27c0-4e2a-b301-9184fea46d2c"
      },
      "source": [
        "print(data_event)"
      ],
      "execution_count": 15,
      "outputs": [
        {
          "output_type": "stream",
          "text": [
            "installation_id  title                        \n",
            "0001e90f         Dino Drink                       [51311d7a, 5be391b5, c6971acf, a29c5338, 6c517...\n",
            "                 Magma Peak - Level 1                                                    [27253bdc]\n",
            "                 Magma Peak - Level 2                                                    [27253bdc]\n",
            "                 Ordering Spheres                                                        [27253bdc]\n",
            "                 Sandcastle Builder (Activity)    [77261ab5, b2dba42b, 1bb5fbdb, 1325467d, 37937...\n",
            "                                                                        ...                        \n",
            "fffc0583         Fireworks (Activity)             [4901243f, beb0a7b9, b88f38da, 02a42007, 88422...\n",
            "                 Magma Peak - Level 2                                                    [27253bdc]\n",
            "                 Ordering Spheres                                                        [27253bdc]\n",
            "                 Tree Top City - Level 2                                                 [27253bdc]\n",
            "                 Tree Top City - Level 3                                                 [27253bdc]\n",
            "Name: event_id, Length: 159732, dtype: object\n"
          ],
          "name": "stdout"
        }
      ]
    },
    {
      "cell_type": "code",
      "metadata": {
        "id": "11xp7lokFfix",
        "colab_type": "code",
        "colab": {}
      },
      "source": [
        "session = pd.DataFrame(data_session)"
      ],
      "execution_count": 0,
      "outputs": []
    },
    {
      "cell_type": "code",
      "metadata": {
        "id": "oMJ9wcM8Gkg6",
        "colab_type": "code",
        "colab": {}
      },
      "source": [
        "event = pd.DataFrame(data_event)"
      ],
      "execution_count": 0,
      "outputs": []
    },
    {
      "cell_type": "code",
      "metadata": {
        "id": "jczvMQfTHlvK",
        "colab_type": "code",
        "colab": {}
      },
      "source": [
        "users = train_data['installation_id'].unique()"
      ],
      "execution_count": 0,
      "outputs": []
    },
    {
      "cell_type": "code",
      "metadata": {
        "id": "vWEOCoOQF_CT",
        "colab_type": "code",
        "colab": {}
      },
      "source": [
        "a = (event.loc['0001e90f'])"
      ],
      "execution_count": 0,
      "outputs": []
    },
    {
      "cell_type": "code",
      "metadata": {
        "id": "cUe3JhKYCfOe",
        "colab_type": "code",
        "colab": {
          "base_uri": "https://localhost:8080/",
          "height": 153
        },
        "outputId": "9249cddc-defe-4fc3-b71c-d4fc26345b47"
      },
      "source": [
        "a.index.tolist()"
      ],
      "execution_count": 53,
      "outputs": [
        {
          "output_type": "execute_result",
          "data": {
            "text/plain": [
              "['Dino Drink',\n",
              " 'Magma Peak - Level 1',\n",
              " 'Magma Peak - Level 2',\n",
              " 'Ordering Spheres',\n",
              " 'Sandcastle Builder (Activity)',\n",
              " 'Scrub-A-Dub',\n",
              " 'Tree Top City - Level 1',\n",
              " 'Welcome to Lost Lagoon!']"
            ]
          },
          "metadata": {
            "tags": []
          },
          "execution_count": 53
        }
      ]
    },
    {
      "cell_type": "code",
      "metadata": {
        "id": "tC-kUn5x2CKA",
        "colab_type": "code",
        "colab": {}
      },
      "source": [
        "features1 = event_data['event_id']+'_event'\n",
        "features2 = event_data['event_id']+'_session'"
      ],
      "execution_count": 0,
      "outputs": []
    },
    {
      "cell_type": "code",
      "metadata": {
        "id": "B5-aRf969pas",
        "colab_type": "code",
        "colab": {
          "base_uri": "https://localhost:8080/",
          "height": 221
        },
        "outputId": "d0de9569-7be6-48db-ae50-8a28ef6837ba"
      },
      "source": [
        "features1"
      ],
      "execution_count": 22,
      "outputs": [
        {
          "output_type": "execute_result",
          "data": {
            "text/plain": [
              "0      2b9272f4_event\n",
              "1      df4fe8b6_event\n",
              "2      3babcb9b_event\n",
              "3      7f0836bf_event\n",
              "4      ab3136ba_event\n",
              "            ...      \n",
              "381    29f54413_event\n",
              "382    06372577_event\n",
              "383    2a444e03_event\n",
              "384    9e6b7fb5_event\n",
              "385    d3640339_event\n",
              "Name: event_id, Length: 386, dtype: object"
            ]
          },
          "metadata": {
            "tags": []
          },
          "execution_count": 22
        }
      ]
    },
    {
      "cell_type": "code",
      "metadata": {
        "id": "_Y4z5XpzEg-R",
        "colab_type": "code",
        "colab": {}
      },
      "source": [
        "eventframe = pd.DataFrame(columns=features1)\n",
        "sessionframe = pd.DataFrame(columns=features2)"
      ],
      "execution_count": 0,
      "outputs": []
    },
    {
      "cell_type": "code",
      "metadata": {
        "id": "Z3YsE-q4-B3v",
        "colab_type": "code",
        "colab": {}
      },
      "source": [
        "features = event_data['event_id']"
      ],
      "execution_count": 0,
      "outputs": []
    },
    {
      "cell_type": "code",
      "metadata": {
        "id": "FD_LG_mUV-8U",
        "colab_type": "code",
        "colab": {
          "base_uri": "https://localhost:8080/",
          "height": 34
        },
        "outputId": "c414a788-4104-4e9d-a87c-7f8732d70813"
      },
      "source": [
        "len(train_data['installation_id'].unique())"
      ],
      "execution_count": 59,
      "outputs": [
        {
          "output_type": "execute_result",
          "data": {
            "text/plain": [
              "17000"
            ]
          },
          "metadata": {
            "tags": []
          },
          "execution_count": 59
        }
      ]
    },
    {
      "cell_type": "code",
      "metadata": {
        "id": "bKjk0nCJJHL_",
        "colab_type": "code",
        "colab": {}
      },
      "source": [
        "for i in features:\n",
        "  for j in train_data['installation_id'].unique():\n",
        "    count_event=[]\n",
        "    count_session=[]\n",
        "    a = data_event.loc[j].index.tolist()\n",
        "    b = data_event.loc[j].index.tolist()\n",
        "    if(i in a):\n",
        "      count_event.append(len((data_event.iloc[i,j].tolist())[0]))\n",
        "    if(i not in a):\n",
        "      count_event.append(0)\n",
        "    if(i in b):\n",
        "      count_session.append(len((data_session.iloc[i,j].tolist())[0]))\n",
        "    if(i not in b):\n",
        "      count_session.append(0)\n",
        "  eventframe[i]=count_event\n",
        "  sessionframe[i]=count_session"
      ],
      "execution_count": 0,
      "outputs": []
    },
    {
      "cell_type": "code",
      "metadata": {
        "id": "qS4RQyToxRN4",
        "colab_type": "code",
        "colab": {}
      },
      "source": [
        "#Total users\n",
        "users=train_data['installation_id'].unique()\n",
        "users = users[:50]"
      ],
      "execution_count": 0,
      "outputs": []
    },
    {
      "cell_type": "code",
      "metadata": {
        "id": "HWTu7j8zJcB2",
        "colab_type": "code",
        "colab": {}
      },
      "source": [
        "train_data['timestamp'] = pd.to_datetime(train_data['timestamp'])"
      ],
      "execution_count": 0,
      "outputs": []
    },
    {
      "cell_type": "code",
      "metadata": {
        "id": "JP0DDFYuHakm",
        "colab_type": "code",
        "colab": {}
      },
      "source": [
        "#Total event time\n",
        "total_event_time=[]\n",
        "game_sessions = []\n",
        "events = []\n",
        "game_events=[]\n",
        "clip_events=[]\n",
        "activity_events=[]\n",
        "treetopcity = []\n",
        "magmapeak=[]\n",
        "crystalcave=[]\n",
        "for i in users:\n",
        "  a = train_data[train_data['installation_id']==i]\n",
        "  max_time = max(a['timestamp'])\n",
        "  min_time = min(a['timestamp'])\n",
        "  b = max_time-min_time\n",
        "  total_event_time.append(b.seconds)\n",
        "  game_sessions.append(a['game_session'].nunique())\n",
        "  events.append(a['event_code'].nunique())\n",
        "  game_events.append(a[a['type']=='Game']['event_code'].nunique())\n",
        "  clip_events.append(a[a['type']=='Clip']['event_code'].nunique())\n",
        "  activity_events.append(a[a['type']=='Activity']['event_code'].nunique())\n",
        "  treetopcity.append(a[a['world']=='TREETOPCITY']['event_code'].nunique())\n",
        "  magmapeak.append(a[a['world']=='MAGMAPEAK']['event_code'].nunique())\n",
        "  crystalcave.append(a[a['world']=='CRYSTALCAVES']['event_code'].nunique())"
      ],
      "execution_count": 0,
      "outputs": []
    },
    {
      "cell_type": "code",
      "metadata": {
        "id": "HBIRoJed_4DL",
        "colab_type": "code",
        "colab": {}
      },
      "source": [
        "treetopcity_time=[]\n",
        "magmapeak_time=[]\n",
        "crystalcave_time=[]\n",
        "avg_eventcount=[]\n",
        "max_eventcount=[]\n",
        "min_eventcount=[]\n",
        "std_eventcount=[]\n",
        "for i in users:\n",
        "  a = train_data[train_data['installation_id']==i]\n",
        "  data_world = a.groupby(['game_session','world']).game_time.max()\n",
        "  data_event = a.groupby(['game_session','world']).event_count.max()\n",
        "  data_world_df = pd.DataFrame(data_world)\n",
        "  data_event_df = pd.DataFrame(data_event)\n",
        "  data_world_df.reset_index(inplace=True)\n",
        "  data_event_df.reset_index(inplace=True)\n",
        "  magma = data_world_df[data_world_df['world']=='MAGMAPEAk']\n",
        "  magmapeak_time.append(sum(magma['game_time']))\n",
        "  treetop = data_world_df[data_world_df['world']=='TREETOPCITY']\n",
        "  treetopcity_time.append(sum(treetop['game_time']))\n",
        "  crystal = data_world_df[data_world_df['world']=='CRYSTALCAVES']\n",
        "  crystalcave_time.append(sum(crystal['game_time']))\n",
        "  max_eventcount.append(max(data_event_df['event_count']))\n",
        "  min_eventcount.append(min(data_event_df['event_count']))\n",
        "  avg_eventcount.append(sum(data_event_df['event_count'])/len(data_event_df))\n",
        "  "
      ],
      "execution_count": 0,
      "outputs": []
    },
    {
      "cell_type": "code",
      "metadata": {
        "id": "Dp39ZlhmeyTj",
        "colab_type": "code",
        "colab": {}
      },
      "source": [
        "avg_eventcount = pd.Series(avg_eventcount)"
      ],
      "execution_count": 0,
      "outputs": []
    },
    {
      "cell_type": "code",
      "metadata": {
        "id": "QxbQ3O-9WYQd",
        "colab_type": "code",
        "colab": {}
      },
      "source": [
        "treetopcity_time = np.array(treetopcity_time).reshape(-1,1)\n",
        "magmapeak_time = np.array(magmapeak_time).reshape(-1,1)\n",
        "crystalcave_time = np.array(crystalcave_time).reshape(-1,1)\n"
      ],
      "execution_count": 0,
      "outputs": []
    },
    {
      "cell_type": "code",
      "metadata": {
        "id": "6xpiKlC_Tgjh",
        "colab_type": "code",
        "colab": {
          "base_uri": "https://localhost:8080/",
          "height": 34
        },
        "outputId": "1ac538e4-daaf-4d40-f5d9-9132916b7ade"
      },
      "source": [
        "game_sessions = pd.Series(game_sessions)\n",
        "events = pd.Series(events)\n",
        "total_event_time = pd.Series(total_event_time)\n",
        "game_events = pd.Series(game_events)\n",
        "clip_events = pd.Series(clip_events)\n",
        "activity_events=pd.Series(activity_events)\n"
      ],
      "execution_count": 48,
      "outputs": [
        {
          "output_type": "execute_result",
          "data": {
            "text/plain": [
              "0.19982063555631474"
            ]
          },
          "metadata": {
            "tags": []
          },
          "execution_count": 48
        }
      ]
    },
    {
      "cell_type": "code",
      "metadata": {
        "id": "osELNqGUftY2",
        "colab_type": "code",
        "colab": {}
      },
      "source": [
        "column_games = train_data['title'].unique().tolist()"
      ],
      "execution_count": 0,
      "outputs": []
    },
    {
      "cell_type": "code",
      "metadata": {
        "id": "uZIX-LUmhiIH",
        "colab_type": "code",
        "colab": {}
      },
      "source": [
        "# game time with respect to each title\n",
        "games_df = []\n",
        "for i in users:\n",
        "  a = train_data[train_data['installation_id']==i]\n",
        "  data_games = a.groupby(['game_session','title']).game_time.max()\n",
        "  data_games_df = pd.DataFrame(data_games)\n",
        "  data_games_df.reset_index(inplace=True)\n",
        "  data = [sum(data_games_df[data_games_df['title']==j]['game_time']) if j in data_games_df['title'].unique().tolist() else 0 for j in column_games]\n",
        "  games_data = {column_games[j]:data[j] for j in range(len(column_games))}\n",
        "  games_df.append(games_data)"
      ],
      "execution_count": 0,
      "outputs": []
    },
    {
      "cell_type": "code",
      "metadata": {
        "id": "f5MWsvEuuFRq",
        "colab_type": "code",
        "colab": {}
      },
      "source": [
        "game_data_df = pd.DataFrame(games_df)\n"
      ],
      "execution_count": 0,
      "outputs": []
    },
    {
      "cell_type": "code",
      "metadata": {
        "id": "4NVnXxaaEXCB",
        "colab_type": "code",
        "colab": {}
      },
      "source": [
        "#avg and max event count\n",
        "avg_event=[]\n",
        "max_event=[]\n",
        "for i in users:\n",
        "  a = train_data[train_data['installation_id']==i]\n",
        "  event = a.groupby(['game_session']).event_id.agg(['size'])\n",
        "  event_df = pd.DataFrame(event)\n",
        "  event_df.reset_index(inplace=True)\n",
        "  avg_event.append(sum(event_df['size'])/len(event_df))\n",
        "  max_event.append(max(event_df['size']))"
      ],
      "execution_count": 0,
      "outputs": []
    },
    {
      "cell_type": "code",
      "metadata": {
        "id": "f4YRHnT-HbPu",
        "colab_type": "code",
        "colab": {}
      },
      "source": [
        "game_time=[]\n",
        "activity_time=[]\n",
        "clip_time=[]\n",
        "max_game_session=[]\n",
        "min_game_session=[]\n",
        "for i in users:\n",
        "  a = train_data[train_data['installation_id']==i]\n",
        "  event_type = a.groupby(['game_session','type']).game_time.max()\n",
        "  game_session_max = a.groupby(['game_session']).game_time.max()\n",
        "  game_session_min = a.groupby(['game_session']).game_time.min()\n",
        "  max_game_session.append(max(game_session_max))\n",
        "  min_game_session.append(min(game_session_min))\n",
        "  event_type_df = pd.DataFrame(event_type)\n",
        "  event_type_df.reset_index(inplace=True)\n",
        "  game = event_type_df[event_type_df['type']=='Game']\n",
        "  game_time.append(sum(game['game_time']))\n",
        "  activity = event_type_df[event_type_df['type']=='Activity']\n",
        "  activity_time.append(sum(activity['game_time']))\n",
        "  clip = event_type_df[event_type_df['type']=='Clip']\n",
        "  clip_time.append(sum(activity['game_time']))"
      ],
      "execution_count": 0,
      "outputs": []
    },
    {
      "cell_type": "code",
      "metadata": {
        "id": "htrVeLMiPYsG",
        "colab_type": "code",
        "colab": {}
      },
      "source": [
        "total_event_time = np.array(total_event_time).reshape(-1,1)\n",
        "scaler = MinMaxScaler()\n",
        "scaler.fit(total_event_time)\n",
        "scaler.transform(total_event_time)"
      ],
      "execution_count": 0,
      "outputs": []
    },
    {
      "cell_type": "code",
      "metadata": {
        "id": "H20uuc_rWqKb",
        "colab_type": "code",
        "colab": {}
      },
      "source": [
        "def total_duration(a):\n",
        "  if('total_duration' in a):\n",
        "    return a[\"total_duration\"]\n",
        "  else:\n",
        "    return 0"
      ],
      "execution_count": 0,
      "outputs": []
    },
    {
      "cell_type": "code",
      "metadata": {
        "id": "VaKff2OIYW1h",
        "colab_type": "code",
        "colab": {}
      },
      "source": [
        "def duration(a):\n",
        "  if('duration' in a):\n",
        "    return a[\"duration\"]\n",
        "  else:\n",
        "    return 0"
      ],
      "execution_count": 0,
      "outputs": []
    },
    {
      "cell_type": "code",
      "metadata": {
        "id": "KtnTs-N9fMS9",
        "colab_type": "code",
        "colab": {}
      },
      "source": [
        "train_data = train_data.reindex(columns=train_data.columns.tolist()+['total_duration','duration'])"
      ],
      "execution_count": 0,
      "outputs": []
    },
    {
      "cell_type": "code",
      "metadata": {
        "id": "Dvihf2hrVwJa",
        "colab_type": "code",
        "colab": {}
      },
      "source": [
        "\n",
        "train_data['total_duration'] = train_data['event_data'].apply(lambda x:total_duration(json.loads(x)))\n",
        "train_data['duration'] = train_data['event_data'].apply(lambda x:duration(json.loads(x)))"
      ],
      "execution_count": 0,
      "outputs": []
    },
    {
      "cell_type": "code",
      "metadata": {
        "id": "cEdV4x2osxC3",
        "colab_type": "code",
        "colab": {}
      },
      "source": [
        "media_duration=[]\n",
        "drag_duration=[]\n",
        "for i in users:\n",
        "  a = train_data[train_data['installation_id']==i]\n",
        "  media_duration.append(sum(a['total_duration']))\n",
        "  drag_duration.append(sum(a['duration']))"
      ],
      "execution_count": 0,
      "outputs": []
    },
    {
      "cell_type": "code",
      "metadata": {
        "id": "e5lJY84iuXdl",
        "colab_type": "code",
        "colab": {}
      },
      "source": [
        "columns_event = event_data['event_id'].tolist()\n",
        "event_columns=[]\n",
        "for i in columns_event:\n",
        "  event_columns.append(i+'_event')"
      ],
      "execution_count": 0,
      "outputs": []
    },
    {
      "cell_type": "code",
      "metadata": {
        "id": "dySPnI4pwpsb",
        "colab_type": "code",
        "colab": {}
      },
      "source": [
        "event_data_columns=[]\n",
        "for i in users:\n",
        "  a = train_data[train_data['installation_id']==i]\n",
        "  data_event = a.groupby(['event_id']).game_time.agg(['max'])\n",
        "  data_event_df = pd.DataFrame(data_event)\n",
        "  data_event_df.reset_index(inplace=True)\n",
        "  data = [data_event_df[data_event_df['event_id']==j]['max'].values if j in data_event_df['event_id'].unique().tolist() else 0 for j in columns_event]\n",
        "  events_data = {event_columns[j]:data[j] for j in range(len(columns_event))}\n",
        "  event_data_columns.append(events_data)"
      ],
      "execution_count": 0,
      "outputs": []
    },
    {
      "cell_type": "code",
      "metadata": {
        "id": "7Z3rNoXU005c",
        "colab_type": "code",
        "colab": {}
      },
      "source": [
        "event_data_df = pd.DataFrame(event_data_columns)"
      ],
      "execution_count": 0,
      "outputs": []
    },
    {
      "cell_type": "code",
      "metadata": {
        "id": "fgYPfSJl4CFp",
        "colab_type": "code",
        "colab": {}
      },
      "source": [
        "frames = [event_data_df,game_data_df,]\n",
        "pd.concat(frames,axis=1)"
      ],
      "execution_count": 0,
      "outputs": []
    },
    {
      "cell_type": "code",
      "metadata": {
        "id": "DC1lZTs41FcD",
        "colab_type": "code",
        "colab": {
          "base_uri": "https://localhost:8080/",
          "height": 423
        },
        "outputId": "6a19c6a7-7e6f-4fb8-a2be-839cee6777de"
      },
      "source": [
        "event_data_df.head()"
      ],
      "execution_count": 44,
      "outputs": [
        {
          "output_type": "execute_result",
          "data": {
            "text/html": [
              "<div>\n",
              "<style scoped>\n",
              "    .dataframe tbody tr th:only-of-type {\n",
              "        vertical-align: middle;\n",
              "    }\n",
              "\n",
              "    .dataframe tbody tr th {\n",
              "        vertical-align: top;\n",
              "    }\n",
              "\n",
              "    .dataframe thead th {\n",
              "        text-align: right;\n",
              "    }\n",
              "</style>\n",
              "<table border=\"1\" class=\"dataframe\">\n",
              "  <thead>\n",
              "    <tr style=\"text-align: right;\">\n",
              "      <th></th>\n",
              "      <th>2b9272f4_event</th>\n",
              "      <th>df4fe8b6_event</th>\n",
              "      <th>3babcb9b_event</th>\n",
              "      <th>7f0836bf_event</th>\n",
              "      <th>ab3136ba_event</th>\n",
              "      <th>bbfe0445_event</th>\n",
              "      <th>bc8f2793_event</th>\n",
              "      <th>33505eae_event</th>\n",
              "      <th>cdd22e43_event</th>\n",
              "      <th>d88e8f25_event</th>\n",
              "      <th>119b5b02_event</th>\n",
              "      <th>4b5efe37_event</th>\n",
              "      <th>15f99afc_event</th>\n",
              "      <th>3d63345e_event</th>\n",
              "      <th>47026d5f_event</th>\n",
              "      <th>93edfe2e_event</th>\n",
              "      <th>795e4a37_event</th>\n",
              "      <th>56817e2b_event</th>\n",
              "      <th>a1e4395d_event</th>\n",
              "      <th>3afde5dd_event</th>\n",
              "      <th>ecc6157f_event</th>\n",
              "      <th>b7dc8128_event</th>\n",
              "      <th>99abe2bb_event</th>\n",
              "      <th>c277e121_event</th>\n",
              "      <th>6043a2b4_event</th>\n",
              "      <th>28520915_event</th>\n",
              "      <th>1cf54632_event</th>\n",
              "      <th>3dfd4aa4_event</th>\n",
              "      <th>e720d930_event</th>\n",
              "      <th>3ddc79c3_event</th>\n",
              "      <th>1375ccb7_event</th>\n",
              "      <th>8fee50e2_event</th>\n",
              "      <th>bcceccc6_event</th>\n",
              "      <th>d02b7a8e_event</th>\n",
              "      <th>7fd1ac25_event</th>\n",
              "      <th>30614231_event</th>\n",
              "      <th>3d8c61b0_event</th>\n",
              "      <th>a8cc6fec_event</th>\n",
              "      <th>363d3849_event</th>\n",
              "      <th>a8efe47b_event</th>\n",
              "      <th>...</th>\n",
              "      <th>bb3e370b_event</th>\n",
              "      <th>4074bac2_event</th>\n",
              "      <th>67aa2ada_event</th>\n",
              "      <th>884228c8_event</th>\n",
              "      <th>e7561dd2_event</th>\n",
              "      <th>46b50ba8_event</th>\n",
              "      <th>a6d66e51_event</th>\n",
              "      <th>e79f3763_event</th>\n",
              "      <th>b2e5b0f1_event</th>\n",
              "      <th>d06f75b5_event</th>\n",
              "      <th>d2e9262e_event</th>\n",
              "      <th>8d7e386c_event</th>\n",
              "      <th>4a09ace1_event</th>\n",
              "      <th>2fb91ec1_event</th>\n",
              "      <th>611485c5_event</th>\n",
              "      <th>16dffff1_event</th>\n",
              "      <th>28ed704e_event</th>\n",
              "      <th>19967db1_event</th>\n",
              "      <th>4901243f_event</th>\n",
              "      <th>e7e44842_event</th>\n",
              "      <th>a592d54e_event</th>\n",
              "      <th>003cd2ee_event</th>\n",
              "      <th>f32856e4_event</th>\n",
              "      <th>83c6c409_event</th>\n",
              "      <th>6d90d394_event</th>\n",
              "      <th>8d748b58_event</th>\n",
              "      <th>5be391b5_event</th>\n",
              "      <th>38074c54_event</th>\n",
              "      <th>c6971acf_event</th>\n",
              "      <th>5e3ea25a_event</th>\n",
              "      <th>7d5c30a2_event</th>\n",
              "      <th>d2278a3b_event</th>\n",
              "      <th>99ea62f3_event</th>\n",
              "      <th>9c5ef70c_event</th>\n",
              "      <th>7040c096_event</th>\n",
              "      <th>29f54413_event</th>\n",
              "      <th>06372577_event</th>\n",
              "      <th>2a444e03_event</th>\n",
              "      <th>9e6b7fb5_event</th>\n",
              "      <th>d3640339_event</th>\n",
              "    </tr>\n",
              "  </thead>\n",
              "  <tbody>\n",
              "    <tr>\n",
              "      <th>0</th>\n",
              "      <td>7    567463\n",
              "Name: max, dtype: int64</td>\n",
              "      <td>0</td>\n",
              "      <td>0</td>\n",
              "      <td>26    160113\n",
              "Name: max, dtype: int64</td>\n",
              "      <td>0</td>\n",
              "      <td>0</td>\n",
              "      <td>0</td>\n",
              "      <td>0</td>\n",
              "      <td>0</td>\n",
              "      <td>36    543244\n",
              "Name: max, dtype: int64</td>\n",
              "      <td>0</td>\n",
              "      <td>0</td>\n",
              "      <td>0</td>\n",
              "      <td>0</td>\n",
              "      <td>0</td>\n",
              "      <td>0</td>\n",
              "      <td>0</td>\n",
              "      <td>0</td>\n",
              "      <td>0</td>\n",
              "      <td>0</td>\n",
              "      <td>0</td>\n",
              "      <td>0</td>\n",
              "      <td>0</td>\n",
              "      <td>0</td>\n",
              "      <td>0</td>\n",
              "      <td>0</td>\n",
              "      <td>0</td>\n",
              "      <td>0</td>\n",
              "      <td>0</td>\n",
              "      <td>0</td>\n",
              "      <td>0</td>\n",
              "      <td>0</td>\n",
              "      <td>0</td>\n",
              "      <td>0</td>\n",
              "      <td>0</td>\n",
              "      <td>0</td>\n",
              "      <td>0</td>\n",
              "      <td>0</td>\n",
              "      <td>0</td>\n",
              "      <td>0</td>\n",
              "      <td>...</td>\n",
              "      <td>0</td>\n",
              "      <td>0</td>\n",
              "      <td>0</td>\n",
              "      <td>0</td>\n",
              "      <td>0</td>\n",
              "      <td>0</td>\n",
              "      <td>0</td>\n",
              "      <td>0</td>\n",
              "      <td>0</td>\n",
              "      <td>0</td>\n",
              "      <td>0</td>\n",
              "      <td>0</td>\n",
              "      <td>10    438720\n",
              "Name: max, dtype: int64</td>\n",
              "      <td>0</td>\n",
              "      <td>0</td>\n",
              "      <td>2    237969\n",
              "Name: max, dtype: int64</td>\n",
              "      <td>0</td>\n",
              "      <td>0</td>\n",
              "      <td>0</td>\n",
              "      <td>0</td>\n",
              "      <td>0</td>\n",
              "      <td>0</td>\n",
              "      <td>0</td>\n",
              "      <td>0</td>\n",
              "      <td>19    0\n",
              "Name: max, dtype: int64</td>\n",
              "      <td>0</td>\n",
              "      <td>15    10502\n",
              "Name: max, dtype: int64</td>\n",
              "      <td>0</td>\n",
              "      <td>34    12552\n",
              "Name: max, dtype: int64</td>\n",
              "      <td>0</td>\n",
              "      <td>0</td>\n",
              "      <td>0</td>\n",
              "      <td>0</td>\n",
              "      <td>0</td>\n",
              "      <td>20    4205\n",
              "Name: max, dtype: int64</td>\n",
              "      <td>0</td>\n",
              "      <td>0</td>\n",
              "      <td>0</td>\n",
              "      <td>0</td>\n",
              "      <td>0</td>\n",
              "    </tr>\n",
              "    <tr>\n",
              "      <th>1</th>\n",
              "      <td>0</td>\n",
              "      <td>0</td>\n",
              "      <td>0</td>\n",
              "      <td>14    112093\n",
              "Name: max, dtype: int64</td>\n",
              "      <td>0</td>\n",
              "      <td>0</td>\n",
              "      <td>0</td>\n",
              "      <td>0</td>\n",
              "      <td>0</td>\n",
              "      <td>0</td>\n",
              "      <td>0</td>\n",
              "      <td>0</td>\n",
              "      <td>0</td>\n",
              "      <td>0</td>\n",
              "      <td>0</td>\n",
              "      <td>0</td>\n",
              "      <td>0</td>\n",
              "      <td>0</td>\n",
              "      <td>0</td>\n",
              "      <td>0</td>\n",
              "      <td>0</td>\n",
              "      <td>0</td>\n",
              "      <td>0</td>\n",
              "      <td>0</td>\n",
              "      <td>0</td>\n",
              "      <td>0</td>\n",
              "      <td>0</td>\n",
              "      <td>0</td>\n",
              "      <td>0</td>\n",
              "      <td>0</td>\n",
              "      <td>0</td>\n",
              "      <td>0</td>\n",
              "      <td>0</td>\n",
              "      <td>0</td>\n",
              "      <td>0</td>\n",
              "      <td>0</td>\n",
              "      <td>0</td>\n",
              "      <td>0</td>\n",
              "      <td>0</td>\n",
              "      <td>0</td>\n",
              "      <td>...</td>\n",
              "      <td>0</td>\n",
              "      <td>0</td>\n",
              "      <td>0</td>\n",
              "      <td>0</td>\n",
              "      <td>0</td>\n",
              "      <td>0</td>\n",
              "      <td>16    99842\n",
              "Name: max, dtype: int64</td>\n",
              "      <td>0</td>\n",
              "      <td>0</td>\n",
              "      <td>0</td>\n",
              "      <td>20    96482\n",
              "Name: max, dtype: int64</td>\n",
              "      <td>0</td>\n",
              "      <td>0</td>\n",
              "      <td>3    96998\n",
              "Name: max, dtype: int64</td>\n",
              "      <td>0</td>\n",
              "      <td>0    169063\n",
              "Name: max, dtype: int64</td>\n",
              "      <td>0</td>\n",
              "      <td>0</td>\n",
              "      <td>0</td>\n",
              "      <td>22    102360\n",
              "Name: max, dtype: int64</td>\n",
              "      <td>0</td>\n",
              "      <td>0</td>\n",
              "      <td>0</td>\n",
              "      <td>0</td>\n",
              "      <td>0</td>\n",
              "      <td>0</td>\n",
              "      <td>8    2819\n",
              "Name: max, dtype: int64</td>\n",
              "      <td>0</td>\n",
              "      <td>18    4868\n",
              "Name: max, dtype: int64</td>\n",
              "      <td>0</td>\n",
              "      <td>0</td>\n",
              "      <td>0</td>\n",
              "      <td>0</td>\n",
              "      <td>0</td>\n",
              "      <td>0</td>\n",
              "      <td>0</td>\n",
              "      <td>0</td>\n",
              "      <td>0</td>\n",
              "      <td>0</td>\n",
              "      <td>0</td>\n",
              "    </tr>\n",
              "    <tr>\n",
              "      <th>2</th>\n",
              "      <td>30    116990\n",
              "Name: max, dtype: int64</td>\n",
              "      <td>0</td>\n",
              "      <td>40    232249\n",
              "Name: max, dtype: int64</td>\n",
              "      <td>93    100254\n",
              "Name: max, dtype: int64</td>\n",
              "      <td>128    53341\n",
              "Name: max, dtype: int64</td>\n",
              "      <td>138    164673\n",
              "Name: max, dtype: int64</td>\n",
              "      <td>0</td>\n",
              "      <td>0</td>\n",
              "      <td>0</td>\n",
              "      <td>163    105872\n",
              "Name: max, dtype: int64</td>\n",
              "      <td>0</td>\n",
              "      <td>52    2810\n",
              "Name: max, dtype: int64</td>\n",
              "      <td>0</td>\n",
              "      <td>0</td>\n",
              "      <td>0</td>\n",
              "      <td>0</td>\n",
              "      <td>0</td>\n",
              "      <td>0</td>\n",
              "      <td>122    22177\n",
              "Name: max, dtype: int64</td>\n",
              "      <td>0</td>\n",
              "      <td>0</td>\n",
              "      <td>135    0\n",
              "Name: max, dtype: int64</td>\n",
              "      <td>111    5388\n",
              "Name: max, dtype: int64</td>\n",
              "      <td>144    78415\n",
              "Name: max, dtype: int64</td>\n",
              "      <td>72    26003\n",
              "Name: max, dtype: int64</td>\n",
              "      <td>0</td>\n",
              "      <td>22    0\n",
              "Name: max, dtype: int64</td>\n",
              "      <td>44    10210\n",
              "Name: max, dtype: int64</td>\n",
              "      <td>175    229298\n",
              "Name: max, dtype: int64</td>\n",
              "      <td>43    226015\n",
              "Name: max, dtype: int64</td>\n",
              "      <td>9    21967\n",
              "Name: max, dtype: int64</td>\n",
              "      <td>108    31551\n",
              "Name: max, dtype: int64</td>\n",
              "      <td>139    181250\n",
              "Name: max, dtype: int64</td>\n",
              "      <td>155    85732\n",
              "Name: max, dtype: int64</td>\n",
              "      <td>0</td>\n",
              "      <td>0</td>\n",
              "      <td>0</td>\n",
              "      <td>0</td>\n",
              "      <td>37    56839\n",
              "Name: max, dtype: int64</td>\n",
              "      <td>0</td>\n",
              "      <td>...</td>\n",
              "      <td>137    315747\n",
              "Name: max, dtype: int64</td>\n",
              "      <td>0</td>\n",
              "      <td>0</td>\n",
              "      <td>101    1496299\n",
              "Name: max, dtype: int64</td>\n",
              "      <td>0</td>\n",
              "      <td>0</td>\n",
              "      <td>127    107986\n",
              "Name: max, dtype: int64</td>\n",
              "      <td>176    99516\n",
              "Name: max, dtype: int64</td>\n",
              "      <td>0</td>\n",
              "      <td>156    118461\n",
              "Name: max, dtype: int64</td>\n",
              "      <td>159    103944\n",
              "Name: max, dtype: int64</td>\n",
              "      <td>0</td>\n",
              "      <td>50    137524\n",
              "Name: max, dtype: int64</td>\n",
              "      <td>33    106403\n",
              "Name: max, dtype: int64</td>\n",
              "      <td>0</td>\n",
              "      <td>16    115842\n",
              "Name: max, dtype: int64</td>\n",
              "      <td>27    9502\n",
              "Name: max, dtype: int64</td>\n",
              "      <td>0</td>\n",
              "      <td>48    0\n",
              "Name: max, dtype: int64</td>\n",
              "      <td>0</td>\n",
              "      <td>0</td>\n",
              "      <td>0</td>\n",
              "      <td>0</td>\n",
              "      <td>95    10210\n",
              "Name: max, dtype: int64</td>\n",
              "      <td>77    0\n",
              "Name: max, dtype: int64</td>\n",
              "      <td>0</td>\n",
              "      <td>66    3932\n",
              "Name: max, dtype: int64</td>\n",
              "      <td>0</td>\n",
              "      <td>147    5966\n",
              "Name: max, dtype: int64</td>\n",
              "      <td>69    220556\n",
              "Name: max, dtype: int64</td>\n",
              "      <td>91    31123\n",
              "Name: max, dtype: int64</td>\n",
              "      <td>157    0\n",
              "Name: max, dtype: int64</td>\n",
              "      <td>112    15355\n",
              "Name: max, dtype: int64</td>\n",
              "      <td>0</td>\n",
              "      <td>79    2342\n",
              "Name: max, dtype: int64</td>\n",
              "      <td>0</td>\n",
              "      <td>3    12674\n",
              "Name: max, dtype: int64</td>\n",
              "      <td>0</td>\n",
              "      <td>0</td>\n",
              "      <td>0</td>\n",
              "    </tr>\n",
              "    <tr>\n",
              "      <th>3</th>\n",
              "      <td>27    155911\n",
              "Name: max, dtype: int64</td>\n",
              "      <td>0</td>\n",
              "      <td>0</td>\n",
              "      <td>0</td>\n",
              "      <td>115    145652\n",
              "Name: max, dtype: int64</td>\n",
              "      <td>123    258138\n",
              "Name: max, dtype: int64</td>\n",
              "      <td>0</td>\n",
              "      <td>0</td>\n",
              "      <td>136    105840\n",
              "Name: max, dtype: int64</td>\n",
              "      <td>145    144562\n",
              "Name: max, dtype: int64</td>\n",
              "      <td>0</td>\n",
              "      <td>0</td>\n",
              "      <td>0</td>\n",
              "      <td>0</td>\n",
              "      <td>41    76638\n",
              "Name: max, dtype: int64</td>\n",
              "      <td>0</td>\n",
              "      <td>0</td>\n",
              "      <td>54    71138\n",
              "Name: max, dtype: int64</td>\n",
              "      <td>110    51242\n",
              "Name: max, dtype: int64</td>\n",
              "      <td>0</td>\n",
              "      <td>0</td>\n",
              "      <td>0</td>\n",
              "      <td>101    7807\n",
              "Name: max, dtype: int64</td>\n",
              "      <td>0</td>\n",
              "      <td>0</td>\n",
              "      <td>23    12635\n",
              "Name: max, dtype: int64</td>\n",
              "      <td>18    0\n",
              "Name: max, dtype: int64</td>\n",
              "      <td>37    15155\n",
              "Name: max, dtype: int64</td>\n",
              "      <td>0</td>\n",
              "      <td>0</td>\n",
              "      <td>11    199523\n",
              "Name: max, dtype: int64</td>\n",
              "      <td>97    200357\n",
              "Name: max, dtype: int64</td>\n",
              "      <td>0</td>\n",
              "      <td>0</td>\n",
              "      <td>0</td>\n",
              "      <td>29    7754\n",
              "Name: max, dtype: int64</td>\n",
              "      <td>0</td>\n",
              "      <td>0</td>\n",
              "      <td>0</td>\n",
              "      <td>0</td>\n",
              "      <td>...</td>\n",
              "      <td>122    379834\n",
              "Name: max, dtype: int64</td>\n",
              "      <td>0</td>\n",
              "      <td>0</td>\n",
              "      <td>0</td>\n",
              "      <td>0</td>\n",
              "      <td>0</td>\n",
              "      <td>0</td>\n",
              "      <td>153    76156\n",
              "Name: max, dtype: int64</td>\n",
              "      <td>0</td>\n",
              "      <td>139    72849\n",
              "Name: max, dtype: int64</td>\n",
              "      <td>0</td>\n",
              "      <td>0</td>\n",
              "      <td>45    107975\n",
              "Name: max, dtype: int64</td>\n",
              "      <td>0</td>\n",
              "      <td>0</td>\n",
              "      <td>0</td>\n",
              "      <td>25    14441\n",
              "Name: max, dtype: int64</td>\n",
              "      <td>0</td>\n",
              "      <td>0</td>\n",
              "      <td>0</td>\n",
              "      <td>113    24611\n",
              "Name: max, dtype: int64</td>\n",
              "      <td>0</td>\n",
              "      <td>0</td>\n",
              "      <td>86    15155\n",
              "Name: max, dtype: int64</td>\n",
              "      <td>68    0\n",
              "Name: max, dtype: int64</td>\n",
              "      <td>0</td>\n",
              "      <td>0</td>\n",
              "      <td>0</td>\n",
              "      <td>0</td>\n",
              "      <td>61    11949\n",
              "Name: max, dtype: int64</td>\n",
              "      <td>82    7427\n",
              "Name: max, dtype: int64</td>\n",
              "      <td>141    0\n",
              "Name: max, dtype: int64</td>\n",
              "      <td>102    17782\n",
              "Name: max, dtype: int64</td>\n",
              "      <td>104    0\n",
              "Name: max, dtype: int64</td>\n",
              "      <td>70    12888\n",
              "Name: max, dtype: int64</td>\n",
              "      <td>0</td>\n",
              "      <td>0</td>\n",
              "      <td>0</td>\n",
              "      <td>0</td>\n",
              "      <td>0</td>\n",
              "    </tr>\n",
              "    <tr>\n",
              "      <th>4</th>\n",
              "      <td>0</td>\n",
              "      <td>0</td>\n",
              "      <td>0</td>\n",
              "      <td>0</td>\n",
              "      <td>22    1681791\n",
              "Name: max, dtype: int64</td>\n",
              "      <td>0</td>\n",
              "      <td>0</td>\n",
              "      <td>0</td>\n",
              "      <td>0</td>\n",
              "      <td>0</td>\n",
              "      <td>0</td>\n",
              "      <td>0</td>\n",
              "      <td>0</td>\n",
              "      <td>0</td>\n",
              "      <td>0</td>\n",
              "      <td>0</td>\n",
              "      <td>0</td>\n",
              "      <td>0</td>\n",
              "      <td>0</td>\n",
              "      <td>0</td>\n",
              "      <td>0</td>\n",
              "      <td>0</td>\n",
              "      <td>0</td>\n",
              "      <td>0</td>\n",
              "      <td>0</td>\n",
              "      <td>0</td>\n",
              "      <td>0</td>\n",
              "      <td>0</td>\n",
              "      <td>0</td>\n",
              "      <td>0</td>\n",
              "      <td>0</td>\n",
              "      <td>0</td>\n",
              "      <td>0</td>\n",
              "      <td>0</td>\n",
              "      <td>0</td>\n",
              "      <td>0</td>\n",
              "      <td>0</td>\n",
              "      <td>0</td>\n",
              "      <td>0</td>\n",
              "      <td>0</td>\n",
              "      <td>...</td>\n",
              "      <td>0</td>\n",
              "      <td>0</td>\n",
              "      <td>0</td>\n",
              "      <td>0</td>\n",
              "      <td>0</td>\n",
              "      <td>0</td>\n",
              "      <td>21    70970\n",
              "Name: max, dtype: int64</td>\n",
              "      <td>0</td>\n",
              "      <td>0</td>\n",
              "      <td>0</td>\n",
              "      <td>28    68189\n",
              "Name: max, dtype: int64</td>\n",
              "      <td>0</td>\n",
              "      <td>0</td>\n",
              "      <td>6    69183\n",
              "Name: max, dtype: int64</td>\n",
              "      <td>0</td>\n",
              "      <td>0</td>\n",
              "      <td>0</td>\n",
              "      <td>0</td>\n",
              "      <td>0</td>\n",
              "      <td>0</td>\n",
              "      <td>0</td>\n",
              "      <td>0</td>\n",
              "      <td>0</td>\n",
              "      <td>0</td>\n",
              "      <td>0</td>\n",
              "      <td>0</td>\n",
              "      <td>0</td>\n",
              "      <td>0</td>\n",
              "      <td>0</td>\n",
              "      <td>0</td>\n",
              "      <td>15    8920\n",
              "Name: max, dtype: int64</td>\n",
              "      <td>0</td>\n",
              "      <td>0</td>\n",
              "      <td>0</td>\n",
              "      <td>0</td>\n",
              "      <td>0</td>\n",
              "      <td>0</td>\n",
              "      <td>0</td>\n",
              "      <td>0</td>\n",
              "      <td>29    1684228\n",
              "Name: max, dtype: int64</td>\n",
              "    </tr>\n",
              "  </tbody>\n",
              "</table>\n",
              "<p>5 rows × 386 columns</p>\n",
              "</div>"
            ],
            "text/plain": [
              "                         2b9272f4_event  ...                         d3640339_event\n",
              "0   7    567463\n",
              "Name: max, dtype: int64  ...                                      0\n",
              "1                                     0  ...                                      0\n",
              "2  30    116990\n",
              "Name: max, dtype: int64  ...                                      0\n",
              "3  27    155911\n",
              "Name: max, dtype: int64  ...                                      0\n",
              "4                                     0  ...  29    1684228\n",
              "Name: max, dtype: int64\n",
              "\n",
              "[5 rows x 386 columns]"
            ]
          },
          "metadata": {
            "tags": []
          },
          "execution_count": 44
        }
      ]
    },
    {
      "cell_type": "code",
      "metadata": {
        "id": "xjeVguf-Sk6z",
        "colab_type": "code",
        "colab": {}
      },
      "source": [
        "for i in train_data['installation_id'].unique():\n",
        "  user = train_data[train_data['installation_id']==i]\n",
        "  total_time= user.groupby(['type']).game_time.sum()\n",
        "  assessment = user[user['type']=='Assessment']\n",
        "  assess_type = assessment['title'].unique()\n",
        "  assess = ['Mushroom','Bird','Cart','Chest','Cauldron']\n",
        "  \n",
        "  \n",
        "  dict_user = {'installation_id':i,'Total game time':total_time.values[3],'Total Activity time':total_time.values[0],'Total Assessment time':total_time.values[1],'game events':len(user[user['type']=='Game']['event_id']),'clip events':len(user[user['type']=='Clip']['event_id']),'activity events':len(user[user['type']=='Activity']['event_id'])\n",
        "  'assessment_type':,'game sessions':len(user['game_session'].unique(),'world_TreeTopcity':len(user['world']=='TREETOPCITY'),'world_None':len(user['world']=='NONE'),'world_MagmaPeak':len(user['world']=='MAGMAPEAK'),'world_CrystalCaves':len(user['world']=='CRYSTALCAVES')}\n",
        "  pbstrain.append()"
      ],
      "execution_count": 0,
      "outputs": []
    }
  ]
}