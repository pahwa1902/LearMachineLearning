{
  "nbformat": 4,
  "nbformat_minor": 0,
  "metadata": {
    "colab": {
      "name": "MachineLearningProject.ipynb",
      "provenance": [],
      "include_colab_link": true
    },
    "kernelspec": {
      "name": "python3",
      "display_name": "Python 3"
    }
  },
  "cells": [
    {
      "cell_type": "markdown",
      "metadata": {
        "id": "view-in-github",
        "colab_type": "text"
      },
      "source": [
        "<a href=\"https://colab.research.google.com/github/pahwa1902/LearMachineLearning/blob/master/MachineLearningProject.ipynb\" target=\"_parent\"><img src=\"https://colab.research.google.com/assets/colab-badge.svg\" alt=\"Open In Colab\"/></a>"
      ]
    },
    {
      "cell_type": "code",
      "metadata": {
        "id": "12shzFrBd2Av",
        "colab_type": "code",
        "outputId": "83b52ecd-24d2-4052-a504-54209dd32587",
        "colab": {
          "base_uri": "https://localhost:8080/",
          "height": 119
        }
      },
      "source": [
        "import pandas as pd\n",
        "!git clone https://github.com/pahwa1902/LearMachineLearning.git\n",
        "\n"
      ],
      "execution_count": 0,
      "outputs": [
        {
          "output_type": "stream",
          "text": [
            "Cloning into 'LearMachineLearning'...\n",
            "remote: Enumerating objects: 6, done.\u001b[K\n",
            "remote: Counting objects:  16% (1/6)\u001b[K\rremote: Counting objects:  33% (2/6)\u001b[K\rremote: Counting objects:  50% (3/6)\u001b[K\rremote: Counting objects:  66% (4/6)\u001b[K\rremote: Counting objects:  83% (5/6)\u001b[K\rremote: Counting objects: 100% (6/6)\u001b[K\rremote: Counting objects: 100% (6/6), done.\u001b[K\n",
            "remote: Compressing objects:  20% (1/5)\u001b[K\rremote: Compressing objects:  40% (2/5)\u001b[K\rremote: Compressing objects:  60% (3/5)\u001b[K\rremote: Compressing objects:  80% (4/5)\u001b[K\rremote: Compressing objects: 100% (5/5)\u001b[K\rremote: Compressing objects: 100% (5/5), done.\u001b[K\n",
            "Unpacking objects:  16% (1/6)   \rUnpacking objects:  33% (2/6)   \rUnpacking objects:  50% (3/6)   \rUnpacking objects:  66% (4/6)   \rremote: Total 6 (delta 0), reused 0 (delta 0), pack-reused 0\u001b[K\n",
            "Unpacking objects:  83% (5/6)   \rUnpacking objects: 100% (6/6)   \rUnpacking objects: 100% (6/6), done.\n"
          ],
          "name": "stdout"
        }
      ]
    },
    {
      "cell_type": "code",
      "metadata": {
        "id": "tCc11j5N-r7P",
        "colab_type": "code",
        "colab": {}
      },
      "source": [
        "import matplotlib.pyplot as plt"
      ],
      "execution_count": 0,
      "outputs": []
    },
    {
      "cell_type": "code",
      "metadata": {
        "id": "4WhFP8uPlM8i",
        "colab_type": "code",
        "outputId": "d7742f5e-87f5-4d24-ebdf-1034e80e90cc",
        "colab": {
          "base_uri": "https://localhost:8080/",
          "height": 34
        }
      },
      "source": [
        "! ls LearMachineLearning"
      ],
      "execution_count": 0,
      "outputs": [
        {
          "output_type": "stream",
          "text": [
            "HDFCBANK.csv  Untitled6.ipynb\n"
          ],
          "name": "stdout"
        }
      ]
    },
    {
      "cell_type": "code",
      "metadata": {
        "id": "mBtvAPPdlxU-",
        "colab_type": "code",
        "colab": {}
      },
      "source": [
        "data = pd.read_csv(\"LearMachineLearning/HDFCBANK.csv\")"
      ],
      "execution_count": 0,
      "outputs": []
    },
    {
      "cell_type": "code",
      "metadata": {
        "id": "uHXfakT7l_Jf",
        "colab_type": "code",
        "outputId": "4a044015-255a-40b4-a636-719d407710cf",
        "colab": {
          "base_uri": "https://localhost:8080/",
          "height": 102
        }
      },
      "source": [
        "data_pd = pd.DataFrame(data)\n",
        "data_pd.head()\n",
        "print(data_pd.columns)\n",
        "data_pd['avgprice'] = data_pd['Average Price']\n",
        "data_pd['volume'] = data_pd['Total Traded Quantity']\n",
        "data_pd['totaltraded'] = data_pd['Total Traded Quantity']"
      ],
      "execution_count": 11,
      "outputs": [
        {
          "output_type": "stream",
          "text": [
            "Index(['Symbol', 'Series', 'Date', 'Prev Close', 'Open Price', 'High Price',\n",
            "       'Low Price', 'Last Price', 'Close Price', 'Average Price',\n",
            "       'Total Traded Quantity', 'Turnover', 'No. of Trades', 'Deliverable Qty',\n",
            "       '% Dly Qt to Traded Qty', 'avgprice', 'volume', 'totaltraded'],\n",
            "      dtype='object')\n"
          ],
          "name": "stdout"
        }
      ]
    },
    {
      "cell_type": "code",
      "metadata": {
        "id": "0LzCF5N5nnYr",
        "colab_type": "code",
        "outputId": "100069cf-a6c9-452a-971d-4c1077106dab",
        "colab": {
          "base_uri": "https://localhost:8080/",
          "height": 272
        }
      },
      "source": [
        "data_hd=data_pd[data_pd['Series']==\"EQ\"]\n",
        "mean=data_hd[-90:]['Average Price'].mean()\n",
        "maximum = data_hd[-90:]['Average Price'].max()\n",
        "minimum= data_hd[-90:]['Average Price'].min()\n",
        "index = [i for i in range(len(data_pd))]\n",
        "print(len(index))\n",
        "data_hdfc = pd.DataFrame(data_hd,index)\n",
        "\n",
        "print(data_hdfc)"
      ],
      "execution_count": 12,
      "outputs": [
        {
          "output_type": "stream",
          "text": [
            "609\n",
            "       Symbol Series         Date  ...  avgprice     volume  totaltraded\n",
            "0    HDFCBANK     EQ  15-May-2017  ...   1550.73   701195.0     701195.0\n",
            "1         NaN    NaN          NaN  ...       NaN        NaN          NaN\n",
            "2    HDFCBANK     EQ  16-May-2017  ...   1555.11   897594.0     897594.0\n",
            "3    HDFCBANK     EQ  17-May-2017  ...   1557.51   868118.0     868118.0\n",
            "4         NaN    NaN          NaN  ...       NaN        NaN          NaN\n",
            "..        ...    ...          ...  ...       ...        ...          ...\n",
            "604  HDFCBANK     EQ  07-May-2019  ...   2338.90  2481051.0    2481051.0\n",
            "605  HDFCBANK     EQ  08-May-2019  ...   2304.51  3016052.0    3016052.0\n",
            "606  HDFCBANK     EQ  09-May-2019  ...   2287.67  2256931.0    2256931.0\n",
            "607  HDFCBANK     EQ  10-May-2019  ...   2306.93  2648550.0    2648550.0\n",
            "608  HDFCBANK     EQ  13-May-2019  ...   2297.73  2767908.0    2767908.0\n",
            "\n",
            "[609 rows x 18 columns]\n"
          ],
          "name": "stdout"
        }
      ]
    },
    {
      "cell_type": "code",
      "metadata": {
        "id": "Lk6q26n028St",
        "colab_type": "code",
        "outputId": "6d51e395-b335-4f06-ba95-62dba8de6817",
        "colab": {
          "base_uri": "https://localhost:8080/",
          "height": 34
        }
      },
      "source": [
        "\n",
        "data_hdfc['Date'] = pd.to_datetime(data_hdfc['Date'])\n",
        "print(data_hdfc['Date'].dtype)"
      ],
      "execution_count": 15,
      "outputs": [
        {
          "output_type": "stream",
          "text": [
            "datetime64[ns]\n"
          ],
          "name": "stdout"
        }
      ]
    },
    {
      "cell_type": "code",
      "metadata": {
        "id": "ooHQOHck96Ca",
        "colab_type": "code",
        "colab": {}
      },
      "source": [
        "data_hdfc = data_hdfc.dropna()\n",
        "data_hdfc = data_hdfc.reset_index(drop=True)\n"
      ],
      "execution_count": 0,
      "outputs": []
    },
    {
      "cell_type": "code",
      "metadata": {
        "id": "h46gPDScBnyN",
        "colab_type": "code",
        "colab": {}
      },
      "source": [
        "date = data_hdfc['Date']\n",
        "month = []\n",
        "year = []\n",
        "for i in range(0,len(data_hdfc)):\n",
        "  \n",
        "  datee = date[i].split(\"-\")\n",
        "  month.append(datee[1])\n",
        "  year.append(datee[2])\n",
        "data_hdfc['month'] = month\n",
        "data_hdfc['year'] = year"
      ],
      "execution_count": 0,
      "outputs": []
    },
    {
      "cell_type": "code",
      "metadata": {
        "id": "2xf514oglJAK",
        "colab_type": "code",
        "outputId": "847e3df4-ef2b-4f95-b1d8-4aaa071a54c3",
        "colab": {
          "base_uri": "https://localhost:8080/",
          "height": 323
        }
      },
      "source": [
        "data_hdfc['pricevolume'] = data_hdfc['avgprice']*data_hdfc['volume']\n",
        "\n",
        "data_hdf = data_hdfc.groupby(['year','month']).pricevolume.agg([sum])\n",
        "data_hdf['vol'] = data_hdfc.groupby(['year','month']).volume.agg([sum])\n",
        "data_hdf['vwap'] = data_hdf['sum']/data_hdf['vol']\n",
        "print(data_hdf)"
      ],
      "execution_count": 39,
      "outputs": [
        {
          "output_type": "stream",
          "text": [
            "                     sum         vol         vwap\n",
            "year month                                       \n",
            "2018 Aug    1.077925e+11  51416350.0  2096.463573\n",
            "     Dec    9.979939e+10  47497880.0  2101.133629\n",
            "     Feb    5.218904e+10  27602788.0  1890.716324\n",
            "     Jan    6.878462e+10  35760436.0  1923.483737\n",
            "     Jul    1.100811e+11  51000163.0  2158.446639\n",
            "     Jun    1.785253e+11  85691101.0  2083.359050\n",
            "     Mar    5.284261e+10  28352209.0  1863.791575\n",
            "     May    8.025579e+10  39518909.0  2030.820000\n",
            "     Nov    1.376557e+11  68777510.0  2001.463649\n",
            "     Oct    1.628201e+11  82731593.0  1968.051768\n",
            "     Sep    1.106056e+11  55430133.0  1995.405673\n",
            "2019 Apr    1.754716e+11  77276083.0  2270.709955\n",
            "     Feb    9.110229e+10  43148609.0  2111.360923\n",
            "     Jan    1.158254e+11  55045470.0  2104.177583\n",
            "     Mar    1.620369e+11  72835637.0  2224.692286\n",
            "     May    5.581139e+10  23987720.0  2326.665017\n"
          ],
          "name": "stdout"
        }
      ]
    },
    {
      "cell_type": "code",
      "metadata": {
        "id": "mlDPB0vknzbq",
        "colab_type": "code",
        "colab": {}
      },
      "source": [
        "def avgp(days):\n",
        "  data_days = data_hdfc[-days:]\n",
        "  return sum(data_days['avgprice'])/days\n",
        "\n",
        "def avg(days):\n",
        "  \n",
        "  return (data_days[-1]['Close Price']/data_days[-days]['Close Price']-1)*100"
      ],
      "execution_count": 0,
      "outputs": []
    },
    {
      "cell_type": "code",
      "metadata": {
        "id": "zMSgMJ6WE6CH",
        "colab_type": "code",
        "outputId": "f06a34f7-4326-44fc-8f76-a4245bacceee",
        "colab": {
          "base_uri": "https://localhost:8080/",
          "height": 340
        }
      },
      "source": [
        "closing = data_hdfc['Close Price']\n",
        "data_hdfc['day_perc_change'] = closing.pct_change()\n",
        "data_hdfc['day_perc_change'][0] = 0\n",
        "\n",
        "data_hdfc = data_hdfc.reindex(columns=data_hdfc.columns.tolist() + ['trend'])\n",
        "print(data_hdfc)"
      ],
      "execution_count": 18,
      "outputs": [
        {
          "output_type": "stream",
          "text": [
            "       Symbol Series       Date  ...   pricevolume  day_perc_change  trend\n",
            "0    HDFCBANK     EQ 2017-05-15  ...  1.087364e+09         0.000000    NaN\n",
            "1    HDFCBANK     EQ 2017-05-16  ...  1.395857e+09         0.004023    NaN\n",
            "2    HDFCBANK     EQ 2017-05-17  ...  1.352102e+09        -0.001603    NaN\n",
            "3    HDFCBANK     EQ 2017-05-18  ...  1.209501e+09        -0.000032    NaN\n",
            "4    HDFCBANK     EQ 2017-05-19  ...  1.110922e+09         0.002665    NaN\n",
            "..        ...    ...        ...  ...           ...              ...    ...\n",
            "489  HDFCBANK     EQ 2019-05-07  ...  5.802930e+09        -0.002620    NaN\n",
            "490  HDFCBANK     EQ 2019-05-08  ...  6.950522e+09        -0.006502    NaN\n",
            "491  HDFCBANK     EQ 2019-05-09  ...  5.163113e+09        -0.007086    NaN\n",
            "492  HDFCBANK     EQ 2019-05-10  ...  6.110019e+09         0.002444    NaN\n",
            "493  HDFCBANK     EQ 2019-05-13  ...  6.359905e+09        -0.004050    NaN\n",
            "\n",
            "[494 rows x 23 columns]\n"
          ],
          "name": "stdout"
        },
        {
          "output_type": "stream",
          "text": [
            "/usr/local/lib/python3.6/dist-packages/ipykernel_launcher.py:3: SettingWithCopyWarning: \n",
            "A value is trying to be set on a copy of a slice from a DataFrame\n",
            "\n",
            "See the caveats in the documentation: http://pandas.pydata.org/pandas-docs/stable/user_guide/indexing.html#returning-a-view-versus-a-copy\n",
            "  This is separate from the ipykernel package so we can avoid doing imports until\n"
          ],
          "name": "stderr"
        }
      ]
    },
    {
      "cell_type": "code",
      "metadata": {
        "id": "JPMrskYWaUpF",
        "colab_type": "code",
        "outputId": "aaea0f49-1293-4f7b-cc5b-3b4aed7641b2",
        "colab": {
          "base_uri": "https://localhost:8080/",
          "height": 187
        }
      },
      "source": [
        "for i in range(len(data_hdfc)):\n",
        "  if(-0.5<data_hdfc['day_perc_change'][i]<0.5):\n",
        "    data_hdfc['trend'][i]= 'Slight or No change'\n",
        "  if(0.5<data_hdfc['day_perc_change'][i]<1):\n",
        "    data_hdfc['trend'][i]= 'Slight positive'\n",
        "  if(-1<data_hdfc['day_perc_change'][i]<-0.5):\n",
        "    data_hdfc['trend'][i] = 'Slight negative'\n",
        "  if(1<data_hdfc['day_perc_change'][i]<3):\n",
        "    data_hdfc['trend'][i] = 'Positive'\n",
        "  if(-3<data_hdfc['day_perc_change'][i]<-1):\n",
        "    data_hdfc['trend'][i] = 'Negative'\n",
        "  if(3<data_hdfc['day_perc_change'][i]<7):\n",
        "    data_hdfc['trend'][i] = 'Among top gainers'\n",
        "  if(-7<data_hdfc['day_perc_change'][i]<-3):\n",
        "    data_hdfc['trend'][i] = 'Among top losers'\n",
        "  if(data_hdfc['day_perc_change'][i]>7):\n",
        "    data_hdfc['trend'][i] = 'Bull run'\n",
        "  if(data_hdfc['day_perc_change'][i]<-7):\n",
        "    data_hdfc['trend'][i] = 'Bear drop'"
      ],
      "execution_count": 19,
      "outputs": [
        {
          "output_type": "stream",
          "text": [
            "/usr/local/lib/python3.6/dist-packages/ipykernel_launcher.py:3: SettingWithCopyWarning: \n",
            "A value is trying to be set on a copy of a slice from a DataFrame\n",
            "\n",
            "See the caveats in the documentation: http://pandas.pydata.org/pandas-docs/stable/user_guide/indexing.html#returning-a-view-versus-a-copy\n",
            "  This is separate from the ipykernel package so we can avoid doing imports until\n",
            "/usr/local/lib/python3.6/dist-packages/pandas/core/indexing.py:205: SettingWithCopyWarning: \n",
            "A value is trying to be set on a copy of a slice from a DataFrame\n",
            "\n",
            "See the caveats in the documentation: http://pandas.pydata.org/pandas-docs/stable/user_guide/indexing.html#returning-a-view-versus-a-copy\n",
            "  self._setitem_with_indexer(indexer, value)\n"
          ],
          "name": "stderr"
        }
      ]
    },
    {
      "cell_type": "code",
      "metadata": {
        "id": "qB6_dhssFon2",
        "colab_type": "code",
        "outputId": "969e3aef-5528-4657-a1cb-fe6e835be8a9",
        "colab": {
          "base_uri": "https://localhost:8080/",
          "height": 34
        }
      },
      "source": [
        "set(data_hdfc['trend'])"
      ],
      "execution_count": 0,
      "outputs": [
        {
          "output_type": "execute_result",
          "data": {
            "text/plain": [
              "{'Slight or No change'}"
            ]
          },
          "metadata": {
            "tags": []
          },
          "execution_count": 13
        }
      ]
    },
    {
      "cell_type": "code",
      "metadata": {
        "id": "oBuvkm8ECZXs",
        "colab_type": "code",
        "outputId": "daae3390-d5d2-4c7f-a0c0-18e7ddc2d051",
        "colab": {
          "base_uri": "https://localhost:8080/",
          "height": 68
        }
      },
      "source": [
        "data_trend = data_hdfc.groupby('trend').totaltraded.agg(['sum','median'])\n",
        "data_trend['size'] = data_hdfc.groupby('trend').size()\n",
        "data_trend['avg'] = data_trend['sum']/data_trend['size']\n",
        "print(data_trend)"
      ],
      "execution_count": 20,
      "outputs": [
        {
          "output_type": "stream",
          "text": [
            "                              sum     median  size           avg\n",
            "trend                                                           \n",
            "Slight or No change  1.097272e+09  1773904.5   494  2.221199e+06\n"
          ],
          "name": "stdout"
        }
      ]
    },
    {
      "cell_type": "code",
      "metadata": {
        "id": "iB7oq53CHkQ4",
        "colab_type": "code",
        "outputId": "e34c61c4-6ae3-4ce8-cca7-620cb6323ecb",
        "colab": {
          "base_uri": "https://localhost:8080/",
          "height": 34
        }
      },
      "source": [
        "\n",
        "data_hdfc.reset_index(inplace=True)\n",
        "\n",
        "data_hdfc.set_index('Date',inplace=True)\n",
        "print(data_hdfc.index.dtype)"
      ],
      "execution_count": 21,
      "outputs": [
        {
          "output_type": "stream",
          "text": [
            "datetime64[ns]\n"
          ],
          "name": "stdout"
        }
      ]
    },
    {
      "cell_type": "code",
      "metadata": {
        "id": "JI56jW5wBQlF",
        "colab_type": "code",
        "outputId": "ddc6df16-0a9c-4c74-b69f-91d2a90c4e0f",
        "colab": {
          "base_uri": "https://localhost:8080/",
          "height": 387
        }
      },
      "source": [
        "fig, ax = plt.subplots()\n",
        "\n",
        "plt.plot(data_hdfc.index,data_hdfc['Close Price'])\n",
        "#plt.xticks(datee)\n",
        "ax.xaxis_date()\n",
        "fig.autofmt_xdate()\n",
        "plt.show()"
      ],
      "execution_count": 22,
      "outputs": [
        {
          "output_type": "stream",
          "text": [
            "/usr/local/lib/python3.6/dist-packages/pandas/plotting/_matplotlib/converter.py:103: FutureWarning: Using an implicitly registered datetime converter for a matplotlib plotting method. The converter was registered by pandas on import. Future versions of pandas will require you to explicitly register matplotlib converters.\n",
            "\n",
            "To register the converters:\n",
            "\t>>> from pandas.plotting import register_matplotlib_converters\n",
            "\t>>> register_matplotlib_converters()\n",
            "  warnings.warn(msg, FutureWarning)\n"
          ],
          "name": "stderr"
        },
        {
          "output_type": "display_data",
          "data": {
            "image/png": "[encoded data removed]",
            "text/plain": [
              "<Figure size 432x288 with 1 Axes>"
            ]
          },
          "metadata": {
            "tags": []
          }
        }
      ]
    },
    {
      "cell_type": "code",
      "metadata": {
        "id": "RE0S_dPyKUya",
        "colab_type": "code",
        "outputId": "9bbb7805-958c-4ea0-dc3f-1384ac7a0412",
        "colab": {
          "base_uri": "https://localhost:8080/",
          "height": 630
        }
      },
      "source": [
        "fig = plt.figure(figsize=(20,10))\n",
        "#fig, ax = plt.subplots()\n",
        "ax1 = plt.subplot(131)\n",
        "ax1.stem(data_hdfc.index,data_hdfc['day_perc_change'])\n",
        "\n",
        "ax2 = plt.subplot(132)\n",
        "ax2.plot(data_hdfc.index,data_hdfc['volume'])\n",
        "\n",
        "ax1.xaxis_date()\n",
        "ax1.xaxis.set_major_locator(plt.MaxNLocator(15))\n",
        "ax2.xaxis_date()\n",
        "ax2.xaxis.set_major_locator(plt.MaxNLocator(15))\n",
        "fig.autofmt_xdate()\n",
        "plt.show()"
      ],
      "execution_count": 25,
      "outputs": [
        {
          "output_type": "stream",
          "text": [
            "/usr/local/lib/python3.6/dist-packages/ipykernel_launcher.py:4: UserWarning: In Matplotlib 3.3 individual lines on a stem plot will be added as a LineCollection instead of individual lines. This significantly improves the performance of a stem plot. To remove this warning and switch to the new behaviour, set the \"use_line_collection\" keyword argument to True.\n",
            "  after removing the cwd from sys.path.\n"
          ],
          "name": "stderr"
        },
        {
          "output_type": "display_data",
          "data": {
            "image/png": "[encoded data removed]",
            "text/plain": [
              "<Figure size 1440x720 with 2 Axes>"
            ]
          },
          "metadata": {
            "tags": []
          }
        }
      ]
    },
    {
      "cell_type": "code",
      "metadata": {
        "id": "54L3KzxJMTXJ",
        "colab_type": "code",
        "colab": {
          "base_uri": "https://localhost:8080/",
          "height": 336
        },
        "outputId": "fe230352-adc5-47c3-f33d-6a11ce057db1"
      },
      "source": [
        "\n",
        "data_tr= data_hdfc.groupby(['trend']).size().reset_index(name='size')\n",
        "size = []\n",
        "for i in data_hdfc['trend'].unique():\n",
        "  sizee = data_tr[data_tr['trend']==i]\n",
        "  size.append(sizee['size']/len(data_hdfc)*100)\n",
        "\n",
        "plt.pie(size,labels=data_hdfc['trend'].unique())\n"
      ],
      "execution_count": 128,
      "outputs": [
        {
          "output_type": "stream",
          "text": [
            "/usr/local/lib/python3.6/dist-packages/ipykernel_launcher.py:8: MatplotlibDeprecationWarning: Non-1D inputs to pie() are currently squeeze()d, but this behavior is deprecated since 3.1 and will be removed in 3.3; pass a 1D array instead.\n",
            "  \n"
          ],
          "name": "stderr"
        },
        {
          "output_type": "execute_result",
          "data": {
            "text/plain": [
              "([<matplotlib.patches.Wedge at 0x7f87dde2b358>],\n",
              " [Text(-1.1, 1.3471114790620887e-16, 'Slight or No change')])"
            ]
          },
          "metadata": {
            "tags": []
          },
          "execution_count": 128
        },
        {
          "output_type": "display_data",
          "data": {
            "image/png": "[encoded data removed]",
            "text/plain": [
              "<Figure size 432x288 with 1 Axes>"
            ]
          },
          "metadata": {
            "tags": []
          }
        }
      ]
    },
    {
      "cell_type": "code",
      "metadata": {
        "id": "4AETWR3Canyo",
        "colab_type": "code",
        "colab": {
          "base_uri": "https://localhost:8080/",
          "height": 282
        },
        "outputId": "236b2f69-c43f-4fc4-a741-e54deeb1d93b"
      },
      "source": [
        "data_total = data_hdfc.groupby('trend').totaltraded.agg(['sum','median']).reset_index()\n",
        "data_size = data_hdfc.groupby('trend').size().reset_index(name='size')\n",
        "data_total['size'] = data_size['size']\n",
        "data_total['avg'] = data_total['sum']/data_total['size']\n",
        "ax1 = plt.subplot(131)\n",
        "ax1.bar(data_total['trend'],height=data_total['avg'])\n",
        "ax2 = plt.subplot(133)\n",
        "ax2.bar(data_total['trend'],height=data_total['median'],color='green')"
      ],
      "execution_count": 147,
      "outputs": [
        {
          "output_type": "execute_result",
          "data": {
            "text/plain": [
              "<BarContainer object of 1 artists>"
            ]
          },
          "metadata": {
            "tags": []
          },
          "execution_count": 147
        },
        {
          "output_type": "display_data",
          "data": {
            "image/png": "[encoded data removed]",
            "text/plain": [
              "<Figure size 432x288 with 2 Axes>"
            ]
          },
          "metadata": {
            "tags": []
          }
        }
      ]
    }
  ]
}