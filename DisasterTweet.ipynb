{
  "nbformat": 4,
  "nbformat_minor": 0,
  "metadata": {
    "colab": {
      "name": "DisasterTweet.ipynb",
      "provenance": [],
      "authorship_tag": "ABX9TyNo3qEIZQllcTg4kwFxtwXf",
      "include_colab_link": true
    },
    "kernelspec": {
      "name": "python3",
      "display_name": "Python 3"
    },
    "accelerator": "GPU"
  },
  "cells": [
    {
      "cell_type": "markdown",
      "metadata": {
        "id": "view-in-github",
        "colab_type": "text"
      },
      "source": [
        "<a href=\"https://colab.research.google.com/github/pahwa1902/LearMachineLearning/blob/master/DisasterTweet.ipynb\" target=\"_parent\"><img src=\"https://colab.research.google.com/assets/colab-badge.svg\" alt=\"Open In Colab\"/></a>"
      ]
    },
    {
      "cell_type": "code",
      "metadata": {
        "id": "HRd_YohPXF8O",
        "colab_type": "code",
        "outputId": "388696d5-4e5a-48bb-9527-7bb995c8f958",
        "colab": {
          "base_uri": "https://localhost:8080/",
          "height": 122
        }
      },
      "source": [
        "from google.colab import drive\n",
        "drive.mount('/content/drive')"
      ],
      "execution_count": 1,
      "outputs": [
        {
          "output_type": "stream",
          "text": [
            "Go to this URL in a browser: https://accounts.google.com/o/oauth2/auth?client_id=947318989803-6bn6qk8qdgf4n4g3pfee6491hc0brc4i.apps.googleusercontent.com&redirect_uri=urn%3aietf%3awg%3aoauth%3a2.0%3aoob&response_type=code&scope=email%20https%3a%2f%2fwww.googleapis.com%2fauth%2fdocs.test%20https%3a%2f%2fwww.googleapis.com%2fauth%2fdrive%20https%3a%2f%2fwww.googleapis.com%2fauth%2fdrive.photos.readonly%20https%3a%2f%2fwww.googleapis.com%2fauth%2fpeopleapi.readonly\n",
            "\n",
            "Enter your authorization code:\n",
            "··········\n",
            "Mounted at /content/drive\n"
          ],
          "name": "stdout"
        }
      ]
    },
    {
      "cell_type": "code",
      "metadata": {
        "id": "CnogkUR7X5ZU",
        "colab_type": "code",
        "colab": {}
      },
      "source": [
        "import pandas as pd\n",
        "import re\n",
        "import tensorflow as tf\n",
        "import tensorflow_hub as hub\n",
        "from keras.layers import LSTM\n",
        "from tensorflow.keras import layers\n",
        "tf.random.set_random_seed(1)\n",
        "import tensorflow_datasets as tfds\n",
        "from gensim.models import KeyedVectors\n",
        "import numpy as np\n",
        "tf.random.set_random_seed(1)\n",
        "import nltk\n",
        "import string"
      ],
      "execution_count": 0,
      "outputs": []
    },
    {
      "cell_type": "code",
      "metadata": {
        "id": "CNEs2puKXeS2",
        "colab_type": "code",
        "colab": {}
      },
      "source": [
        "! ls '/content/drive/My Drive/nlp-getting-started'"
      ],
      "execution_count": 0,
      "outputs": []
    },
    {
      "cell_type": "code",
      "metadata": {
        "id": "W4ylBAn3XpOU",
        "colab_type": "code",
        "colab": {}
      },
      "source": [
        "data_train = pd.read_csv('/content/drive/My Drive/nlp-getting-started/train.csv')"
      ],
      "execution_count": 0,
      "outputs": []
    },
    {
      "cell_type": "code",
      "metadata": {
        "id": "BtQRxL2yYCOX",
        "colab_type": "code",
        "colab": {}
      },
      "source": [
        "training_data = pd.DataFrame(data_train)"
      ],
      "execution_count": 0,
      "outputs": []
    },
    {
      "cell_type": "code",
      "metadata": {
        "id": "IIifuE4UYLjQ",
        "colab_type": "code",
        "colab": {}
      },
      "source": [
        "training_data.tail()"
      ],
      "execution_count": 0,
      "outputs": []
    },
    {
      "cell_type": "code",
      "metadata": {
        "id": "HpT9daQAYZ6u",
        "colab_type": "code",
        "colab": {}
      },
      "source": [
        "training_data['text'] = training_data['text'].apply(lambda x : re.sub(u'(\\s)@\\w+', u'', x))\n",
        "training_data['text'] = training_data['text'].apply(lambda x : re.sub(u'#', u'', x))\n",
        "training_data['text'] = training_data['text'].apply(lambda x : re.sub(u'http\\S+', u'', x))\n",
        "training_data['text'] = training_data['text'].apply(lambda x : re.sub(u'[?|$|.|!|=>|&|;|:)|+|@|*|-]',u'',x))\n",
        "training_data['text'] = training_data['text'].apply(lambda x : re.sub(u'[0-9]',u'',x))\n",
        "training_data['text'] = training_data['text'].apply(lambda x : re.sub(u'(\\w+):',u'',x))\n",
        "training_data['text'] = training_data['text'].apply(lambda x : re.sub(u'(end\\>)',u'',x))\n",
        "\n",
        "training_data['text'] = training_data['text'].apply(lambda x : x.lower())\n",
        "#training_data['text'] = training_data['text'].apply(lambda x : re.sub(u'(\\'|\\,|\\(|\\))',u'',x))\n",
        "\n",
        "#training_data['text'] = training_data['text'].apply(lambda x : re.sub(u'(\\/)',u' ',x))\n",
        "#training_data['text'] = training_data['text'].apply(lambda x : re.sub(u'()',u' ',x))"
      ],
      "execution_count": 0,
      "outputs": []
    },
    {
      "cell_type": "code",
      "metadata": {
        "id": "ISBnO3u5WPdx",
        "colab_type": "code",
        "outputId": "bc50beb0-f2b3-46d4-80e8-2a86cbc5e1c8",
        "colab": {
          "base_uri": "https://localhost:8080/",
          "height": 51
        }
      },
      "source": [
        "nltk.download('stopwords')\n",
        "from nltk.corpus import stopwords\n",
        "stop = stopwords.words('english')"
      ],
      "execution_count": 114,
      "outputs": [
        {
          "output_type": "stream",
          "text": [
            "[nltk_data] Downloading package stopwords to /root/nltk_data...\n",
            "[nltk_data]   Package stopwords is already up-to-date!\n"
          ],
          "name": "stdout"
        }
      ]
    },
    {
      "cell_type": "code",
      "metadata": {
        "id": "QFIL4vk2WRlk",
        "colab_type": "code",
        "colab": {}
      },
      "source": [
        "training_data['text'] = training_data['text'].apply(lambda x: \" \".join(x for x in x.split() if x not in stop))"
      ],
      "execution_count": 0,
      "outputs": []
    },
    {
      "cell_type": "code",
      "metadata": {
        "id": "WfJsudw2WtZr",
        "colab_type": "code",
        "colab": {}
      },
      "source": [
        "training_data['text']"
      ],
      "execution_count": 0,
      "outputs": []
    },
    {
      "cell_type": "code",
      "metadata": {
        "id": "0uMhzb9oXhoK",
        "colab_type": "code",
        "colab": {}
      },
      "source": [
        "table = str.maketrans('', '', string.punctuation)"
      ],
      "execution_count": 0,
      "outputs": []
    },
    {
      "cell_type": "code",
      "metadata": {
        "id": "Nx-9it9YXjRt",
        "colab_type": "code",
        "colab": {}
      },
      "source": [
        "training_data['text'] = [training_data['text'][row].translate(table) for row in range(len(training_data['text']))]"
      ],
      "execution_count": 0,
      "outputs": []
    },
    {
      "cell_type": "code",
      "metadata": {
        "id": "eSFcfi7ocarZ",
        "colab_type": "code",
        "colab": {}
      },
      "source": [
        "embedding = \"https://tfhub.dev/google/nnlm-en-dim128/1\"\n",
        "hub_layer = hub.KerasLayer(embedding, input_shape=[], \n",
        "                           dtype=tf.string, trainable=True)"
      ],
      "execution_count": 0,
      "outputs": []
    },
    {
      "cell_type": "code",
      "metadata": {
        "id": "GRcoxpuklh34",
        "colab_type": "code",
        "colab": {}
      },
      "source": [
        "summ=[]\n",
        "for i in range(len(training_data)):\n",
        "  a = training_data['text'].iloc[i]\n",
        "  summ+=a.split(' ')"
      ],
      "execution_count": 0,
      "outputs": []
    },
    {
      "cell_type": "code",
      "metadata": {
        "id": "hJz9zXQxHyzE",
        "colab_type": "code",
        "colab": {}
      },
      "source": [
        "print(set(summ))"
      ],
      "execution_count": 0,
      "outputs": []
    },
    {
      "cell_type": "code",
      "metadata": {
        "id": "xMvI_jrKS16j",
        "colab_type": "code",
        "colab": {}
      },
      "source": [
        "training_data = training_data.reindex(columns=training_data.columns.tolist()+['frequency'])"
      ],
      "execution_count": 0,
      "outputs": []
    },
    {
      "cell_type": "code",
      "metadata": {
        "id": "q_gEqyuyM3tg",
        "colab_type": "code",
        "colab": {}
      },
      "source": [
        "def count(a,b):\n",
        "  count=0\n",
        "  for i in b.split(' '):\n",
        "    if (i==a):\n",
        "      count+=1\n",
        "  return count"
      ],
      "execution_count": 0,
      "outputs": []
    },
    {
      "cell_type": "code",
      "metadata": {
        "id": "9Rk4vzFdMRWy",
        "colab_type": "code",
        "colab": {}
      },
      "source": [
        "frequency={}\n",
        "for i in set(summ):\n",
        "  j=0\n",
        "  training_data['frequency']=training_data['text'].apply(lambda x:count(i,x))\n",
        "  frequency[i]=sum(training_data['frequency'])\n"
      ],
      "execution_count": 0,
      "outputs": []
    },
    {
      "cell_type": "code",
      "metadata": {
        "id": "K6xXZEP4eDKO",
        "colab_type": "code",
        "colab": {}
      },
      "source": [
        "frequency"
      ],
      "execution_count": 0,
      "outputs": []
    },
    {
      "cell_type": "code",
      "metadata": {
        "id": "LxRTemprab7Y",
        "colab_type": "code",
        "colab": {}
      },
      "source": [
        "def delete_freq(a):\n",
        "  return [i for i,u in frequency.items() if u==a]"
      ],
      "execution_count": 0,
      "outputs": []
    },
    {
      "cell_type": "code",
      "metadata": {
        "id": "QqSW1btPazGm",
        "colab_type": "code",
        "colab": {}
      },
      "source": [
        "def delete(a):\n",
        "  for i in a:\n",
        "    del frequency[i]\n",
        "  return frequency"
      ],
      "execution_count": 0,
      "outputs": []
    },
    {
      "cell_type": "code",
      "metadata": {
        "id": "-JmTAyf7dT9L",
        "colab_type": "code",
        "colab": {}
      },
      "source": [
        "frequency = delete(delete_freq(1))\n",
        "frequency = delete(delete_freq(2))"
      ],
      "execution_count": 0,
      "outputs": []
    },
    {
      "cell_type": "code",
      "metadata": {
        "id": "g0oy1zZYdtC8",
        "colab_type": "code",
        "colab": {}
      },
      "source": [
        "sorted_frequency = {k: v for k, v in sorted(frequency.items(),reverse=True, key=lambda item: item[1])}"
      ],
      "execution_count": 0,
      "outputs": []
    },
    {
      "cell_type": "code",
      "metadata": {
        "id": "3hU-bCb3d1Xp",
        "colab_type": "code",
        "colab": {}
      },
      "source": [
        "del sorted_frequency['rt']\n",
        "del sorted_frequency['']"
      ],
      "execution_count": 0,
      "outputs": []
    },
    {
      "cell_type": "code",
      "metadata": {
        "id": "bWLWG4O9e8qq",
        "colab_type": "code",
        "colab": {}
      },
      "source": [
        "del sorted_frequency['\\x89û']"
      ],
      "execution_count": 0,
      "outputs": []
    },
    {
      "cell_type": "code",
      "metadata": {
        "id": "0iF3X5TyfMY7",
        "colab_type": "code",
        "colab": {}
      },
      "source": [
        "training_data['text'] = training_data['text'].apply(lambda x : \" \".join(x for x in x.split() if x in sorted_frequency))"
      ],
      "execution_count": 0,
      "outputs": []
    },
    {
      "cell_type": "code",
      "metadata": {
        "id": "uoD97TcEl-kZ",
        "colab_type": "code",
        "colab": {}
      },
      "source": [
        "def char2int(b):\n",
        "  vocab = len(set(b))\n",
        "  dict_vocab = {}\n",
        "  a = list(set(b))\n",
        "  for i in range(vocab):\n",
        "    dict_vocab[a[i]] = i\n",
        "  return dict_vocab,vocab"
      ],
      "execution_count": 0,
      "outputs": []
    },
    {
      "cell_type": "code",
      "metadata": {
        "id": "iBDTT8IDAOog",
        "colab_type": "code",
        "colab": {}
      },
      "source": [
        "#char2id = {u:i for i,u in char2int[0].items()}\n",
        "training_data = training_data.reindex(columns=training_data.columns.tolist()+['text2int'])\n"
      ],
      "execution_count": 0,
      "outputs": []
    },
    {
      "cell_type": "code",
      "metadata": {
        "id": "ucE5YdRZCjS9",
        "colab_type": "code",
        "colab": {}
      },
      "source": [
        "encoder = char2int(summ)[0]\n",
        "vocab_size = char2int(summ)[1]"
      ],
      "execution_count": 0,
      "outputs": []
    },
    {
      "cell_type": "code",
      "metadata": {
        "id": "wK18bJYBBKK9",
        "colab_type": "code",
        "colab": {}
      },
      "source": [
        "training_data['text2int'] = training_data['text'].apply(lambda x : np.array([encoder[c] for c in x.split(' ')]))"
      ],
      "execution_count": 0,
      "outputs": []
    },
    {
      "cell_type": "code",
      "metadata": {
        "id": "gCcqUS-bGuNG",
        "colab_type": "code",
        "colab": {}
      },
      "source": [
        "training_data.head()"
      ],
      "execution_count": 0,
      "outputs": []
    },
    {
      "cell_type": "code",
      "metadata": {
        "id": "6nOjMdN1HG4J",
        "colab_type": "code",
        "colab": {}
      },
      "source": [
        "training_data = training_data.reindex(columns=training_data.columns.tolist()+['length'])\n",
        "training_data['length']=training_data['text2int'].apply(lambda x : len(x))\n",
        "pad_size = max(training_data['length'])\n",
        "training_data['text2int'] = training_data['text2int'].apply(lambda x : np.array(x).tolist() + np.zeros(pad_size-len(x)).tolist())"
      ],
      "execution_count": 0,
      "outputs": []
    },
    {
      "cell_type": "code",
      "metadata": {
        "id": "Z3Pk_aEQlIfI",
        "colab_type": "code",
        "colab": {}
      },
      "source": [
        "\n",
        "train_data = training_data.sample(frac=0.8)\n",
        "training_data_sample = train_data['text2int']\n",
        "train_label = train_data['target']\n",
        "validate_data = training_data.drop(train_data.index,axis=0)\n",
        "validate_data_sample = validate_data['text2int']\n",
        "validate_label = validate_data['target']"
      ],
      "execution_count": 0,
      "outputs": []
    },
    {
      "cell_type": "code",
      "metadata": {
        "id": "IRPak1JFgSIN",
        "colab_type": "code",
        "colab": {}
      },
      "source": [
        "train_data_mod = training_data.iloc[:5700]['text2int']\n",
        "train_label_mod = label[:5700]\n",
        "validate_data_mod = training_data.iloc[5700:]['text2int']\n",
        "validate_label_mod = label[5700:]"
      ],
      "execution_count": 0,
      "outputs": []
    },
    {
      "cell_type": "code",
      "metadata": {
        "id": "6OUJbUrEoDup",
        "colab_type": "code",
        "colab": {}
      },
      "source": [
        "train_data_mod=training_data_sample.tolist()\n",
        "validate_data_mod = validate_data_sample.tolist()"
      ],
      "execution_count": 0,
      "outputs": []
    },
    {
      "cell_type": "code",
      "metadata": {
        "id": "tB2zRVkHmehH",
        "colab_type": "code",
        "colab": {}
      },
      "source": [
        "train_data_mod"
      ],
      "execution_count": 0,
      "outputs": []
    },
    {
      "cell_type": "code",
      "metadata": {
        "id": "flApJd8yIBDA",
        "colab_type": "code",
        "colab": {}
      },
      "source": [
        "columns=[]\n",
        "for i in range(54):\n",
        "  columns.append('v'+str(i))"
      ],
      "execution_count": 0,
      "outputs": []
    },
    {
      "cell_type": "code",
      "metadata": {
        "id": "Wv72BLYHgrOk",
        "colab_type": "code",
        "colab": {}
      },
      "source": [
        "train_dataset_mod = tf.data.Dataset.from_tensor_slices(train_data_mod)"
      ],
      "execution_count": 0,
      "outputs": []
    },
    {
      "cell_type": "code",
      "metadata": {
        "id": "bcX8avc1mznv",
        "colab_type": "code",
        "colab": {}
      },
      "source": [
        "iterator = train_dataset_mod.make_one_shot_iterator()\n",
        "next_element = iterator.get_next()"
      ],
      "execution_count": 0,
      "outputs": []
    },
    {
      "cell_type": "code",
      "metadata": {
        "id": "k-buw_ognrZR",
        "colab_type": "code",
        "colab": {}
      },
      "source": [
        "with tf.Session() as sess:\n",
        "    for i in range(1):\n",
        "        val = sess.run(next_element)\n",
        "        print(val)"
      ],
      "execution_count": 0,
      "outputs": []
    },
    {
      "cell_type": "code",
      "metadata": {
        "id": "r6Zixz4SlGyp",
        "colab_type": "code",
        "colab": {}
      },
      "source": [
        "label_dataset_mod = tf.data.Dataset.from_tensor_slices((train_label))"
      ],
      "execution_count": 0,
      "outputs": []
    },
    {
      "cell_type": "code",
      "metadata": {
        "id": "XloSKwgTlRoc",
        "colab_type": "code",
        "colab": {}
      },
      "source": [
        "train_label_dataset = tf.data.Dataset.zip((train_dataset_mod,label_dataset_mod)).shuffle(1000).repeat(5).batch(64)"
      ],
      "execution_count": 0,
      "outputs": []
    },
    {
      "cell_type": "code",
      "metadata": {
        "id": "vCQwyMnslovM",
        "colab_type": "code",
        "colab": {}
      },
      "source": [
        "validate_dataset_mod = tf.data.Dataset.from_tensor_slices(validate_data_mod)"
      ],
      "execution_count": 0,
      "outputs": []
    },
    {
      "cell_type": "code",
      "metadata": {
        "id": "a7LAC453lwpW",
        "colab_type": "code",
        "colab": {}
      },
      "source": [
        "label_validate_mod = tf.data.Dataset.from_tensor_slices((validate_label))"
      ],
      "execution_count": 0,
      "outputs": []
    },
    {
      "cell_type": "code",
      "metadata": {
        "id": "VYgQJjw8l5BB",
        "colab_type": "code",
        "colab": {}
      },
      "source": [
        "validate_label_dataset = tf.data.Dataset.zip((validate_dataset_mod,validate_dataset_mod)).batch(64)"
      ],
      "execution_count": 0,
      "outputs": []
    },
    {
      "cell_type": "code",
      "metadata": {
        "id": "wbswsf_LqDmY",
        "colab_type": "code",
        "colab": {}
      },
      "source": [
        "train_dataset = tf.data.Dataset.from_tensor_slices((train_data,train_label))\n",
        "#train_label = tf.data.Dataset.from_tensor_slices((label))\n",
        "train_dataset = train_dataset.shuffle(len(train_data))\n",
        "#train_label = train_label.shuffle(len(train_data)).batch(64)\n",
        "\n",
        "validate_dataset = tf.data.Dataset.from_tensor_slices((validate_data,validate_label))\n"
      ],
      "execution_count": 0,
      "outputs": []
    },
    {
      "cell_type": "code",
      "metadata": {
        "id": "FniFlEEJUByr",
        "colab_type": "code",
        "colab": {}
      },
      "source": [
        "def encode(data,label):\n",
        "  encoded_data = np.array([encoder[c] for c in data.split(' ')])\n",
        "  return encoded_data,label"
      ],
      "execution_count": 0,
      "outputs": []
    },
    {
      "cell_type": "code",
      "metadata": {
        "id": "oRVBPXNlWfBy",
        "colab_type": "code",
        "colab": {}
      },
      "source": [
        "def encode_fn(text,label):\n",
        "  return tf.py_function(encode,inp=[text,label],Tout=(tf.int32,tf.int32))"
      ],
      "execution_count": 0,
      "outputs": []
    },
    {
      "cell_type": "code",
      "metadata": {
        "id": "wm67F6RDRSOs",
        "colab_type": "code",
        "colab": {}
      },
      "source": [
        "train_dataset = train_dataset.map(encode_fn)\n",
        "validate_dataset = validate_dataset.map(encode_fn)"
      ],
      "execution_count": 0,
      "outputs": []
    },
    {
      "cell_type": "code",
      "metadata": {
        "id": "aZnpDb8BWyBc",
        "colab_type": "code",
        "colab": {}
      },
      "source": [
        "train_data_new = train_dataset.shuffle(1000).padded_batch(64,padded_shapes=([-1],[]))"
      ],
      "execution_count": 0,
      "outputs": []
    },
    {
      "cell_type": "code",
      "metadata": {
        "id": "iS4ObaJ_SA2u",
        "colab_type": "code",
        "colab": {}
      },
      "source": [
        "validate_data_new = validate_dataset.padded_batch(64,padded_shapes=([-1],[]))"
      ],
      "execution_count": 0,
      "outputs": []
    },
    {
      "cell_type": "code",
      "metadata": {
        "id": "mrTTuT3YySoh",
        "colab_type": "code",
        "colab": {}
      },
      "source": [
        "model = tf.keras.Sequential();\n",
        "model.add(tf.keras.layers.Embedding(vocab_size,64));\n",
        "model.add(tf.keras.layers.Bidirectional(tf.keras.layers.LSTM(1)));\n",
        "model.add(tf.keras.layers.Dense(1, activation='sigmoid'))"
      ],
      "execution_count": 0,
      "outputs": []
    },
    {
      "cell_type": "code",
      "metadata": {
        "id": "3dZNSkmRpY-E",
        "colab_type": "code",
        "colab": {}
      },
      "source": [
        "model.compile(optimizer='adam',loss='binary_crossentropy',metrics=['accuracy'])"
      ],
      "execution_count": 0,
      "outputs": []
    },
    {
      "cell_type": "code",
      "metadata": {
        "id": "tW2IKkBo6efL",
        "colab_type": "code",
        "colab": {}
      },
      "source": [
        "history = model.fit(train_label_dataset,epochs=10,verbose=1,validation_data=validate_label_dataset)"
      ],
      "execution_count": 0,
      "outputs": []
    },
    {
      "cell_type": "code",
      "metadata": {
        "id": "UdoxgEYFaf54",
        "colab_type": "code",
        "colab": {}
      },
      "source": [
        ""
      ],
      "execution_count": 0,
      "outputs": []
    }
  ]
}