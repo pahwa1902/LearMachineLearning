{
  "nbformat": 4,
  "nbformat_minor": 0,
  "metadata": {
    "colab": {
      "name": "Lead_Prediction.ipynb",
      "provenance": [],
      "authorship_tag": "ABX9TyPH8LaEoqVU9lfRL+s9jtYN",
      "include_colab_link": true
    },
    "kernelspec": {
      "name": "python3",
      "display_name": "Python 3"
    }
  },
  "cells": [
    {
      "cell_type": "markdown",
      "metadata": {
        "id": "view-in-github",
        "colab_type": "text"
      },
      "source": [
        "<a href=\"https://colab.research.google.com/github/pahwa1902/MachineLearningProjects/blob/master/Lead_Prediction.ipynb\" target=\"_parent\"><img src=\"https://colab.research.google.com/assets/colab-badge.svg\" alt=\"Open In Colab\"/></a>"
      ]
    },
    {
      "cell_type": "code",
      "metadata": {
        "colab": {
          "base_uri": "https://localhost:8080/"
        },
        "id": "wtvFN0eWkUUn",
        "outputId": "90bb21fa-9458-4745-9a57-25b4ffe5fe38"
      },
      "source": [
        "from google.colab import drive\r\n",
        "drive.mount('/content/drive')"
      ],
      "execution_count": 1,
      "outputs": [
        {
          "output_type": "stream",
          "text": [
            "Mounted at /content/drive\n"
          ],
          "name": "stdout"
        }
      ]
    },
    {
      "cell_type": "code",
      "metadata": {
        "id": "yHVrhgXrlBZ4"
      },
      "source": [
        "import pandas as pd\r\n",
        "import seaborn as sns\r\n",
        "import numpy as np"
      ],
      "execution_count": 42,
      "outputs": []
    },
    {
      "cell_type": "code",
      "metadata": {
        "id": "az6d6PIUlLAD"
      },
      "source": [
        "train_data=pd.read_csv('/content/drive/MyDrive/Analytics_vidhya_hackathon/train.csv')\r\n",
        "test_data=pd.read_csv('/content/drive/MyDrive/Analytics_vidhya_hackathon/test.csv')"
      ],
      "execution_count": 104,
      "outputs": []
    },
    {
      "cell_type": "code",
      "metadata": {
        "colab": {
          "base_uri": "https://localhost:8080/"
        },
        "id": "ReJnt6WTmdGx",
        "outputId": "00ec06fe-644e-4d9c-fbd6-8d0f1f959529"
      },
      "source": [
        "train_data.groupby(['Response']).size()"
      ],
      "execution_count": 20,
      "outputs": [
        {
          "output_type": "execute_result",
          "data": {
            "text/plain": [
              "Response\n",
              "0    38673\n",
              "1    12209\n",
              "dtype: int64"
            ]
          },
          "metadata": {
            "tags": []
          },
          "execution_count": 20
        }
      ]
    },
    {
      "cell_type": "code",
      "metadata": {
        "colab": {
          "base_uri": "https://localhost:8080/"
        },
        "id": "K4ws5em5m2zU",
        "outputId": "393238dd-19e4-44e6-a249-95e916bd0ef0"
      },
      "source": [
        "train_data.index"
      ],
      "execution_count": 80,
      "outputs": [
        {
          "output_type": "execute_result",
          "data": {
            "text/plain": [
              "RangeIndex(start=0, stop=50882, step=1)"
            ]
          },
          "metadata": {
            "tags": []
          },
          "execution_count": 80
        }
      ]
    },
    {
      "cell_type": "code",
      "metadata": {
        "colab": {
          "base_uri": "https://localhost:8080/",
          "height": 456
        },
        "id": "_iT6EV_nsWAG",
        "outputId": "40198053-4326-46af-c1a7-7dff3de282b8"
      },
      "source": [
        "train_data[train_data['Health Indicator'].isnull()]"
      ],
      "execution_count": 56,
      "outputs": [
        {
          "output_type": "execute_result",
          "data": {
            "text/html": [
              "<div>\n",
              "<style scoped>\n",
              "    .dataframe tbody tr th:only-of-type {\n",
              "        vertical-align: middle;\n",
              "    }\n",
              "\n",
              "    .dataframe tbody tr th {\n",
              "        vertical-align: top;\n",
              "    }\n",
              "\n",
              "    .dataframe thead th {\n",
              "        text-align: right;\n",
              "    }\n",
              "</style>\n",
              "<table border=\"1\" class=\"dataframe\">\n",
              "  <thead>\n",
              "    <tr style=\"text-align: right;\">\n",
              "      <th></th>\n",
              "      <th>ID</th>\n",
              "      <th>City_Code</th>\n",
              "      <th>Region_Code</th>\n",
              "      <th>Accomodation_Type</th>\n",
              "      <th>Reco_Insurance_Type</th>\n",
              "      <th>Upper_Age</th>\n",
              "      <th>Lower_Age</th>\n",
              "      <th>Is_Spouse</th>\n",
              "      <th>Health Indicator</th>\n",
              "      <th>Holding_Policy_Duration</th>\n",
              "      <th>Holding_Policy_Type</th>\n",
              "      <th>Reco_Policy_Cat</th>\n",
              "      <th>Reco_Policy_Premium</th>\n",
              "      <th>Response</th>\n",
              "    </tr>\n",
              "  </thead>\n",
              "  <tbody>\n",
              "    <tr>\n",
              "      <th>2</th>\n",
              "      <td>3</td>\n",
              "      <td>C5</td>\n",
              "      <td>3732</td>\n",
              "      <td>Owned</td>\n",
              "      <td>Individual</td>\n",
              "      <td>32</td>\n",
              "      <td>32</td>\n",
              "      <td>No</td>\n",
              "      <td>NaN</td>\n",
              "      <td>1.0</td>\n",
              "      <td>1.0</td>\n",
              "      <td>19</td>\n",
              "      <td>7450.0</td>\n",
              "      <td>1</td>\n",
              "    </tr>\n",
              "    <tr>\n",
              "      <th>6</th>\n",
              "      <td>7</td>\n",
              "      <td>C3</td>\n",
              "      <td>679</td>\n",
              "      <td>Owned</td>\n",
              "      <td>Individual</td>\n",
              "      <td>28</td>\n",
              "      <td>28</td>\n",
              "      <td>No</td>\n",
              "      <td>NaN</td>\n",
              "      <td>NaN</td>\n",
              "      <td>NaN</td>\n",
              "      <td>17</td>\n",
              "      <td>10640.0</td>\n",
              "      <td>0</td>\n",
              "    </tr>\n",
              "    <tr>\n",
              "      <th>9</th>\n",
              "      <td>10</td>\n",
              "      <td>C1</td>\n",
              "      <td>530</td>\n",
              "      <td>Owned</td>\n",
              "      <td>Joint</td>\n",
              "      <td>59</td>\n",
              "      <td>26</td>\n",
              "      <td>Yes</td>\n",
              "      <td>NaN</td>\n",
              "      <td>7.0</td>\n",
              "      <td>4.0</td>\n",
              "      <td>18</td>\n",
              "      <td>21100.8</td>\n",
              "      <td>1</td>\n",
              "    </tr>\n",
              "    <tr>\n",
              "      <th>12</th>\n",
              "      <td>13</td>\n",
              "      <td>C7</td>\n",
              "      <td>3453</td>\n",
              "      <td>Owned</td>\n",
              "      <td>Individual</td>\n",
              "      <td>66</td>\n",
              "      <td>66</td>\n",
              "      <td>No</td>\n",
              "      <td>NaN</td>\n",
              "      <td>1.0</td>\n",
              "      <td>2.0</td>\n",
              "      <td>20</td>\n",
              "      <td>17192.0</td>\n",
              "      <td>1</td>\n",
              "    </tr>\n",
              "    <tr>\n",
              "      <th>19</th>\n",
              "      <td>20</td>\n",
              "      <td>C20</td>\n",
              "      <td>973</td>\n",
              "      <td>Owned</td>\n",
              "      <td>Individual</td>\n",
              "      <td>27</td>\n",
              "      <td>27</td>\n",
              "      <td>No</td>\n",
              "      <td>NaN</td>\n",
              "      <td>NaN</td>\n",
              "      <td>NaN</td>\n",
              "      <td>4</td>\n",
              "      <td>8050.0</td>\n",
              "      <td>0</td>\n",
              "    </tr>\n",
              "    <tr>\n",
              "      <th>...</th>\n",
              "      <td>...</td>\n",
              "      <td>...</td>\n",
              "      <td>...</td>\n",
              "      <td>...</td>\n",
              "      <td>...</td>\n",
              "      <td>...</td>\n",
              "      <td>...</td>\n",
              "      <td>...</td>\n",
              "      <td>...</td>\n",
              "      <td>...</td>\n",
              "      <td>...</td>\n",
              "      <td>...</td>\n",
              "      <td>...</td>\n",
              "      <td>...</td>\n",
              "    </tr>\n",
              "    <tr>\n",
              "      <th>50859</th>\n",
              "      <td>50860</td>\n",
              "      <td>C1</td>\n",
              "      <td>217</td>\n",
              "      <td>Owned</td>\n",
              "      <td>Individual</td>\n",
              "      <td>70</td>\n",
              "      <td>70</td>\n",
              "      <td>No</td>\n",
              "      <td>NaN</td>\n",
              "      <td>6.0</td>\n",
              "      <td>3.0</td>\n",
              "      <td>20</td>\n",
              "      <td>19448.0</td>\n",
              "      <td>0</td>\n",
              "    </tr>\n",
              "    <tr>\n",
              "      <th>50865</th>\n",
              "      <td>50866</td>\n",
              "      <td>C21</td>\n",
              "      <td>4915</td>\n",
              "      <td>Owned</td>\n",
              "      <td>Individual</td>\n",
              "      <td>74</td>\n",
              "      <td>74</td>\n",
              "      <td>No</td>\n",
              "      <td>NaN</td>\n",
              "      <td>NaN</td>\n",
              "      <td>NaN</td>\n",
              "      <td>14</td>\n",
              "      <td>19944.0</td>\n",
              "      <td>0</td>\n",
              "    </tr>\n",
              "    <tr>\n",
              "      <th>50869</th>\n",
              "      <td>50870</td>\n",
              "      <td>C11</td>\n",
              "      <td>1770</td>\n",
              "      <td>Rented</td>\n",
              "      <td>Individual</td>\n",
              "      <td>45</td>\n",
              "      <td>45</td>\n",
              "      <td>No</td>\n",
              "      <td>NaN</td>\n",
              "      <td>1.0</td>\n",
              "      <td>1.0</td>\n",
              "      <td>20</td>\n",
              "      <td>10944.0</td>\n",
              "      <td>0</td>\n",
              "    </tr>\n",
              "    <tr>\n",
              "      <th>50871</th>\n",
              "      <td>50872</td>\n",
              "      <td>C10</td>\n",
              "      <td>224</td>\n",
              "      <td>Rented</td>\n",
              "      <td>Individual</td>\n",
              "      <td>21</td>\n",
              "      <td>21</td>\n",
              "      <td>No</td>\n",
              "      <td>NaN</td>\n",
              "      <td>1.0</td>\n",
              "      <td>1.0</td>\n",
              "      <td>13</td>\n",
              "      <td>11840.0</td>\n",
              "      <td>0</td>\n",
              "    </tr>\n",
              "    <tr>\n",
              "      <th>50876</th>\n",
              "      <td>50877</td>\n",
              "      <td>C26</td>\n",
              "      <td>579</td>\n",
              "      <td>Owned</td>\n",
              "      <td>Individual</td>\n",
              "      <td>37</td>\n",
              "      <td>37</td>\n",
              "      <td>No</td>\n",
              "      <td>NaN</td>\n",
              "      <td>2.0</td>\n",
              "      <td>1.0</td>\n",
              "      <td>12</td>\n",
              "      <td>13222.0</td>\n",
              "      <td>0</td>\n",
              "    </tr>\n",
              "  </tbody>\n",
              "</table>\n",
              "<p>11691 rows × 14 columns</p>\n",
              "</div>"
            ],
            "text/plain": [
              "          ID City_Code  ...  Reco_Policy_Premium Response\n",
              "2          3        C5  ...               7450.0        1\n",
              "6          7        C3  ...              10640.0        0\n",
              "9         10        C1  ...              21100.8        1\n",
              "12        13        C7  ...              17192.0        1\n",
              "19        20       C20  ...               8050.0        0\n",
              "...      ...       ...  ...                  ...      ...\n",
              "50859  50860        C1  ...              19448.0        0\n",
              "50865  50866       C21  ...              19944.0        0\n",
              "50869  50870       C11  ...              10944.0        0\n",
              "50871  50872       C10  ...              11840.0        0\n",
              "50876  50877       C26  ...              13222.0        0\n",
              "\n",
              "[11691 rows x 14 columns]"
            ]
          },
          "metadata": {
            "tags": []
          },
          "execution_count": 56
        }
      ]
    },
    {
      "cell_type": "code",
      "metadata": {
        "id": "VeLF59OWv0lT"
      },
      "source": [
        "a=train_data[train_data['Response']==1].groupby(['Holding_Policy_Duration']).Response.agg(['count'])\r\n",
        "b=train_data[train_data['Response']==0].groupby(['Holding_Policy_Duration']).Response.agg(['count'])\r\n"
      ],
      "execution_count": 109,
      "outputs": []
    },
    {
      "cell_type": "code",
      "metadata": {
        "colab": {
          "base_uri": "https://localhost:8080/"
        },
        "id": "b5lh-HZwQ7fC",
        "outputId": "21f5b578-7127-4a44-b1b3-e32a1bee58f0"
      },
      "source": [
        "train_data['City_Code'].nunique()"
      ],
      "execution_count": 117,
      "outputs": [
        {
          "output_type": "execute_result",
          "data": {
            "text/plain": [
              "36"
            ]
          },
          "metadata": {
            "tags": []
          },
          "execution_count": 117
        }
      ]
    },
    {
      "cell_type": "code",
      "metadata": {
        "id": "yDr2r6aIxTHe"
      },
      "source": [
        "b.reset_index(inplace=True)"
      ],
      "execution_count": 77,
      "outputs": []
    },
    {
      "cell_type": "code",
      "metadata": {
        "id": "YfiBmLda8vyU"
      },
      "source": [
        "def duration(x,dic,result):\r\n",
        "  if(x in dic):\r\n",
        "    return dic[x]\r\n",
        "  else:\r\n",
        "    return result"
      ],
      "execution_count": null,
      "outputs": []
    },
    {
      "cell_type": "code",
      "metadata": {
        "id": "_epWy9PInc9m"
      },
      "source": [
        "def transform(data):\r\n",
        "  accomodation=pd.get_dummies(data['Accomodation_Type'])\r\n",
        "  data['accomodation']=accomodation['Owned']\r\n",
        "\r\n",
        "  data.drop(['Accomodation_Type'],axis=1,inplace=True)\r\n",
        "\r\n",
        "  insurance=pd.get_dummies(data['Reco_Insurance_Type'])\r\n",
        "  data['insurance']=insurance['Individual']\r\n",
        "  data.drop(['Reco_Insurance_Type'],axis=1,inplace=True)\r\n",
        "\r\n",
        "  spouse=pd.get_dummies(data['Is_Spouse'])\r\n",
        "  data['spouse']=spouse['No']\r\n",
        "  data.drop(['Is_Spouse'],axis=1,inplace=True)\r\n",
        "\r\n",
        "  data['Reco_Policy_Premium']=np.sqrt(data['Reco_Policy_Premium'])\r\n",
        "  health_index=data[data['Health Indicator'].isnull()].index\r\n",
        "\r\n",
        "  health=pd.get_dummies(data['Health Indicator'])\r\n",
        "  data=pd.concat([data,health],axis=1)\r\n",
        "  data['health_null']=[1 for i in range(len(data)) if i in health_index else 0]\r\n",
        "  data.drop(['Health Indicator'],axis=1,inplace=True)\r\n",
        "\r\n",
        "  policy_index=data[data['Holding_Policy_Type'].isnull()].index\r\n",
        "  policy=pd.get_dummies(data['Holding_Policy_Type'])\r\n",
        "  policy=pd.concat([data,policy],axis=1)\r\n",
        "  data['policy_null']=[1 for i in range(len(data)) if i in policy_index else 0]\r\n",
        "  data.drop(['Holding_Policy_Type'],axis=1,inplace=True)\r\n",
        "\r\n",
        "  data['average_age']=(data['Upper_Age']+data['Lower_Age'])//2\r\n",
        "  data['average_age']=pd.qcut(data['average_age'],q=10)\r\n",
        "  age=pd.get_dummies(data['average_age'])\r\n",
        "  data=pd.concat([data,age],axis=1)\r\n",
        "  data.drop(['Upper_Age','Lower_Age'],axis=1,inplace=True)\r\n",
        "  \r\n",
        "  a=data[data['Response']==1].groupby(['Holding_Policy_Duration']).Response.agg(['count'])\r\n",
        "  b=data[data['Response']==0].groupby(['Holding_Policy_Duration']).Response.agg(['count'])\r\n",
        "\r\n",
        "  dic=dict(b/a)\r\n",
        "  duration_index=data[data['Holding_Policy_Duration'].isnull()].index\r\n",
        "  positive=0\r\n",
        "  negative=0\r\n",
        "  for i in duration_index:\r\n",
        "    if(data['Response']==1):\r\n",
        "      positive+=1\r\n",
        "    else:\r\n",
        "      negative+=1\r\n",
        "  data['Holding_Policy_Duration']=data['Holding_Policy_Duration'].apply(lambda x:duration(x,dic,negative/positive))\r\n",
        "\r\n",
        "  city_1=data[data['Response']==1].groupby(['City_Code']).Response.agg(['count'])\r\n",
        "  city_0=data[data['Response']==0].groupby(['City_Code']).Response.agg(['count'])\r\n",
        "\r\n",
        "  dic1=dict(city_0/city_1)\r\n",
        "  data['City_Code']=data['City_Code'].apply(lambda x:dic1[x])\r\n",
        "\r\n",
        "  region=pd.qcut(data['Region_Code'],q=15)\r\n",
        "  reqion=pd.get_dummies(region)\r\n",
        "  data=pd.concat([data,region],axis=1)\r\n",
        "  data.drop(['Region_Code','ID'],axis=1,inplace=True)\r\n",
        "  \r\n",
        "  return data, dic1, dic"
      ],
      "execution_count": null,
      "outputs": []
    }
  ]
}