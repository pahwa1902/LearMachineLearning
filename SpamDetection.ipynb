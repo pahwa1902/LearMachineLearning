{
  "nbformat": 4,
  "nbformat_minor": 0,
  "metadata": {
    "colab": {
      "name": "SpamDetection.ipynb",
      "provenance": [],
      "include_colab_link": true
    },
    "kernelspec": {
      "name": "python3",
      "display_name": "Python 3"
    }
  },
  "cells": [
    {
      "cell_type": "markdown",
      "metadata": {
        "id": "view-in-github",
        "colab_type": "text"
      },
      "source": [
        "<a href=\"https://colab.research.google.com/github/pahwa1902/LearMachineLearning/blob/master/SpamDetection.ipynb\" target=\"_parent\"><img src=\"https://colab.research.google.com/assets/colab-badge.svg\" alt=\"Open In Colab\"/></a>"
      ]
    },
    {
      "cell_type": "code",
      "metadata": {
        "id": "vzt5X4WnJRjQ",
        "colab_type": "code",
        "colab": {
          "base_uri": "https://localhost:8080/",
          "height": 34
        },
        "outputId": "3bbae017-2114-40bd-898c-03b490c4b7ac"
      },
      "source": [
        "try:\n",
        "  # %tensorflow_version only exists in Colab.\n",
        "  %tensorflow_version 2.x\n",
        "except Exception:\n",
        "  pass\n"
      ],
      "execution_count": 1,
      "outputs": [
        {
          "output_type": "stream",
          "text": [
            "TensorFlow 2.x selected.\n"
          ],
          "name": "stdout"
        }
      ]
    },
    {
      "cell_type": "code",
      "metadata": {
        "id": "szQVNLSkv0cQ",
        "colab_type": "code",
        "colab": {
          "base_uri": "https://localhost:8080/",
          "height": 34
        },
        "outputId": "2c04cd7b-7d9e-41fb-c27f-c44465e218de"
      },
      "source": [
        "import numpy as np\n",
        "import tensorflow as tf\n",
        "import pandas as pd\n",
        "import tensorflow_datasets as tfds\n",
        "import tensorflow_hub as hub\n",
        "\n",
        "tf.executing_eagerly()"
      ],
      "execution_count": 3,
      "outputs": [
        {
          "output_type": "execute_result",
          "data": {
            "text/plain": [
              "True"
            ]
          },
          "metadata": {
            "tags": []
          },
          "execution_count": 3
        }
      ]
    },
    {
      "cell_type": "code",
      "metadata": {
        "id": "fjesB0ZcwZoS",
        "colab_type": "code",
        "colab": {
          "base_uri": "https://localhost:8080/",
          "height": 119
        },
        "outputId": "d981c9b6-9e16-421f-e5af-616f4ffd729e"
      },
      "source": [
        "! git clone https://github.com/pahwa1902/SpamDetection.git"
      ],
      "execution_count": 4,
      "outputs": [
        {
          "output_type": "stream",
          "text": [
            "Cloning into 'SpamDetection'...\n",
            "remote: Enumerating objects: 3, done.\u001b[K\n",
            "remote: Counting objects: 100% (3/3), done.\u001b[K\n",
            "remote: Compressing objects: 100% (2/2), done.\u001b[K\n",
            "remote: Total 3 (delta 0), reused 0 (delta 0), pack-reused 0\u001b[K\n",
            "Unpacking objects: 100% (3/3), done.\n"
          ],
          "name": "stdout"
        }
      ]
    },
    {
      "cell_type": "code",
      "metadata": {
        "id": "6svppJLFxIt9",
        "colab_type": "code",
        "colab": {}
      },
      "source": [
        "!cd SpamDetection"
      ],
      "execution_count": 0,
      "outputs": []
    },
    {
      "cell_type": "code",
      "metadata": {
        "id": "3zXZeJrJxN6T",
        "colab_type": "code",
        "colab": {
          "base_uri": "https://localhost:8080/",
          "height": 34
        },
        "outputId": "fb4175fe-0448-4ee4-c9c8-9f71bc715ea0"
      },
      "source": [
        "!ls SpamDetection"
      ],
      "execution_count": 6,
      "outputs": [
        {
          "output_type": "stream",
          "text": [
            "spam.csv\n"
          ],
          "name": "stdout"
        }
      ]
    },
    {
      "cell_type": "code",
      "metadata": {
        "id": "nO0WkjIbxT99",
        "colab_type": "code",
        "colab": {
          "base_uri": "https://localhost:8080/",
          "height": 204
        },
        "outputId": "a5d74b9f-0929-4bfe-cd90-56f51234969c"
      },
      "source": [
        "data_spam = pd.read_csv('SpamDetection/spam.csv',encoding='latin-1')\n",
        "data_spam.head()"
      ],
      "execution_count": 7,
      "outputs": [
        {
          "output_type": "execute_result",
          "data": {
            "text/html": [
              "<div>\n",
              "<style scoped>\n",
              "    .dataframe tbody tr th:only-of-type {\n",
              "        vertical-align: middle;\n",
              "    }\n",
              "\n",
              "    .dataframe tbody tr th {\n",
              "        vertical-align: top;\n",
              "    }\n",
              "\n",
              "    .dataframe thead th {\n",
              "        text-align: right;\n",
              "    }\n",
              "</style>\n",
              "<table border=\"1\" class=\"dataframe\">\n",
              "  <thead>\n",
              "    <tr style=\"text-align: right;\">\n",
              "      <th></th>\n",
              "      <th>v1</th>\n",
              "      <th>v2</th>\n",
              "      <th>Unnamed: 2</th>\n",
              "      <th>Unnamed: 3</th>\n",
              "      <th>Unnamed: 4</th>\n",
              "    </tr>\n",
              "  </thead>\n",
              "  <tbody>\n",
              "    <tr>\n",
              "      <th>0</th>\n",
              "      <td>ham</td>\n",
              "      <td>Go until jurong point, crazy.. Available only ...</td>\n",
              "      <td>NaN</td>\n",
              "      <td>NaN</td>\n",
              "      <td>NaN</td>\n",
              "    </tr>\n",
              "    <tr>\n",
              "      <th>1</th>\n",
              "      <td>ham</td>\n",
              "      <td>Ok lar... Joking wif u oni...</td>\n",
              "      <td>NaN</td>\n",
              "      <td>NaN</td>\n",
              "      <td>NaN</td>\n",
              "    </tr>\n",
              "    <tr>\n",
              "      <th>2</th>\n",
              "      <td>spam</td>\n",
              "      <td>Free entry in 2 a wkly comp to win FA Cup fina...</td>\n",
              "      <td>NaN</td>\n",
              "      <td>NaN</td>\n",
              "      <td>NaN</td>\n",
              "    </tr>\n",
              "    <tr>\n",
              "      <th>3</th>\n",
              "      <td>ham</td>\n",
              "      <td>U dun say so early hor... U c already then say...</td>\n",
              "      <td>NaN</td>\n",
              "      <td>NaN</td>\n",
              "      <td>NaN</td>\n",
              "    </tr>\n",
              "    <tr>\n",
              "      <th>4</th>\n",
              "      <td>ham</td>\n",
              "      <td>Nah I don't think he goes to usf, he lives aro...</td>\n",
              "      <td>NaN</td>\n",
              "      <td>NaN</td>\n",
              "      <td>NaN</td>\n",
              "    </tr>\n",
              "  </tbody>\n",
              "</table>\n",
              "</div>"
            ],
            "text/plain": [
              "     v1  ... Unnamed: 4\n",
              "0   ham  ...        NaN\n",
              "1   ham  ...        NaN\n",
              "2  spam  ...        NaN\n",
              "3   ham  ...        NaN\n",
              "4   ham  ...        NaN\n",
              "\n",
              "[5 rows x 5 columns]"
            ]
          },
          "metadata": {
            "tags": []
          },
          "execution_count": 7
        }
      ]
    },
    {
      "cell_type": "code",
      "metadata": {
        "id": "XhyRYt_ZzQ8S",
        "colab_type": "code",
        "colab": {
          "base_uri": "https://localhost:8080/",
          "height": 204
        },
        "outputId": "70b836fd-55d5-4208-a125-825def1dcb87"
      },
      "source": [
        "data_spam_detection = pd.DataFrame({'Type':data_spam['v1'],'Email':data_spam['v2']})\n",
        "data_spam_detection.head()"
      ],
      "execution_count": 8,
      "outputs": [
        {
          "output_type": "execute_result",
          "data": {
            "text/html": [
              "<div>\n",
              "<style scoped>\n",
              "    .dataframe tbody tr th:only-of-type {\n",
              "        vertical-align: middle;\n",
              "    }\n",
              "\n",
              "    .dataframe tbody tr th {\n",
              "        vertical-align: top;\n",
              "    }\n",
              "\n",
              "    .dataframe thead th {\n",
              "        text-align: right;\n",
              "    }\n",
              "</style>\n",
              "<table border=\"1\" class=\"dataframe\">\n",
              "  <thead>\n",
              "    <tr style=\"text-align: right;\">\n",
              "      <th></th>\n",
              "      <th>Type</th>\n",
              "      <th>Email</th>\n",
              "    </tr>\n",
              "  </thead>\n",
              "  <tbody>\n",
              "    <tr>\n",
              "      <th>0</th>\n",
              "      <td>ham</td>\n",
              "      <td>Go until jurong point, crazy.. Available only ...</td>\n",
              "    </tr>\n",
              "    <tr>\n",
              "      <th>1</th>\n",
              "      <td>ham</td>\n",
              "      <td>Ok lar... Joking wif u oni...</td>\n",
              "    </tr>\n",
              "    <tr>\n",
              "      <th>2</th>\n",
              "      <td>spam</td>\n",
              "      <td>Free entry in 2 a wkly comp to win FA Cup fina...</td>\n",
              "    </tr>\n",
              "    <tr>\n",
              "      <th>3</th>\n",
              "      <td>ham</td>\n",
              "      <td>U dun say so early hor... U c already then say...</td>\n",
              "    </tr>\n",
              "    <tr>\n",
              "      <th>4</th>\n",
              "      <td>ham</td>\n",
              "      <td>Nah I don't think he goes to usf, he lives aro...</td>\n",
              "    </tr>\n",
              "  </tbody>\n",
              "</table>\n",
              "</div>"
            ],
            "text/plain": [
              "   Type                                              Email\n",
              "0   ham  Go until jurong point, crazy.. Available only ...\n",
              "1   ham                      Ok lar... Joking wif u oni...\n",
              "2  spam  Free entry in 2 a wkly comp to win FA Cup fina...\n",
              "3   ham  U dun say so early hor... U c already then say...\n",
              "4   ham  Nah I don't think he goes to usf, he lives aro..."
            ]
          },
          "metadata": {
            "tags": []
          },
          "execution_count": 8
        }
      ]
    },
    {
      "cell_type": "code",
      "metadata": {
        "id": "PMmD2ZiAzuJT",
        "colab_type": "code",
        "colab": {}
      },
      "source": [
        "label = data_spam.pop('v1')\n",
        "spam_label = []\n",
        "for i in range(len(label)):\n",
        "  if(label[i]=='ham'):\n",
        "    spam_label.append(1)\n",
        "  if(label[i]=='spam'):\n",
        "    spam_label.append(0)\n",
        "trainlabel = spam_label[:3345]\n",
        "testlabel = spam_label[3345:4445]\n",
        "validatelabel = spam_label[4445:]\n"
      ],
      "execution_count": 0,
      "outputs": []
    },
    {
      "cell_type": "code",
      "metadata": {
        "id": "hUcp2qTP0voA",
        "colab_type": "code",
        "colab": {}
      },
      "source": [
        "train = data_spam.pop('v2')\n",
        "traindata = train[:3345]\n",
        "testdata = train[3345:4445]\n",
        "validatedata = train[4445:]"
      ],
      "execution_count": 0,
      "outputs": []
    },
    {
      "cell_type": "code",
      "metadata": {
        "id": "Y-uYPROEit5L",
        "colab_type": "code",
        "colab": {}
      },
      "source": [
        "train_dataset = tf.data.Dataset.from_tensor_slices((traindata,trainlabel))\n",
        "test_dataset = tf.data.Dataset.from_tensor_slices((testdata,testlabel))\n",
        "validate_dataset = tf.data.Dataset.from_tensor_slices((validatedata,validatelabel))"
      ],
      "execution_count": 0,
      "outputs": []
    },
    {
      "cell_type": "code",
      "metadata": {
        "id": "MrhlrSWdR7k_",
        "colab_type": "code",
        "colab": {}
      },
      "source": [
        "example_data ,example_label = next(iter(train_dataset.batch(10)))"
      ],
      "execution_count": 0,
      "outputs": []
    },
    {
      "cell_type": "code",
      "metadata": {
        "id": "INLRqccSi8Yo",
        "colab_type": "code",
        "colab": {}
      },
      "source": [
        "\n",
        "train_data = train_dataset.shuffle(1000).batch(16)\n",
        "test_data = test_dataset.shuffle(1000).batch(16)\n",
        "validate_data = validate_dataset.batch(32)"
      ],
      "execution_count": 0,
      "outputs": []
    },
    {
      "cell_type": "code",
      "metadata": {
        "id": "cK-cRgQrGMBq",
        "colab_type": "code",
        "colab": {
          "base_uri": "https://localhost:8080/",
          "height": 34
        },
        "outputId": "84589ee9-716f-471f-880c-4ffe414db93f"
      },
      "source": [
        "embedding = \"https://tfhub.dev/google/tf2-preview/gnews-swivel-20dim/1\"\n",
        "hub_layer = hub.KerasLayer(embedding, input_shape=[], \n",
        "                           dtype=tf.string, trainable=True)\n"
      ],
      "execution_count": 14,
      "outputs": [
        {
          "output_type": "execute_result",
          "data": {
            "text/plain": [
              "<module 'tensorflow_hub' from '/usr/local/lib/python3.6/dist-packages/tensorflow_hub/__init__.py'>"
            ]
          },
          "metadata": {
            "tags": []
          },
          "execution_count": 14
        }
      ]
    },
    {
      "cell_type": "code",
      "metadata": {
        "id": "T6hEngOO7vb8",
        "colab_type": "code",
        "colab": {
          "base_uri": "https://localhost:8080/",
          "height": 255
        },
        "outputId": "24f03be3-7295-497f-e8b5-b83c5c48b6d4"
      },
      "source": [
        "hub_layer(example_data[:3])"
      ],
      "execution_count": 15,
      "outputs": [
        {
          "output_type": "execute_result",
          "data": {
            "text/plain": [
              "<tf.Tensor: shape=(3, 20), dtype=float32, numpy=\n",
              "array([[-0.42655703, -0.4369624 ,  0.38947412, -0.52729607, -2.5634472 ,\n",
              "        -0.11791651, -1.812008  , -0.5003269 ,  0.7801439 , -0.6582062 ,\n",
              "        -1.8806639 ,  1.3173735 ,  0.6331653 ,  0.21902816, -1.2752063 ,\n",
              "        -0.22019728, -0.00961794,  0.8717695 , -0.71816397, -1.1814098 ],\n",
              "       [-0.02057366, -0.40507334,  0.42449516,  0.46892646, -0.4980319 ,\n",
              "        -0.04080986, -0.4647013 ,  0.2864666 ,  0.44804916,  0.20993288,\n",
              "        -0.541347  ,  0.06294689,  0.54342836,  0.208689  , -0.29764375,\n",
              "        -0.12304761,  0.1083204 ,  0.13451028, -0.1944722 , -0.41158327],\n",
              "       [-2.4042654 , -0.02150405,  0.5840742 ,  0.16783147, -0.69800067,\n",
              "         0.01973474, -1.1425722 , -2.3588674 , -1.6163446 ,  0.10751774,\n",
              "        -1.840412  , -0.85544854,  0.946002  ,  0.27913603,  0.9670733 ,\n",
              "         0.77217865,  0.41659495, -1.3109119 ,  0.01364962,  0.6320113 ]],\n",
              "      dtype=float32)>"
            ]
          },
          "metadata": {
            "tags": []
          },
          "execution_count": 15
        }
      ]
    },
    {
      "cell_type": "code",
      "metadata": {
        "id": "_iCsbOZWGkNp",
        "colab_type": "code",
        "colab": {}
      },
      "source": [
        "model = tf.keras.Sequential()\n",
        "model.add(hub_layer)\n",
        "model.add(tf.keras.layers.Dense(16,activation='relu'))\n",
        "model.add(tf.keras.layers.Dense(1,activation='sigmoid'))\n"
      ],
      "execution_count": 0,
      "outputs": []
    },
    {
      "cell_type": "code",
      "metadata": {
        "id": "3XS4MwyxJJY2",
        "colab_type": "code",
        "colab": {}
      },
      "source": [
        "model.compile(optimizer='adam',loss='binary_crossentropy',metrics=['accuracy'])"
      ],
      "execution_count": 0,
      "outputs": []
    },
    {
      "cell_type": "code",
      "metadata": {
        "id": "8FA_iJPsJdJB",
        "colab_type": "code",
        "colab": {
          "base_uri": "https://localhost:8080/",
          "height": 731
        },
        "outputId": "f919a83a-80ef-4d54-cf6b-bbe3e45ee343"
      },
      "source": [
        "model.fit(train_data,epochs=20,validation_data=validate_data,verbose=1 )"
      ],
      "execution_count": 18,
      "outputs": [
        {
          "output_type": "stream",
          "text": [
            "Train for 210 steps, validate for 36 steps\n",
            "Epoch 1/20\n",
            "210/210 [==============================] - 2s 10ms/step - loss: 0.2796 - accuracy: 0.8981 - val_loss: 0.1978 - val_accuracy: 0.9441\n",
            "Epoch 2/20\n",
            "210/210 [==============================] - 1s 6ms/step - loss: 0.1754 - accuracy: 0.9549 - val_loss: 0.1464 - val_accuracy: 0.9618\n",
            "Epoch 3/20\n",
            "210/210 [==============================] - 1s 6ms/step - loss: 0.1269 - accuracy: 0.9668 - val_loss: 0.1186 - val_accuracy: 0.9752\n",
            "Epoch 4/20\n",
            "210/210 [==============================] - 1s 6ms/step - loss: 0.0957 - accuracy: 0.9752 - val_loss: 0.1059 - val_accuracy: 0.9716\n",
            "Epoch 5/20\n",
            "210/210 [==============================] - 1s 6ms/step - loss: 0.0706 - accuracy: 0.9833 - val_loss: 0.0941 - val_accuracy: 0.9743\n",
            "Epoch 6/20\n",
            "210/210 [==============================] - 1s 6ms/step - loss: 0.0526 - accuracy: 0.9871 - val_loss: 0.0865 - val_accuracy: 0.9787\n",
            "Epoch 7/20\n",
            "210/210 [==============================] - 1s 6ms/step - loss: 0.0386 - accuracy: 0.9907 - val_loss: 0.0840 - val_accuracy: 0.9796\n",
            "Epoch 8/20\n",
            "210/210 [==============================] - 1s 6ms/step - loss: 0.0280 - accuracy: 0.9931 - val_loss: 0.0839 - val_accuracy: 0.9805\n",
            "Epoch 9/20\n",
            "210/210 [==============================] - 1s 7ms/step - loss: 0.0200 - accuracy: 0.9958 - val_loss: 0.0862 - val_accuracy: 0.9760\n",
            "Epoch 10/20\n",
            "210/210 [==============================] - 1s 7ms/step - loss: 0.0144 - accuracy: 0.9973 - val_loss: 0.0880 - val_accuracy: 0.9778\n",
            "Epoch 11/20\n",
            "210/210 [==============================] - 1s 6ms/step - loss: 0.0107 - accuracy: 0.9991 - val_loss: 0.0912 - val_accuracy: 0.9752\n",
            "Epoch 12/20\n",
            "210/210 [==============================] - 1s 6ms/step - loss: 0.0086 - accuracy: 0.9994 - val_loss: 0.0932 - val_accuracy: 0.9769\n",
            "Epoch 13/20\n",
            "210/210 [==============================] - 1s 6ms/step - loss: 0.0068 - accuracy: 0.9994 - val_loss: 0.0969 - val_accuracy: 0.9769\n",
            "Epoch 14/20\n",
            "210/210 [==============================] - 1s 6ms/step - loss: 0.0058 - accuracy: 0.9994 - val_loss: 0.0992 - val_accuracy: 0.9760\n",
            "Epoch 15/20\n",
            "210/210 [==============================] - 1s 6ms/step - loss: 0.0052 - accuracy: 0.9994 - val_loss: 0.1017 - val_accuracy: 0.9769\n",
            "Epoch 16/20\n",
            "210/210 [==============================] - 1s 6ms/step - loss: 0.0047 - accuracy: 0.9994 - val_loss: 0.1056 - val_accuracy: 0.9787\n",
            "Epoch 17/20\n",
            "210/210 [==============================] - 1s 6ms/step - loss: 0.0042 - accuracy: 0.9994 - val_loss: 0.1090 - val_accuracy: 0.9778\n",
            "Epoch 18/20\n",
            "210/210 [==============================] - 1s 6ms/step - loss: 0.0041 - accuracy: 0.9994 - val_loss: 0.1096 - val_accuracy: 0.9769\n",
            "Epoch 19/20\n",
            "210/210 [==============================] - 1s 6ms/step - loss: 0.0037 - accuracy: 0.9994 - val_loss: 0.1116 - val_accuracy: 0.9769\n",
            "Epoch 20/20\n",
            "210/210 [==============================] - 1s 6ms/step - loss: 0.0035 - accuracy: 0.9994 - val_loss: 0.1138 - val_accuracy: 0.9760\n"
          ],
          "name": "stdout"
        },
        {
          "output_type": "execute_result",
          "data": {
            "text/plain": [
              "<tensorflow.python.keras.callbacks.History at 0x7fe08f7ed550>"
            ]
          },
          "metadata": {
            "tags": []
          },
          "execution_count": 18
        }
      ]
    },
    {
      "cell_type": "code",
      "metadata": {
        "id": "rIBvn_f_8K05",
        "colab_type": "code",
        "colab": {
          "base_uri": "https://localhost:8080/",
          "height": 34
        },
        "outputId": "7e5eb473-b793-404e-dbd3-166aabfb8297"
      },
      "source": [
        "loss, accuracy = model.evaluate(test_data)"
      ],
      "execution_count": 19,
      "outputs": [
        {
          "output_type": "stream",
          "text": [
            "69/69 [==============================] - 0s 2ms/step - loss: 0.1473 - accuracy: 0.9718\n"
          ],
          "name": "stdout"
        }
      ]
    }
  ]
}