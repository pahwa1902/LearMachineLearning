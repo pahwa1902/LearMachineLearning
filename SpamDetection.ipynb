{
  "nbformat": 4,
  "nbformat_minor": 0,
  "metadata": {
    "colab": {
      "name": "SpamDetection.ipynb",
      "provenance": [],
      "include_colab_link": true
    },
    "kernelspec": {
      "name": "python3",
      "display_name": "Python 3"
    }
  },
  "cells": [
    {
      "cell_type": "markdown",
      "metadata": {
        "id": "view-in-github",
        "colab_type": "text"
      },
      "source": [
        "<a href=\"https://colab.research.google.com/github/pahwa1902/LearMachineLearning/blob/master/SpamDetection.ipynb\" target=\"_parent\"><img src=\"https://colab.research.google.com/assets/colab-badge.svg\" alt=\"Open In Colab\"/></a>"
      ]
    },
    {
      "cell_type": "code",
      "metadata": {
        "id": "vzt5X4WnJRjQ",
        "colab_type": "code",
        "colab": {
          "base_uri": "https://localhost:8080/",
          "height": 34
        },
        "outputId": "325236d6-3f6e-4ea0-bcc7-89688b3dd175"
      },
      "source": [
        "try:\n",
        "  # %tensorflow_version only exists in Colab.\n",
        "  %tensorflow_version 2.x\n",
        "except Exception:\n",
        "  pass\n"
      ],
      "execution_count": 1,
      "outputs": [
        {
          "output_type": "stream",
          "text": [
            "TensorFlow 2.x selected.\n"
          ],
          "name": "stdout"
        }
      ]
    },
    {
      "cell_type": "code",
      "metadata": {
        "id": "szQVNLSkv0cQ",
        "colab_type": "code",
        "colab": {}
      },
      "source": [
        "import numpy as np\n",
        "import tensorflow as tf\n",
        "import pandas as pd\n",
        "import tensorflow_datasets as tfds\n",
        "import tensorflow_hub as hub\n",
        "import matplotlib.pyplot as plt\n",
        "tf.executing_eagerly()\n",
        "tf.random.set_seed(512)"
      ],
      "execution_count": 0,
      "outputs": []
    },
    {
      "cell_type": "code",
      "metadata": {
        "id": "fjesB0ZcwZoS",
        "colab_type": "code",
        "colab": {
          "base_uri": "https://localhost:8080/",
          "height": 119
        },
        "outputId": "cd87281a-704a-4d68-8e04-6142783b45c0"
      },
      "source": [
        "! git clone https://github.com/pahwa1902/SpamDetection.git"
      ],
      "execution_count": 3,
      "outputs": [
        {
          "output_type": "stream",
          "text": [
            "Cloning into 'SpamDetection'...\n",
            "remote: Enumerating objects: 3, done.\u001b[K\n",
            "remote: Counting objects:  33% (1/3)\u001b[K\rremote: Counting objects:  66% (2/3)\u001b[K\rremote: Counting objects: 100% (3/3)\u001b[K\rremote: Counting objects: 100% (3/3), done.\u001b[K\n",
            "remote: Compressing objects: 100% (2/2), done.\u001b[K\n",
            "remote: Total 3 (delta 0), reused 0 (delta 0), pack-reused 0\u001b[K\n",
            "Unpacking objects: 100% (3/3), done.\n"
          ],
          "name": "stdout"
        }
      ]
    },
    {
      "cell_type": "code",
      "metadata": {
        "id": "6svppJLFxIt9",
        "colab_type": "code",
        "colab": {}
      },
      "source": [
        "!cd SpamDetection"
      ],
      "execution_count": 0,
      "outputs": []
    },
    {
      "cell_type": "code",
      "metadata": {
        "id": "3zXZeJrJxN6T",
        "colab_type": "code",
        "colab": {
          "base_uri": "https://localhost:8080/",
          "height": 34
        },
        "outputId": "d7a8d75d-1bcc-477c-a1fb-0843a2fd7fca"
      },
      "source": [
        "!ls SpamDetection"
      ],
      "execution_count": 5,
      "outputs": [
        {
          "output_type": "stream",
          "text": [
            "spam.csv\n"
          ],
          "name": "stdout"
        }
      ]
    },
    {
      "cell_type": "code",
      "metadata": {
        "id": "nO0WkjIbxT99",
        "colab_type": "code",
        "colab": {
          "base_uri": "https://localhost:8080/",
          "height": 204
        },
        "outputId": "6714633e-40a3-41c7-c017-58e02dcc4a76"
      },
      "source": [
        "data_spam = pd.read_csv('SpamDetection/spam.csv',encoding='latin-1')\n",
        "data_spam.head()"
      ],
      "execution_count": 32,
      "outputs": [
        {
          "output_type": "execute_result",
          "data": {
            "text/html": [
              "<div>\n",
              "<style scoped>\n",
              "    .dataframe tbody tr th:only-of-type {\n",
              "        vertical-align: middle;\n",
              "    }\n",
              "\n",
              "    .dataframe tbody tr th {\n",
              "        vertical-align: top;\n",
              "    }\n",
              "\n",
              "    .dataframe thead th {\n",
              "        text-align: right;\n",
              "    }\n",
              "</style>\n",
              "<table border=\"1\" class=\"dataframe\">\n",
              "  <thead>\n",
              "    <tr style=\"text-align: right;\">\n",
              "      <th></th>\n",
              "      <th>v1</th>\n",
              "      <th>v2</th>\n",
              "      <th>Unnamed: 2</th>\n",
              "      <th>Unnamed: 3</th>\n",
              "      <th>Unnamed: 4</th>\n",
              "    </tr>\n",
              "  </thead>\n",
              "  <tbody>\n",
              "    <tr>\n",
              "      <th>0</th>\n",
              "      <td>ham</td>\n",
              "      <td>Go until jurong point, crazy.. Available only ...</td>\n",
              "      <td>NaN</td>\n",
              "      <td>NaN</td>\n",
              "      <td>NaN</td>\n",
              "    </tr>\n",
              "    <tr>\n",
              "      <th>1</th>\n",
              "      <td>ham</td>\n",
              "      <td>Ok lar... Joking wif u oni...</td>\n",
              "      <td>NaN</td>\n",
              "      <td>NaN</td>\n",
              "      <td>NaN</td>\n",
              "    </tr>\n",
              "    <tr>\n",
              "      <th>2</th>\n",
              "      <td>spam</td>\n",
              "      <td>Free entry in 2 a wkly comp to win FA Cup fina...</td>\n",
              "      <td>NaN</td>\n",
              "      <td>NaN</td>\n",
              "      <td>NaN</td>\n",
              "    </tr>\n",
              "    <tr>\n",
              "      <th>3</th>\n",
              "      <td>ham</td>\n",
              "      <td>U dun say so early hor... U c already then say...</td>\n",
              "      <td>NaN</td>\n",
              "      <td>NaN</td>\n",
              "      <td>NaN</td>\n",
              "    </tr>\n",
              "    <tr>\n",
              "      <th>4</th>\n",
              "      <td>ham</td>\n",
              "      <td>Nah I don't think he goes to usf, he lives aro...</td>\n",
              "      <td>NaN</td>\n",
              "      <td>NaN</td>\n",
              "      <td>NaN</td>\n",
              "    </tr>\n",
              "  </tbody>\n",
              "</table>\n",
              "</div>"
            ],
            "text/plain": [
              "     v1  ... Unnamed: 4\n",
              "0   ham  ...        NaN\n",
              "1   ham  ...        NaN\n",
              "2  spam  ...        NaN\n",
              "3   ham  ...        NaN\n",
              "4   ham  ...        NaN\n",
              "\n",
              "[5 rows x 5 columns]"
            ]
          },
          "metadata": {
            "tags": []
          },
          "execution_count": 32
        }
      ]
    },
    {
      "cell_type": "code",
      "metadata": {
        "id": "XhyRYt_ZzQ8S",
        "colab_type": "code",
        "colab": {
          "base_uri": "https://localhost:8080/",
          "height": 204
        },
        "outputId": "69cf3f78-6db1-46a1-d7d4-c8b3c33fbc92"
      },
      "source": [
        "data_spam_detection = pd.DataFrame({'Type':data_spam['v1'],'Email':data_spam['v2']})\n",
        "data_spam_detection.head()"
      ],
      "execution_count": 33,
      "outputs": [
        {
          "output_type": "execute_result",
          "data": {
            "text/html": [
              "<div>\n",
              "<style scoped>\n",
              "    .dataframe tbody tr th:only-of-type {\n",
              "        vertical-align: middle;\n",
              "    }\n",
              "\n",
              "    .dataframe tbody tr th {\n",
              "        vertical-align: top;\n",
              "    }\n",
              "\n",
              "    .dataframe thead th {\n",
              "        text-align: right;\n",
              "    }\n",
              "</style>\n",
              "<table border=\"1\" class=\"dataframe\">\n",
              "  <thead>\n",
              "    <tr style=\"text-align: right;\">\n",
              "      <th></th>\n",
              "      <th>Type</th>\n",
              "      <th>Email</th>\n",
              "    </tr>\n",
              "  </thead>\n",
              "  <tbody>\n",
              "    <tr>\n",
              "      <th>0</th>\n",
              "      <td>ham</td>\n",
              "      <td>Go until jurong point, crazy.. Available only ...</td>\n",
              "    </tr>\n",
              "    <tr>\n",
              "      <th>1</th>\n",
              "      <td>ham</td>\n",
              "      <td>Ok lar... Joking wif u oni...</td>\n",
              "    </tr>\n",
              "    <tr>\n",
              "      <th>2</th>\n",
              "      <td>spam</td>\n",
              "      <td>Free entry in 2 a wkly comp to win FA Cup fina...</td>\n",
              "    </tr>\n",
              "    <tr>\n",
              "      <th>3</th>\n",
              "      <td>ham</td>\n",
              "      <td>U dun say so early hor... U c already then say...</td>\n",
              "    </tr>\n",
              "    <tr>\n",
              "      <th>4</th>\n",
              "      <td>ham</td>\n",
              "      <td>Nah I don't think he goes to usf, he lives aro...</td>\n",
              "    </tr>\n",
              "  </tbody>\n",
              "</table>\n",
              "</div>"
            ],
            "text/plain": [
              "   Type                                              Email\n",
              "0   ham  Go until jurong point, crazy.. Available only ...\n",
              "1   ham                      Ok lar... Joking wif u oni...\n",
              "2  spam  Free entry in 2 a wkly comp to win FA Cup fina...\n",
              "3   ham  U dun say so early hor... U c already then say...\n",
              "4   ham  Nah I don't think he goes to usf, he lives aro..."
            ]
          },
          "metadata": {
            "tags": []
          },
          "execution_count": 33
        }
      ]
    },
    {
      "cell_type": "code",
      "metadata": {
        "id": "PMmD2ZiAzuJT",
        "colab_type": "code",
        "colab": {}
      },
      "source": [
        "label = data_spam.pop('v1')\n",
        "spam_label = []\n",
        "for i in range(len(label)):\n",
        "  if(label[i]=='ham'):\n",
        "    spam_label.append(1)\n",
        "  if(label[i]=='spam'):\n",
        "    spam_label.append(0)\n",
        "trainlabel = spam_label[:3345]\n",
        "testlabel = spam_label[3345:4445]\n",
        "validatelabel = spam_label[4445:]\n"
      ],
      "execution_count": 0,
      "outputs": []
    },
    {
      "cell_type": "code",
      "metadata": {
        "id": "hUcp2qTP0voA",
        "colab_type": "code",
        "colab": {}
      },
      "source": [
        "train = data_spam.pop('v2')\n",
        "traindata = train[:3345]\n",
        "testdata = train[3345:4445]\n",
        "validatedata = train[4445:]"
      ],
      "execution_count": 0,
      "outputs": []
    },
    {
      "cell_type": "code",
      "metadata": {
        "id": "Y-uYPROEit5L",
        "colab_type": "code",
        "colab": {}
      },
      "source": [
        "train_dataset = tf.data.Dataset.from_tensor_slices((traindata,trainlabel))\n",
        "test_dataset = tf.data.Dataset.from_tensor_slices((testdata,testlabel))\n",
        "validate_dataset = tf.data.Dataset.from_tensor_slices((validatedata,validatelabel))"
      ],
      "execution_count": 0,
      "outputs": []
    },
    {
      "cell_type": "code",
      "metadata": {
        "id": "MrhlrSWdR7k_",
        "colab_type": "code",
        "colab": {}
      },
      "source": [
        "example_data ,example_label = next(iter(train_dataset.batch(10)))"
      ],
      "execution_count": 0,
      "outputs": []
    },
    {
      "cell_type": "code",
      "metadata": {
        "id": "INLRqccSi8Yo",
        "colab_type": "code",
        "colab": {}
      },
      "source": [
        "\n",
        "train_data = train_dataset.shuffle(1000).batch(16)\n",
        "test_data = test_dataset.shuffle(1000).batch(16)\n",
        "validate_data = validate_dataset.batch(32)"
      ],
      "execution_count": 0,
      "outputs": []
    },
    {
      "cell_type": "code",
      "metadata": {
        "id": "cK-cRgQrGMBq",
        "colab_type": "code",
        "colab": {}
      },
      "source": [
        "embedding = \"https://tfhub.dev/google/tf2-preview/gnews-swivel-20dim/1\"\n",
        "hub_layer = hub.KerasLayer(embedding, input_shape=[], \n",
        "                           dtype=tf.string, trainable=True)\n"
      ],
      "execution_count": 0,
      "outputs": []
    },
    {
      "cell_type": "code",
      "metadata": {
        "id": "T6hEngOO7vb8",
        "colab_type": "code",
        "colab": {
          "base_uri": "https://localhost:8080/",
          "height": 255
        },
        "outputId": "4d21c56d-fdc9-4840-eeb2-289ed1526406"
      },
      "source": [
        "hub_layer(example_data[:3])"
      ],
      "execution_count": 40,
      "outputs": [
        {
          "output_type": "execute_result",
          "data": {
            "text/plain": [
              "<tf.Tensor: shape=(3, 20), dtype=float32, numpy=\n",
              "array([[-0.42655703, -0.4369624 ,  0.38947412, -0.52729607, -2.5634472 ,\n",
              "        -0.11791651, -1.812008  , -0.5003269 ,  0.7801439 , -0.6582062 ,\n",
              "        -1.8806639 ,  1.3173735 ,  0.6331653 ,  0.21902816, -1.2752063 ,\n",
              "        -0.22019728, -0.00961794,  0.8717695 , -0.71816397, -1.1814098 ],\n",
              "       [-0.02057366, -0.40507334,  0.42449516,  0.46892646, -0.4980319 ,\n",
              "        -0.04080986, -0.4647013 ,  0.2864666 ,  0.44804916,  0.20993288,\n",
              "        -0.541347  ,  0.06294689,  0.54342836,  0.208689  , -0.29764375,\n",
              "        -0.12304761,  0.1083204 ,  0.13451028, -0.1944722 , -0.41158327],\n",
              "       [-2.4042654 , -0.02150405,  0.5840742 ,  0.16783147, -0.69800067,\n",
              "         0.01973474, -1.1425722 , -2.3588674 , -1.6163446 ,  0.10751774,\n",
              "        -1.840412  , -0.85544854,  0.946002  ,  0.27913603,  0.9670733 ,\n",
              "         0.77217865,  0.41659495, -1.3109119 ,  0.01364962,  0.6320113 ]],\n",
              "      dtype=float32)>"
            ]
          },
          "metadata": {
            "tags": []
          },
          "execution_count": 40
        }
      ]
    },
    {
      "cell_type": "code",
      "metadata": {
        "id": "_iCsbOZWGkNp",
        "colab_type": "code",
        "colab": {}
      },
      "source": [
        "model = tf.keras.Sequential()\n",
        "model.add(hub_layer)\n",
        "model.add(tf.keras.layers.Dense(32,activation='relu'))\n",
        "model.add(tf.keras.layers.Dense(1,activation='sigmoid'))\n"
      ],
      "execution_count": 0,
      "outputs": []
    },
    {
      "cell_type": "code",
      "metadata": {
        "id": "3XS4MwyxJJY2",
        "colab_type": "code",
        "colab": {}
      },
      "source": [
        "model.compile(optimizer='adam',loss='binary_crossentropy',metrics=['accuracy'])"
      ],
      "execution_count": 0,
      "outputs": []
    },
    {
      "cell_type": "code",
      "metadata": {
        "id": "8FA_iJPsJdJB",
        "colab_type": "code",
        "colab": {
          "base_uri": "https://localhost:8080/",
          "height": 714
        },
        "outputId": "01ddf929-a614-4a03-d0fc-00dc94e5bdcb"
      },
      "source": [
        "history = model.fit(train_data,epochs=20,validation_data=validate_data,verbose=1 )"
      ],
      "execution_count": 43,
      "outputs": [
        {
          "output_type": "stream",
          "text": [
            "Train for 210 steps, validate for 36 steps\n",
            "Epoch 1/20\n",
            "210/210 [==============================] - 2s 9ms/step - loss: 0.3309 - accuracy: 0.8685 - val_loss: 0.1857 - val_accuracy: 0.9379\n",
            "Epoch 2/20\n",
            "210/210 [==============================] - 1s 7ms/step - loss: 0.1627 - accuracy: 0.9519 - val_loss: 0.1296 - val_accuracy: 0.9636\n",
            "Epoch 3/20\n",
            "210/210 [==============================] - 1s 7ms/step - loss: 0.1160 - accuracy: 0.9689 - val_loss: 0.1066 - val_accuracy: 0.9681\n",
            "Epoch 4/20\n",
            "210/210 [==============================] - 1s 7ms/step - loss: 0.0850 - accuracy: 0.9764 - val_loss: 0.0941 - val_accuracy: 0.9689\n",
            "Epoch 5/20\n",
            "210/210 [==============================] - 1s 7ms/step - loss: 0.0625 - accuracy: 0.9836 - val_loss: 0.0848 - val_accuracy: 0.9698\n",
            "Epoch 6/20\n",
            "210/210 [==============================] - 2s 7ms/step - loss: 0.0468 - accuracy: 0.9880 - val_loss: 0.0782 - val_accuracy: 0.9752\n",
            "Epoch 7/20\n",
            "210/210 [==============================] - 1s 7ms/step - loss: 0.0343 - accuracy: 0.9904 - val_loss: 0.0772 - val_accuracy: 0.9743\n",
            "Epoch 8/20\n",
            "210/210 [==============================] - 1s 7ms/step - loss: 0.0254 - accuracy: 0.9931 - val_loss: 0.0749 - val_accuracy: 0.9760\n",
            "Epoch 9/20\n",
            "210/210 [==============================] - 1s 7ms/step - loss: 0.0183 - accuracy: 0.9961 - val_loss: 0.0748 - val_accuracy: 0.9796\n",
            "Epoch 10/20\n",
            "210/210 [==============================] - 1s 7ms/step - loss: 0.0129 - accuracy: 0.9976 - val_loss: 0.0786 - val_accuracy: 0.9796\n",
            "Epoch 11/20\n",
            "210/210 [==============================] - 1s 7ms/step - loss: 0.0095 - accuracy: 0.9988 - val_loss: 0.0791 - val_accuracy: 0.9743\n",
            "Epoch 12/20\n",
            "210/210 [==============================] - 2s 7ms/step - loss: 0.0074 - accuracy: 0.9991 - val_loss: 0.0819 - val_accuracy: 0.9778\n",
            "Epoch 13/20\n",
            "210/210 [==============================] - 2s 7ms/step - loss: 0.0061 - accuracy: 0.9994 - val_loss: 0.0845 - val_accuracy: 0.9760\n",
            "Epoch 14/20\n",
            "210/210 [==============================] - 1s 7ms/step - loss: 0.0052 - accuracy: 0.9994 - val_loss: 0.0872 - val_accuracy: 0.9769\n",
            "Epoch 15/20\n",
            "210/210 [==============================] - 1s 7ms/step - loss: 0.0046 - accuracy: 0.9994 - val_loss: 0.0891 - val_accuracy: 0.9752\n",
            "Epoch 16/20\n",
            "210/210 [==============================] - 1s 7ms/step - loss: 0.0043 - accuracy: 0.9994 - val_loss: 0.0918 - val_accuracy: 0.9752\n",
            "Epoch 17/20\n",
            "210/210 [==============================] - 1s 7ms/step - loss: 0.0039 - accuracy: 0.9994 - val_loss: 0.0949 - val_accuracy: 0.9760\n",
            "Epoch 18/20\n",
            "210/210 [==============================] - 1s 6ms/step - loss: 0.0036 - accuracy: 0.9994 - val_loss: 0.0970 - val_accuracy: 0.9743\n",
            "Epoch 19/20\n",
            "210/210 [==============================] - 1s 7ms/step - loss: 0.0034 - accuracy: 0.9994 - val_loss: 0.0991 - val_accuracy: 0.9734\n",
            "Epoch 20/20\n",
            "210/210 [==============================] - 1s 7ms/step - loss: 0.0033 - accuracy: 0.9994 - val_loss: 0.1012 - val_accuracy: 0.9734\n"
          ],
          "name": "stdout"
        }
      ]
    },
    {
      "cell_type": "code",
      "metadata": {
        "id": "rIBvn_f_8K05",
        "colab_type": "code",
        "colab": {
          "base_uri": "https://localhost:8080/",
          "height": 34
        },
        "outputId": "44ffd4e9-d233-4de0-ab7e-d418de328692"
      },
      "source": [
        "loss, accuracy = model.evaluate(test_data)"
      ],
      "execution_count": 44,
      "outputs": [
        {
          "output_type": "stream",
          "text": [
            "69/69 [==============================] - 0s 1ms/step - loss: 0.1466 - accuracy: 0.9655\n"
          ],
          "name": "stdout"
        }
      ]
    },
    {
      "cell_type": "code",
      "metadata": {
        "id": "7gtspLYh8tKi",
        "colab_type": "code",
        "colab": {
          "base_uri": "https://localhost:8080/",
          "height": 263
        },
        "outputId": "0fa2120e-ec40-4302-f645-5d10d2c279d4"
      },
      "source": [
        "acc = history.history['accuracy']\n",
        "loss = history.history['loss']\n",
        "epoch = range(20)\n",
        "plt.figure(figsize=(10,8))\n",
        "ax1 = plt.subplot(2,2,1)\n",
        "ax1.plot(epoch,acc,label='Accuracy')\n",
        "ax2 = plt.subplot(2,2,2)\n",
        "ax2.plot(epoch,loss,label='loss')\n",
        "plt.legend()"
      ],
      "execution_count": 45,
      "outputs": [
        {
          "output_type": "execute_result",
          "data": {
            "text/plain": [
              "<matplotlib.legend.Legend at 0x7f15b5f69f28>"
            ]
          },
          "metadata": {
            "tags": []
          },
          "execution_count": 45
        },
        {
          "output_type": "display_data",
          "data": {
            "image/png": "[encoded data removed]",
            "text/plain": [
              "<Figure size 720x576 with 2 Axes>"
            ]
          },
          "metadata": {
            "tags": []
          }
        }
      ]
    },
    {
      "cell_type": "code",
      "metadata": {
        "id": "g-cRz31h_2Ya",
        "colab_type": "code",
        "colab": {
          "base_uri": "https://localhost:8080/",
          "height": 187
        },
        "outputId": "d3f45d43-c584-4049-fb98-292ae8f56e30"
      },
      "source": [
        "model.predict(example_data)"
      ],
      "execution_count": 46,
      "outputs": [
        {
          "output_type": "execute_result",
          "data": {
            "text/plain": [
              "array([[1.0000000e+00],\n",
              "       [9.9348819e-01],\n",
              "       [8.4312103e-07],\n",
              "       [9.9999976e-01],\n",
              "       [1.0000000e+00],\n",
              "       [1.8625345e-02],\n",
              "       [9.9999988e-01],\n",
              "       [9.9898881e-01],\n",
              "       [1.4717118e-06],\n",
              "       [9.8927387e-08]], dtype=float32)"
            ]
          },
          "metadata": {
            "tags": []
          },
          "execution_count": 46
        }
      ]
    },
    {
      "cell_type": "code",
      "metadata": {
        "id": "uxzF_05HguBh",
        "colab_type": "code",
        "colab": {
          "base_uri": "https://localhost:8080/",
          "height": 34
        },
        "outputId": "d920ca92-4f3c-4df6-eba0-3c28843842f8"
      },
      "source": [
        "\n",
        "data_spam_detection['Email'].astype(str)\n",
        "a=''\n",
        "for i in range(len(data_spam_detection)):\n",
        "  a = a+data_spam_detection['Email'].iloc[i]\n",
        "\n",
        "print(i)"
      ],
      "execution_count": 47,
      "outputs": [
        {
          "output_type": "stream",
          "text": [
            "5571\n"
          ],
          "name": "stdout"
        }
      ]
    },
    {
      "cell_type": "code",
      "metadata": {
        "id": "Te4kwI2-htuN",
        "colab_type": "code",
        "colab": {
          "base_uri": "https://localhost:8080/",
          "height": 34
        },
        "outputId": "e2339dd8-bdc4-421e-aacf-1be0c6c66399"
      },
      "source": [
        "tokenizer = tfds.features.text.Tokenizer()\n",
        "vocab_set = set()\n",
        "for text_tensor,text_label in train_dataset:\n",
        "  token = tokenizer.tokenize(text_tensor.numpy())\n",
        "  vocab_set.update(token)\n",
        "vocab_len = len(vocab_set)\n",
        "print(vocab_len)"
      ],
      "execution_count": 56,
      "outputs": [
        {
          "output_type": "stream",
          "text": [
            "8248\n"
          ],
          "name": "stdout"
        }
      ]
    },
    {
      "cell_type": "code",
      "metadata": {
        "id": "XdDc-8Iy4Ydn",
        "colab_type": "code",
        "colab": {}
      },
      "source": [
        "encoder = tfds.features.text.TokenTextEncoder(vocab_set)"
      ],
      "execution_count": 0,
      "outputs": []
    },
    {
      "cell_type": "code",
      "metadata": {
        "id": "cKKeB-vw5zsn",
        "colab_type": "code",
        "colab": {}
      },
      "source": [
        "def encode(data,label):\n",
        "  encoded_data = encoder.encode(data.numpy())\n",
        "  return encoded_data, label"
      ],
      "execution_count": 0,
      "outputs": []
    },
    {
      "cell_type": "code",
      "metadata": {
        "id": "JjQL5kaL6GAE",
        "colab_type": "code",
        "colab": {}
      },
      "source": [
        "def encode_fn(text,label):\n",
        "  return tf.py_function(encode,inp=[text,label],Tout=(tf.int64,tf.int64))\n",
        "\n",
        "train_dataset = train_dataset.map(encode_fn)\n",
        "validate_dataset = validate_dataset.map(encode_fn)"
      ],
      "execution_count": 0,
      "outputs": []
    },
    {
      "cell_type": "code",
      "metadata": {
        "id": "p3-YFPTg-Rxp",
        "colab_type": "code",
        "colab": {}
      },
      "source": [
        "train_data_new = train_dataset.shuffle(1000).batch(16)\n",
        "val_data_new = validate_dataset.batch(32)"
      ],
      "execution_count": 0,
      "outputs": []
    },
    {
      "cell_type": "code",
      "metadata": {
        "id": "qJRq8BhP7hO-",
        "colab_type": "code",
        "colab": {}
      },
      "source": [
        "model = tf.keras.Sequential()\n",
        "\n",
        "model.add(tf.keras.layers.Dense(32,activation='relu'))\n",
        "model.add(tf.keras.layers.Dense(1,activation='sigmoid'))"
      ],
      "execution_count": 0,
      "outputs": []
    },
    {
      "cell_type": "code",
      "metadata": {
        "id": "TJp-cUwY7x2j",
        "colab_type": "code",
        "colab": {}
      },
      "source": [
        "model.compile(optimizer='adam',loss='binary_crossentropy',metrics=['accuracy'])"
      ],
      "execution_count": 0,
      "outputs": []
    },
    {
      "cell_type": "code",
      "metadata": {
        "id": "EN2fihnCAMZ9",
        "colab_type": "code",
        "colab": {}
      },
      "source": [
        "history = model.fit(train_data_new,epochs=20,validation_data=val_data_new)"
      ],
      "execution_count": 0,
      "outputs": []
    }
  ]
}