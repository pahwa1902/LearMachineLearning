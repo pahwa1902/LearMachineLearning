{
  "nbformat": 4,
  "nbformat_minor": 0,
  "metadata": {
    "colab": {
      "name": "Untitled6.ipynb",
      "provenance": [],
      "include_colab_link": true
    },
    "kernelspec": {
      "name": "python3",
      "display_name": "Python 3"
    }
  },
  "cells": [
    {
      "cell_type": "markdown",
      "metadata": {
        "id": "view-in-github",
        "colab_type": "text"
      },
      "source": [
        "<a href=\"https://colab.research.google.com/github/pahwa1902/LearMachineLearning/blob/master/Untitled6.ipynb\" target=\"_parent\"><img src=\"https://colab.research.google.com/assets/colab-badge.svg\" alt=\"Open In Colab\"/></a>"
      ]
    },
    {
      "cell_type": "code",
      "metadata": {
        "id": "12shzFrBd2Av",
        "colab_type": "code",
        "outputId": "58abe785-2ff0-498c-c14b-343d3466bdee",
        "colab": {
          "base_uri": "https://localhost:8080/",
          "height": 34
        }
      },
      "source": [
        "import pandas as pd\n",
        "!git clone https://github.com/pahwa1902/LearMachineLearning.git\n",
        "\n"
      ],
      "execution_count": 23,
      "outputs": [
        {
          "output_type": "stream",
          "text": [
            "fatal: destination path 'LearMachineLearning' already exists and is not an empty directory.\n"
          ],
          "name": "stdout"
        }
      ]
    },
    {
      "cell_type": "code",
      "metadata": {
        "id": "4WhFP8uPlM8i",
        "colab_type": "code",
        "outputId": "01c8c0dd-584d-4f17-b3e5-c98e86e67a57",
        "colab": {
          "base_uri": "https://localhost:8080/",
          "height": 34
        }
      },
      "source": [
        "! ls LearMachineLearning"
      ],
      "execution_count": 24,
      "outputs": [
        {
          "output_type": "stream",
          "text": [
            "HDFCBANK.csv\n"
          ],
          "name": "stdout"
        }
      ]
    },
    {
      "cell_type": "code",
      "metadata": {
        "id": "mBtvAPPdlxU-",
        "colab_type": "code",
        "colab": {}
      },
      "source": [
        "data = pd.read_csv(\"LearMachineLearning/HDFCBANK.csv\")"
      ],
      "execution_count": 0,
      "outputs": []
    },
    {
      "cell_type": "code",
      "metadata": {
        "id": "uHXfakT7l_Jf",
        "colab_type": "code",
        "outputId": "dcddf8fd-83db-49d3-bc3a-99e505f2afb7",
        "colab": {
          "base_uri": "https://localhost:8080/",
          "height": 102
        }
      },
      "source": [
        "data_pd = pd.DataFrame(data)\n",
        "data_pd.head()\n",
        "print(data_pd.columns)\n",
        "data_pd['avgprice'] = data_pd['Average Price']\n",
        "data_pd['volume'] = data_pd['Total Traded Quantity']\n",
        "data_pd['totaltraded'] = data_pd['Total Traded Quantity']"
      ],
      "execution_count": 27,
      "outputs": [
        {
          "output_type": "stream",
          "text": [
            "Index(['Symbol', 'Series', 'Date', 'Prev Close', 'Open Price', 'High Price',\n",
            "       'Low Price', 'Last Price', 'Close Price', 'Average Price',\n",
            "       'Total Traded Quantity', 'Turnover', 'No. of Trades', 'Deliverable Qty',\n",
            "       '% Dly Qt to Traded Qty', 'avgprice', 'volume', 'totaltraded'],\n",
            "      dtype='object')\n"
          ],
          "name": "stdout"
        }
      ]
    },
    {
      "cell_type": "code",
      "metadata": {
        "id": "0LzCF5N5nnYr",
        "colab_type": "code",
        "outputId": "60651d3b-4aad-4491-c009-c95445e43754",
        "colab": {
          "base_uri": "https://localhost:8080/",
          "height": 272
        }
      },
      "source": [
        "data_hd=data_pd[data_pd['Series']==\"EQ\"]\n",
        "mean=data_hd[-90:]['Average Price'].mean()\n",
        "maximum = data_hd[-90:]['Average Price'].max()\n",
        "minimum= data_hd[-90:]['Average Price'].min()\n",
        "index = [i for i in range(len(data_pd))]\n",
        "print(len(index))\n",
        "data_hdfc = pd.DataFrame(data_hd,index)\n",
        "\n",
        "print(data_hdfc)"
      ],
      "execution_count": 28,
      "outputs": [
        {
          "output_type": "stream",
          "text": [
            "609\n",
            "       Symbol Series         Date  ...  avgprice     volume  totaltraded\n",
            "0    HDFCBANK     EQ  15-May-2017  ...   1550.73   701195.0     701195.0\n",
            "1         NaN    NaN          NaN  ...       NaN        NaN          NaN\n",
            "2    HDFCBANK     EQ  16-May-2017  ...   1555.11   897594.0     897594.0\n",
            "3    HDFCBANK     EQ  17-May-2017  ...   1557.51   868118.0     868118.0\n",
            "4         NaN    NaN          NaN  ...       NaN        NaN          NaN\n",
            "..        ...    ...          ...  ...       ...        ...          ...\n",
            "604  HDFCBANK     EQ  07-May-2019  ...   2338.90  2481051.0    2481051.0\n",
            "605  HDFCBANK     EQ  08-May-2019  ...   2304.51  3016052.0    3016052.0\n",
            "606  HDFCBANK     EQ  09-May-2019  ...   2287.67  2256931.0    2256931.0\n",
            "607  HDFCBANK     EQ  10-May-2019  ...   2306.93  2648550.0    2648550.0\n",
            "608  HDFCBANK     EQ  13-May-2019  ...   2297.73  2767908.0    2767908.0\n",
            "\n",
            "[609 rows x 18 columns]\n"
          ],
          "name": "stdout"
        }
      ]
    },
    {
      "cell_type": "code",
      "metadata": {
        "id": "Lk6q26n028St",
        "colab_type": "code",
        "outputId": "8fb9eda0-85d3-4c3e-c3dc-a99209b5799e",
        "colab": {
          "base_uri": "https://localhost:8080/",
          "height": 221
        }
      },
      "source": [
        "\n",
        "data_hdfc['Date'].astype('datetime64[ns]')\n"
      ],
      "execution_count": 29,
      "outputs": [
        {
          "output_type": "execute_result",
          "data": {
            "text/plain": [
              "0     2017-05-15\n",
              "1            NaT\n",
              "2     2017-05-16\n",
              "3     2017-05-17\n",
              "4            NaT\n",
              "         ...    \n",
              "604   2019-05-07\n",
              "605   2019-05-08\n",
              "606   2019-05-09\n",
              "607   2019-05-10\n",
              "608   2019-05-13\n",
              "Name: Date, Length: 609, dtype: datetime64[ns]"
            ]
          },
          "metadata": {
            "tags": []
          },
          "execution_count": 29
        }
      ]
    },
    {
      "cell_type": "code",
      "metadata": {
        "id": "ooHQOHck96Ca",
        "colab_type": "code",
        "colab": {}
      },
      "source": [
        "data_hdfc = data_hdfc.dropna()\n",
        "data_hdfc = data_hdfc.reset_index(drop=True)\n"
      ],
      "execution_count": 0,
      "outputs": []
    },
    {
      "cell_type": "code",
      "metadata": {
        "id": "h46gPDScBnyN",
        "colab_type": "code",
        "colab": {}
      },
      "source": [
        "date = data_hdfc['Date']\n",
        "month = []\n",
        "year = []\n",
        "for i in range(0,len(data_hdfc)):\n",
        "  \n",
        "  datee = date[i].split(\"-\")\n",
        "  month.append(datee[1])\n",
        "  year.append(datee[2])\n",
        "data_hdfc['month'] = month\n",
        "data_hdfc['year'] = year"
      ],
      "execution_count": 0,
      "outputs": []
    },
    {
      "cell_type": "code",
      "metadata": {
        "id": "7YnrHYbGbsXU",
        "colab_type": "code",
        "outputId": "8720edab-8f79-4ad7-cf22-1b89af2cdb17",
        "colab": {
          "base_uri": "https://localhost:8080/",
          "height": 255
        }
      },
      "source": [
        "print(data_hdfc)\n"
      ],
      "execution_count": 32,
      "outputs": [
        {
          "output_type": "stream",
          "text": [
            "       Symbol Series         Date  ...  totaltraded  month  year\n",
            "0    HDFCBANK     EQ  15-May-2017  ...     701195.0    May  2017\n",
            "1    HDFCBANK     EQ  16-May-2017  ...     897594.0    May  2017\n",
            "2    HDFCBANK     EQ  17-May-2017  ...     868118.0    May  2017\n",
            "3    HDFCBANK     EQ  18-May-2017  ...     776820.0    May  2017\n",
            "4    HDFCBANK     EQ  19-May-2017  ...     713534.0    May  2017\n",
            "..        ...    ...          ...  ...          ...    ...   ...\n",
            "489  HDFCBANK     EQ  07-May-2019  ...    2481051.0    May  2019\n",
            "490  HDFCBANK     EQ  08-May-2019  ...    3016052.0    May  2019\n",
            "491  HDFCBANK     EQ  09-May-2019  ...    2256931.0    May  2019\n",
            "492  HDFCBANK     EQ  10-May-2019  ...    2648550.0    May  2019\n",
            "493  HDFCBANK     EQ  13-May-2019  ...    2767908.0    May  2019\n",
            "\n",
            "[494 rows x 20 columns]\n"
          ],
          "name": "stdout"
        }
      ]
    },
    {
      "cell_type": "code",
      "metadata": {
        "id": "2xf514oglJAK",
        "colab_type": "code",
        "outputId": "e81ead89-afe2-48d1-f9ca-0e278f344e28",
        "colab": {
          "base_uri": "https://localhost:8080/",
          "height": 476
        }
      },
      "source": [
        "data_hdfc['pricevolume'] = data_hdfc['avgprice']*data_hdfc['volume']\n",
        "\n",
        "data_hdf = data_hdfc.groupby(['year','month']).pricevolume.agg([sum])\n",
        "data_hdf['vol'] = data_hdfc.groupby(['year','month']).volume.agg([sum])\n",
        "data_hdf['vwap'] = data_hdf['sum']/data_hdf['vol']\n",
        "print(data_hdf)"
      ],
      "execution_count": 33,
      "outputs": [
        {
          "output_type": "stream",
          "text": [
            "                     sum         vol         vwap\n",
            "year month                                       \n",
            "2017 Aug    4.530067e+10  25634365.0  1767.185065\n",
            "     Dec    5.523342e+10  29716571.0  1858.673990\n",
            "     Jul    5.392299e+10  31346795.0  1720.207309\n",
            "     Jun    3.895616e+10  23376096.0  1666.495681\n",
            "     May    2.650154e+10  16610013.0  1595.515716\n",
            "     Nov    4.665281e+10  25459963.0  1832.399125\n",
            "     Oct    6.104812e+10  33680354.0  1812.573647\n",
            "     Sep    7.050304e+10  39056437.0  1805.158131\n",
            "2018 Apr    5.080188e+10  26318977.0  1930.237557\n",
            "     Aug    1.077925e+11  51416350.0  2096.463573\n",
            "     Dec    9.979939e+10  47497880.0  2101.133629\n",
            "     Feb    5.218904e+10  27602788.0  1890.716324\n",
            "     Jan    6.878462e+10  35760436.0  1923.483737\n",
            "     Jul    1.100811e+11  51000163.0  2158.446639\n",
            "     Jun    1.785253e+11  85691101.0  2083.359050\n",
            "     Mar    5.284261e+10  28352209.0  1863.791575\n",
            "     May    8.025579e+10  39518909.0  2030.820000\n",
            "     Nov    1.376557e+11  68777510.0  2001.463649\n",
            "     Oct    1.628201e+11  82731593.0  1968.051768\n",
            "     Sep    1.106056e+11  55430133.0  1995.405673\n",
            "2019 Apr    1.754716e+11  77276083.0  2270.709955\n",
            "     Feb    9.110229e+10  43148609.0  2111.360923\n",
            "     Jan    1.158254e+11  55045470.0  2104.177583\n",
            "     Mar    1.620369e+11  72835637.0  2224.692286\n",
            "     May    5.581139e+10  23987720.0  2326.665017\n"
          ],
          "name": "stdout"
        }
      ]
    },
    {
      "cell_type": "code",
      "metadata": {
        "id": "mlDPB0vknzbq",
        "colab_type": "code",
        "colab": {}
      },
      "source": [
        "def avgp(days):\n",
        "  data_days = data_hdfc[-days:]\n",
        "  return sum(data_days['avgprice'])/days\n",
        "\n",
        "def avg(days):\n",
        "  \n",
        "  return (data_days[-1]['Close Price']/data_days[-days]['Close Price']-1)*100"
      ],
      "execution_count": 0,
      "outputs": []
    },
    {
      "cell_type": "code",
      "metadata": {
        "id": "zMSgMJ6WE6CH",
        "colab_type": "code",
        "outputId": "51bc9f5b-0dc5-4ce9-d69c-8f6e373e1adb",
        "colab": {
          "base_uri": "https://localhost:8080/",
          "height": 340
        }
      },
      "source": [
        "closing = data_hdfc['Close Price']\n",
        "data_hdfc['day_perc_change'] = closing.pct_change()\n",
        "data_hdfc['day_perc_change'][0] = 0\n",
        "\n",
        "data_hdfc = data_hdfc.reindex(columns=data_hdfc.columns.tolist() + ['trend'])\n",
        "print(data_hdfc)"
      ],
      "execution_count": 35,
      "outputs": [
        {
          "output_type": "stream",
          "text": [
            "       Symbol Series         Date  ...   pricevolume  day_perc_change  trend\n",
            "0    HDFCBANK     EQ  15-May-2017  ...  1.087364e+09         0.000000    NaN\n",
            "1    HDFCBANK     EQ  16-May-2017  ...  1.395857e+09         0.004023    NaN\n",
            "2    HDFCBANK     EQ  17-May-2017  ...  1.352102e+09        -0.001603    NaN\n",
            "3    HDFCBANK     EQ  18-May-2017  ...  1.209501e+09        -0.000032    NaN\n",
            "4    HDFCBANK     EQ  19-May-2017  ...  1.110922e+09         0.002665    NaN\n",
            "..        ...    ...          ...  ...           ...              ...    ...\n",
            "489  HDFCBANK     EQ  07-May-2019  ...  5.802930e+09        -0.002620    NaN\n",
            "490  HDFCBANK     EQ  08-May-2019  ...  6.950522e+09        -0.006502    NaN\n",
            "491  HDFCBANK     EQ  09-May-2019  ...  5.163113e+09        -0.007086    NaN\n",
            "492  HDFCBANK     EQ  10-May-2019  ...  6.110019e+09         0.002444    NaN\n",
            "493  HDFCBANK     EQ  13-May-2019  ...  6.359905e+09        -0.004050    NaN\n",
            "\n",
            "[494 rows x 23 columns]\n"
          ],
          "name": "stdout"
        },
        {
          "output_type": "stream",
          "text": [
            "/usr/local/lib/python3.6/dist-packages/ipykernel_launcher.py:3: SettingWithCopyWarning: \n",
            "A value is trying to be set on a copy of a slice from a DataFrame\n",
            "\n",
            "See the caveats in the documentation: http://pandas.pydata.org/pandas-docs/stable/user_guide/indexing.html#returning-a-view-versus-a-copy\n",
            "  This is separate from the ipykernel package so we can avoid doing imports until\n"
          ],
          "name": "stderr"
        }
      ]
    },
    {
      "cell_type": "code",
      "metadata": {
        "id": "JPMrskYWaUpF",
        "colab_type": "code",
        "colab": {
          "base_uri": "https://localhost:8080/",
          "height": 187
        },
        "outputId": "8f251c65-3f83-4f7a-aee4-5f31fd043276"
      },
      "source": [
        "for i in range(len(data_hdfc)):\n",
        "  if(-0.5<data_hdfc['day_perc_change'][i]<0.5):\n",
        "    data_hdfc['trend'][i]= 'Slight or No change'\n",
        "  if(0.5<data_hdfc['day_perc_change'][i]<1):\n",
        "    data_hdfc['trend'][i]= 'Slight positive'\n",
        "  if(-1<data_hdfc['day_perc_change'][i]<-0.5):\n",
        "    data_hdfc['trend'][i] = 'Slight negative'\n",
        "  if(1<data_hdfc['day_perc_change'][i]<3):\n",
        "    data_hdfc['trend'][i] = 'Positive'\n",
        "  if(-3<data_hdfc['day_perc_change'][i]<-1):\n",
        "    data_hdfc['trend'][i] = 'Negative'\n",
        "  if(3<data_hdfc['day_perc_change'][i]<7):\n",
        "    data_hdfc['trend'][i] = 'Among top gainers'\n",
        "  if(-7<data_hdfc['day_perc_change'][i]<-3):\n",
        "    data_hdfc['trend'][i] = 'Among top losers'\n",
        "  if(data_hdfc['day_perc_change'][i]>7):\n",
        "    data_hdfc['trend'][i] = 'Bull run'\n",
        "  if(data_hdfc['day_perc_change'][i]<-7):\n",
        "    data_hdfc['trend'][i] = 'Bear drop'"
      ],
      "execution_count": 36,
      "outputs": [
        {
          "output_type": "stream",
          "text": [
            "/usr/local/lib/python3.6/dist-packages/ipykernel_launcher.py:3: SettingWithCopyWarning: \n",
            "A value is trying to be set on a copy of a slice from a DataFrame\n",
            "\n",
            "See the caveats in the documentation: http://pandas.pydata.org/pandas-docs/stable/user_guide/indexing.html#returning-a-view-versus-a-copy\n",
            "  This is separate from the ipykernel package so we can avoid doing imports until\n",
            "/usr/local/lib/python3.6/dist-packages/pandas/core/indexing.py:205: SettingWithCopyWarning: \n",
            "A value is trying to be set on a copy of a slice from a DataFrame\n",
            "\n",
            "See the caveats in the documentation: http://pandas.pydata.org/pandas-docs/stable/user_guide/indexing.html#returning-a-view-versus-a-copy\n",
            "  self._setitem_with_indexer(indexer, value)\n"
          ],
          "name": "stderr"
        }
      ]
    },
    {
      "cell_type": "code",
      "metadata": {
        "id": "qB6_dhssFon2",
        "colab_type": "code",
        "outputId": "2829fa2b-1dc0-4a47-88c7-b19c522f6b9a",
        "colab": {
          "base_uri": "https://localhost:8080/",
          "height": 34
        }
      },
      "source": [
        "set(data_hdfc['trend'])"
      ],
      "execution_count": 37,
      "outputs": [
        {
          "output_type": "execute_result",
          "data": {
            "text/plain": [
              "{'Slight or No change'}"
            ]
          },
          "metadata": {
            "tags": []
          },
          "execution_count": 37
        }
      ]
    },
    {
      "cell_type": "code",
      "metadata": {
        "id": "oBuvkm8ECZXs",
        "colab_type": "code",
        "outputId": "b0130c37-9afa-41f7-8eed-e5987f99861d",
        "colab": {
          "base_uri": "https://localhost:8080/",
          "height": 68
        }
      },
      "source": [
        "data_trend = data_hdfc.groupby('trend').totaltraded.agg(['sum','median'])\n",
        "data_trend['size'] = data_hdfc.groupby('trend').size()\n",
        "data_trend['avg'] = data_trend['sum']/data_trend['size']\n",
        "print(data_trend)"
      ],
      "execution_count": 39,
      "outputs": [
        {
          "output_type": "stream",
          "text": [
            "                              sum     median  size           avg\n",
            "trend                                                           \n",
            "Slight or No change  1.097272e+09  1773904.5   494  2.221199e+06\n"
          ],
          "name": "stdout"
        }
      ]
    }
  ]
}